{
 "cells": [
  {
   "cell_type": "markdown",
   "source": "![mrna](Images/mrna.jpg)",
   "metadata": {
    "tags": [],
    "cell_id": "00001-5ae8af0a-f74b-48df-9e0e-2564dd4ba46e",
    "deepnote_cell_type": "markdown"
   }
  },
  {
   "cell_type": "markdown",
   "source": "[![stanford](https://img.shields.io/badge/OpenVaccine-COVID_19_mRNA_Vaccine_Degradation_Prediction-00c0ff?logo=Kaggle&logoColor=white&style=for-the-badge)](https://www.kaggle.com/c/stanford-covid-vaccine)",
   "metadata": {
    "tags": [],
    "cell_id": "00001-be995f33-d37a-4cf0-a0c1-d2aa1683014a",
    "deepnote_cell_type": "markdown"
   }
  },
  {
   "cell_type": "markdown",
   "source": "# Introduction",
   "metadata": {
    "tags": [],
    "cell_id": "00002-72521905-6f85-47b4-ad6d-3d9bd897c1bd",
    "deepnote_cell_type": "markdown"
   }
  },
  {
   "cell_type": "markdown",
   "source": "Winning the fight against the COVID-19 pandemic will require an effective vaccine that can be equitably and widely distributed. Building upon decades of research has allowed scientists to accelerate the search for a vaccine against COVID-19, but every day that goes by without a vaccine has enormous costs for the world nonetheless. We need new, fresh ideas from all corners of the world. Could online gaming and crowdsourcing help solve a worldwide pandemic? Pairing scientific and crowdsourced intelligence could help computational biochemists make measurable progress.\n\n## mRNA Vaccine\n\nmRNA vaccines have taken the lead as the fastest vaccine candidates for COVID-19, but currently, they face key potential limitations. One of the biggest challenges right now is how to design super stable messenger RNA molecules (mRNA). Conventional vaccines (like your seasonal flu shots) are packaged in disposable syringes and shipped under refrigeration around the world, but that is not currently possible for mRNA vaccines.\n\n## mRNA Stability Issue\n\nResearchers have observed that RNA molecules have the tendency to spontaneously degrade. This is a serious limitation--a single cut can render the mRNA vaccine useless. Currently, little is known on the details of where in the backbone of a given RNA is most prone to being affected. Without this knowledge, current mRNA vaccines against COVID-19 must be prepared and shipped under intense refrigeration, and are unlikely to reach more than a tiny fraction of human beings on the planet unless they can be stabilized.",
   "metadata": {
    "tags": [],
    "cell_id": "00001-f5190d1f-0a6f-4f9f-8199-3b43b00c5610",
    "deepnote_cell_type": "markdown"
   }
  },
  {
   "cell_type": "markdown",
   "source": "## Building Predictive Model\nWe need to design the model that will predict likely degradation rates at each base of an RNA molecule, trained on a subset of an Eterna dataset comprising over 3000 RNA molecules (which span a panoply of sequences and structures) and their degradation rates at each position.\n\n## Improving Stability of mRNA\nImproving the stability of mRNA vaccines was a problem that was being explored before the pandemic but was expected to take many years to solve.Now, we must solve this deep scientific challenge in months, if not weeks, to accelerate mRNA vaccine research and deliver a refrigerator-stable vaccine against SARS-CoV-2, the virus behind COVID-19.",
   "metadata": {
    "tags": [],
    "cell_id": "00001-890163bd-e070-48b1-9cd0-21ef300936e8",
    "deepnote_cell_type": "markdown"
   }
  },
  {
   "cell_type": "markdown",
   "source": "![Picture title](Images/image-20210621-125546.png)",
   "metadata": {
    "tags": [],
    "cell_id": "00020-521b8a37-48bb-466e-bae9-8cd1a440024a",
    "deepnote_cell_type": "markdown"
   }
  },
  {
   "cell_type": "markdown",
   "source": "# Getting Ready",
   "metadata": {
    "tags": [],
    "cell_id": "00002-81a9607f-c589-4c58-8226-8a6992c11673",
    "deepnote_cell_type": "markdown"
   }
  },
  {
   "cell_type": "code",
   "metadata": {
    "_uuid": "8f2839f25d086af736a60e9eeb907d3b93b6e0e5",
    "_cell_guid": "b1076dfc-b9ad-4769-8c92-a6c4dae69d19",
    "execution": {
     "iopub.status.busy": "2021-06-19T12:57:22.074857Z",
     "iopub.execute_input": "2021-06-19T12:57:22.075272Z",
     "iopub.status.idle": "2021-06-19T12:57:22.086016Z",
     "shell.execute_reply.started": "2021-06-19T12:57:22.075240Z",
     "shell.execute_reply": "2021-06-19T12:57:22.080208Z"
    },
    "trusted": true,
    "cell_id": "00001-71334c9f-34ce-4326-b3f0-d7ef5e41c55c",
    "deepnote_to_be_reexecuted": false,
    "source_hash": "d0773907",
    "execution_start": 1624282803552,
    "execution_millis": 4385,
    "deepnote_cell_type": "code"
   },
   "source": "# Dataframe\nimport json\nimport pandas as pd\nimport numpy as np\n# Visualization\nimport plotly.express as px\n# Deeplearning\nimport tensorflow.keras.layers as L\nimport tensorflow as tf\n# Sklearn\nfrom sklearn.model_selection import train_test_split\n#Setting seeds\ntf.random.set_seed(2021)\nnp.random.seed(2021)",
   "outputs": [],
   "execution_count": null
  },
  {
   "cell_type": "code",
   "metadata": {
    "execution": {
     "iopub.status.busy": "2021-06-19T12:57:22.175849Z",
     "iopub.execute_input": "2021-06-19T12:57:22.176518Z",
     "iopub.status.idle": "2021-06-19T12:57:22.185203Z",
     "shell.execute_reply.started": "2021-06-19T12:57:22.176450Z",
     "shell.execute_reply": "2021-06-19T12:57:22.184211Z"
    },
    "trusted": true,
    "cell_id": "00005-2bc23f12-e0e6-4a1e-b0d5-e74917fd80f6",
    "deepnote_to_be_reexecuted": false,
    "source_hash": "fdddb229",
    "execution_start": 1624282807940,
    "execution_millis": 1,
    "deepnote_cell_type": "code"
   },
   "source": "# This will tell us the columns we are predicting\ntarget_cols = ['reactivity', 'deg_Mg_pH10', 'deg_Mg_50C', 'deg_pH10', 'deg_50C']\nModel_Train = True # True if you want to Train model which take 1 hour to train.",
   "outputs": [],
   "execution_count": null
  },
  {
   "cell_type": "markdown",
   "source": "## Metric",
   "metadata": {
    "tags": [],
    "cell_id": "00007-1966956b-2438-42dc-bde5-86037c01720b",
    "deepnote_cell_type": "markdown"
   }
  },
  {
   "cell_type": "markdown",
   "source": "![Picture title](Images/image-20210621-122600.png)\n![Picture title](Images/image-20210621-122723.png)",
   "metadata": {
    "tags": [],
    "cell_id": "00009-c21059b8-967e-4a7c-9bac-ba382a67f0c1",
    "deepnote_cell_type": "markdown"
   }
  },
  {
   "cell_type": "code",
   "metadata": {
    "execution": {
     "iopub.status.busy": "2021-06-19T12:57:22.205942Z",
     "iopub.execute_input": "2021-06-19T12:57:22.206790Z",
     "iopub.status.idle": "2021-06-19T12:57:22.212937Z",
     "shell.execute_reply.started": "2021-06-19T12:57:22.206741Z",
     "shell.execute_reply": "2021-06-19T12:57:22.211345Z"
    },
    "trusted": true,
    "cell_id": "00007-d68554b8-56c8-4762-a59d-c3e81d401961",
    "deepnote_to_be_reexecuted": false,
    "source_hash": "ecfa1e94",
    "execution_start": 1624282807944,
    "execution_millis": 2,
    "deepnote_cell_type": "code"
   },
   "source": "def MCRMSE(y_true, y_pred):## Monte Carlo root mean squared errors \n    colwise_mse = tf.reduce_mean(tf.square(y_true - y_pred), axis=1)\n    return tf.reduce_mean(tf.sqrt(colwise_mse), axis=1)",
   "outputs": [],
   "execution_count": null
  },
  {
   "cell_type": "markdown",
   "source": "# Loading Data",
   "metadata": {
    "cell_id": "00012-46555958-e4c6-41d1-9395-2a190bb91ae0",
    "deepnote_cell_type": "markdown"
   }
  },
  {
   "cell_type": "markdown",
   "source": "[![stanford](https://img.shields.io/badge/Stanford_University-OpenVaccine-800080?logo=Kaggle&logoColor=white&style=for-the-badge)](https://www.kaggle.com/c/stanford-covid-vaccine/data)",
   "metadata": {
    "tags": [],
    "cell_id": "00018-1446efba-96cc-4f83-92e2-1675d2a85d6c",
    "deepnote_cell_type": "markdown"
   }
  },
  {
   "cell_type": "markdown",
   "source": "## Columns detail explaination \n- **id** - An arbitrary identifier for each sample.\n- **seq_scored** - (68 in Train and Public Test, 91 in Private Test) Integer value denoting the number of positions used in scoring with predicted values. This should match the length of reactivity, deg_* and *_error_* columns. Note that molecules used for the Private Test will be longer than those in the Train and Public Test data, so the size of this vector will be different.\n- **seq_length** - (107 in Train and Public Test, 130 in Private Test) Integer values, denotes the length of sequence. Note that molecules used for the Private Test will be longer than those in the Train and Public Test data, so the size of this vector will be different.\n- **sequence** - (1x107 string in Train and Public Test, 130 in Private Test) Describes the RNA sequence, a combination of A, G, U, and C for each sample. Should be 107 characters long, and the first 68 bases should correspond to the 68 positions specified in seq_scored (note: indexed starting at 0).\n- **structure** - (1x107 string in Train and Public Test, 130 in Private Test) An array of (, ), and . characters that describe whether a base is estimated to be paired or unpaired. Paired bases are denoted by opening and closing parentheses e.g. (....) means that base 0 is paired to base 5, and bases 1-4 are unpaired.\n- **reactivity** - (1x68 vector in Train and Public Test, 1x91 in Private Test) An array of floating point numbers, should have the same length as seq_scored. These numbers are reactivity values for the first 68 bases as denoted in sequence, and used to determine the likely secondary structure of the RNA sample.\n- **deg_pH10** - (1x68 vector in Train and Public Test, 1x91 in Private Test) An array of floating point numbers, should have the same length as seq_scored. These numbers are reactivity values for the first 68 bases as denoted in sequence, and used to determine the likelihood of degradation at the base/linkage after incubating without magnesium at high pH (pH 10).\n- **deg_Mg_pH10** - (1x68 vector in Train and Public Test, 1x91 in Private Test) An array of floating point numbers, should have the same length as seq_scored. These numbers are reactivity values for the first 68 bases as denoted in sequence, and used to determine the likelihood of degradation at the base/linkage after incubating with magnesium in high pH (pH 10).\n- **deg_50C** - (1x68 vector in Train and Public Test, 1x91 in Private Test) An array of floating point numbers, should have the same length as seq_scored. These numbers are reactivity values for the first 68 bases as denoted in sequence, and used to determine the likelihood of degradation at the base/linkage after incubating without magnesium at high temperature (50 degrees Celsius).\n- **deg_Mg_50C** - (1x68 vector in Train and Public Test, 1x91 in Private Test) An array of floating point numbers, should have the same length as seq_scored. These numbers are reactivity values for the first 68 bases as denoted in sequence, and used to determine the likelihood of degradation at the base/linkage after incubating with magnesium at high temperature (50 degrees Celsius).\n*_error_* - An array of floating point numbers, should have the same length as the corresponding reactivity or deg_* columns, calculated errors in experimental values obtained in reactivity and deg_* columns.\n- **predicted_loop_type** - (1x107 string) Describes the structural context (also referred to as 'loop type')of each character in sequence. Loop types assigned by bpRNA from Vienna RNAfold 2 structure. From the bpRNA_documentation: S: paired \"Stem\" M: Multiloop I: Internal loop B: Bulge H: Hairpin loop E: dangling End X: eXternal loop\nS/N filter Indicates if the sample passed filters described below in Additional Notes.",
   "metadata": {
    "tags": [],
    "cell_id": "00021-9db48307-60f0-4af0-b231-8e5e66568e20",
    "deepnote_cell_type": "markdown"
   }
  },
  {
   "cell_type": "markdown",
   "source": "## Observing Data",
   "metadata": {
    "tags": [],
    "cell_id": "00021-18eeaf46-5974-4c23-a355-0bd5b4f76b37",
    "deepnote_cell_type": "markdown"
   }
  },
  {
   "cell_type": "code",
   "metadata": {
    "execution": {
     "iopub.status.busy": "2021-06-19T12:57:22.276678Z",
     "iopub.execute_input": "2021-06-19T12:57:22.277114Z",
     "iopub.status.idle": "2021-06-19T12:57:23.034152Z",
     "shell.execute_reply.started": "2021-06-19T12:57:22.277080Z",
     "shell.execute_reply": "2021-06-19T12:57:23.033043Z"
    },
    "trusted": true,
    "cell_id": "00013-122c8b1b-c2ae-4f0e-bdb9-eb02afb383db",
    "deepnote_to_be_reexecuted": false,
    "source_hash": "88b9c6cd",
    "execution_start": 1624282807949,
    "execution_millis": 672,
    "deepnote_cell_type": "code"
   },
   "source": "data_dir = \"stanford-covid-vaccine/\"\ntrain = pd.read_json(data_dir + \"train.json\", lines=True)\ntest = pd.read_json(data_dir + \"test.json\", lines=True)\nsample_df = pd.read_csv(data_dir + \"sample_submission.csv\")\n",
   "outputs": [],
   "execution_count": null
  },
  {
   "cell_type": "markdown",
   "source": "we have sequence, structure and predicted loop type which are text formate and we have to convert them into token to train the model. Then we have arrays with in columns from reactivity_error to deg_50C.",
   "metadata": {
    "tags": [],
    "cell_id": "00019-4458e71b-92dd-4554-929a-65214dd34454",
    "deepnote_cell_type": "markdown"
   }
  },
  {
   "cell_type": "code",
   "metadata": {
    "tags": [],
    "cell_id": "00014-85e735cf-6bac-4c15-9901-076366d25518",
    "deepnote_to_be_reexecuted": false,
    "source_hash": "3d26227d",
    "execution_start": 1624282808663,
    "execution_millis": 60,
    "deepnote_cell_type": "code"
   },
   "source": "train.head(2)",
   "outputs": [
    {
     "output_type": "execute_result",
     "execution_count": 5,
     "data": {
      "application/vnd.deepnote.dataframe.v2+json": {
       "row_count": 2,
       "column_count": 19,
       "columns": [
        {
         "name": "index",
         "dtype": "int64",
         "stats": {
          "unique_count": 2,
          "nan_count": 0,
          "min": "0",
          "max": "1",
          "histogram": [
           {
            "bin_start": 0,
            "bin_end": 0.1,
            "count": 1
           },
           {
            "bin_start": 0.1,
            "bin_end": 0.2,
            "count": 0
           },
           {
            "bin_start": 0.2,
            "bin_end": 0.30000000000000004,
            "count": 0
           },
           {
            "bin_start": 0.30000000000000004,
            "bin_end": 0.4,
            "count": 0
           },
           {
            "bin_start": 0.4,
            "bin_end": 0.5,
            "count": 0
           },
           {
            "bin_start": 0.5,
            "bin_end": 0.6000000000000001,
            "count": 0
           },
           {
            "bin_start": 0.6000000000000001,
            "bin_end": 0.7000000000000001,
            "count": 0
           },
           {
            "bin_start": 0.7000000000000001,
            "bin_end": 0.8,
            "count": 0
           },
           {
            "bin_start": 0.8,
            "bin_end": 0.9,
            "count": 0
           },
           {
            "bin_start": 0.9,
            "bin_end": 1,
            "count": 1
           }
          ]
         }
        },
        {
         "name": "id",
         "dtype": "object",
         "stats": {
          "unique_count": 2,
          "nan_count": 0,
          "categories": [
           {
            "name": "id_001f94081",
            "count": 1
           },
           {
            "name": "id_0049f53ba",
            "count": 1
           }
          ]
         }
        },
        {
         "name": "sequence",
         "dtype": "object",
         "stats": {
          "unique_count": 2,
          "nan_count": 0,
          "categories": [
           {
            "name": "GGAAAAGCUCUAAUAACAGGAGACUAGGACUACGUAUUUCUAGGUAACUGGAAUAACCCAUACCAGCAGUUAGAGUUCGCUCUAACAAAAGAAACAACAACAACAAC",
            "count": 1
           },
           {
            "name": "GGAAAAAGCGCGCGCGGUUAGCGCGCGCUUUUGCGCGCGCUGUACCGCGCGCGCUUAUGCAAGUUGCCCGCGGCGUUCGCGCUGUGAAAAGAAACAACAACAACAAC",
            "count": 1
           }
          ]
         }
        },
        {
         "name": "structure",
         "dtype": "object",
         "stats": {
          "unique_count": 2,
          "nan_count": 0,
          "categories": [
           {
            "name": ".....((((((.......)))).)).((.....((..((((((....))))))..)).....))....(((((((....))))))).....................",
            "count": 1
           },
           {
            "name": ".....(((((((((((((((((((((((....)))))))))).)))))))))))))..(((...))).(((((((....))))))).....................",
            "count": 1
           }
          ]
         }
        },
        {
         "name": "predicted_loop_type",
         "dtype": "object",
         "stats": {
          "unique_count": 2,
          "nan_count": 0,
          "categories": [
           {
            "name": "EEEEESSSSSSHHHHHHHSSSSBSSXSSIIIIISSIISSSSSSHHHHSSSSSSIISSIIIIISSXXXXSSSSSSSHHHHSSSSSSSEEEEEEEEEEEEEEEEEEEEE",
            "count": 1
           },
           {
            "name": "EEEEESSSSSSSSSSSSSSSSSSSSSSSHHHHSSSSSSSSSSBSSSSSSSSSSSSSMMSSSHHHSSSMSSSSSSSHHHHSSSSSSSEEEEEEEEEEEEEEEEEEEEE",
            "count": 1
           }
          ]
         }
        },
        {
         "name": "signal_to_noise",
         "dtype": "float64",
         "stats": {
          "unique_count": 2,
          "nan_count": 0,
          "min": "0.193",
          "max": "6.894",
          "histogram": [
           {
            "bin_start": 0.193,
            "bin_end": 0.8631,
            "count": 1
           },
           {
            "bin_start": 0.8631,
            "bin_end": 1.5332000000000001,
            "count": 0
           },
           {
            "bin_start": 1.5332000000000001,
            "bin_end": 2.2033,
            "count": 0
           },
           {
            "bin_start": 2.2033,
            "bin_end": 2.8734,
            "count": 0
           },
           {
            "bin_start": 2.8734,
            "bin_end": 3.5435000000000003,
            "count": 0
           },
           {
            "bin_start": 3.5435000000000003,
            "bin_end": 4.2136,
            "count": 0
           },
           {
            "bin_start": 4.2136,
            "bin_end": 4.8837,
            "count": 0
           },
           {
            "bin_start": 4.8837,
            "bin_end": 5.5538,
            "count": 0
           },
           {
            "bin_start": 5.5538,
            "bin_end": 6.2238999999999995,
            "count": 0
           },
           {
            "bin_start": 6.2238999999999995,
            "bin_end": 6.894,
            "count": 1
           }
          ]
         }
        },
        {
         "name": "SN_filter",
         "dtype": "int64",
         "stats": {
          "unique_count": 2,
          "nan_count": 0,
          "min": "0",
          "max": "1",
          "histogram": [
           {
            "bin_start": 0,
            "bin_end": 0.1,
            "count": 1
           },
           {
            "bin_start": 0.1,
            "bin_end": 0.2,
            "count": 0
           },
           {
            "bin_start": 0.2,
            "bin_end": 0.30000000000000004,
            "count": 0
           },
           {
            "bin_start": 0.30000000000000004,
            "bin_end": 0.4,
            "count": 0
           },
           {
            "bin_start": 0.4,
            "bin_end": 0.5,
            "count": 0
           },
           {
            "bin_start": 0.5,
            "bin_end": 0.6000000000000001,
            "count": 0
           },
           {
            "bin_start": 0.6000000000000001,
            "bin_end": 0.7000000000000001,
            "count": 0
           },
           {
            "bin_start": 0.7000000000000001,
            "bin_end": 0.8,
            "count": 0
           },
           {
            "bin_start": 0.8,
            "bin_end": 0.9,
            "count": 0
           },
           {
            "bin_start": 0.9,
            "bin_end": 1,
            "count": 1
           }
          ]
         }
        },
        {
         "name": "seq_length",
         "dtype": "int64",
         "stats": {
          "unique_count": 1,
          "nan_count": 0,
          "min": "107",
          "max": "107",
          "histogram": [
           {
            "bin_start": 106.5,
            "bin_end": 106.6,
            "count": 0
           },
           {
            "bin_start": 106.6,
            "bin_end": 106.7,
            "count": 0
           },
           {
            "bin_start": 106.7,
            "bin_end": 106.8,
            "count": 0
           },
           {
            "bin_start": 106.8,
            "bin_end": 106.9,
            "count": 0
           },
           {
            "bin_start": 106.9,
            "bin_end": 107,
            "count": 0
           },
           {
            "bin_start": 107,
            "bin_end": 107.1,
            "count": 2
           },
           {
            "bin_start": 107.1,
            "bin_end": 107.2,
            "count": 0
           },
           {
            "bin_start": 107.2,
            "bin_end": 107.3,
            "count": 0
           },
           {
            "bin_start": 107.3,
            "bin_end": 107.4,
            "count": 0
           },
           {
            "bin_start": 107.4,
            "bin_end": 107.5,
            "count": 0
           }
          ]
         }
        },
        {
         "name": "seq_scored",
         "dtype": "int64",
         "stats": {
          "unique_count": 1,
          "nan_count": 0,
          "min": "68",
          "max": "68",
          "histogram": [
           {
            "bin_start": 67.5,
            "bin_end": 67.6,
            "count": 0
           },
           {
            "bin_start": 67.6,
            "bin_end": 67.7,
            "count": 0
           },
           {
            "bin_start": 67.7,
            "bin_end": 67.8,
            "count": 0
           },
           {
            "bin_start": 67.8,
            "bin_end": 67.9,
            "count": 0
           },
           {
            "bin_start": 67.9,
            "bin_end": 68,
            "count": 0
           },
           {
            "bin_start": 68,
            "bin_end": 68.1,
            "count": 2
           },
           {
            "bin_start": 68.1,
            "bin_end": 68.2,
            "count": 0
           },
           {
            "bin_start": 68.2,
            "bin_end": 68.3,
            "count": 0
           },
           {
            "bin_start": 68.3,
            "bin_end": 68.4,
            "count": 0
           },
           {
            "bin_start": 68.4,
            "bin_end": 68.5,
            "count": 0
           }
          ]
         }
        },
        {
         "name": "reactivity_error",
         "dtype": "object",
         "stats": {
          "unique_count": 2,
          "nan_count": 0,
          "categories": [
           {
            "name": "[0.1359, 0.20700000000000002, 0.1633, 0.1452, 0.13140000000000002, 0.105, 0.0821, 0.0964, 0.0756, 0.1087, 0.13770000000000002, 0.1544, 0.1622, 0.1388, 0.12840000000000001, 0.1009, 0.0941, 0.056400000000000006, 0.0417, 0.0596, 0.0482, 0.1041, 0.0942, 0.052000000000000005, 0.058300000000000005, 0.0403, 0.049100000000000005, 0.1003, 0.052500000000000005, 0.081, 0.11030000000000001, 0.0707, 0.07970000000000001, 0.09970000000000001, 0.09680000000000001, 0.09390000000000001, 0.0931, 0.0604, 0.0427, 0.033100000000000004, 0.0412, 0.0286, 0.0415, 0.039400000000000004, 0.0636, 0.0816, 0.047400000000000005, 0.029500000000000002, 0.016300000000000002, 0.0211, 0.0426, 0.0592, 0.07780000000000001, 0.0579, 0.0606, 0.046200000000000005, 0.0354, 0.0324, 0.0351, 0.0539, 0.0565, 0.0489, 0.0221, 0.025400000000000002, 0.0328, 0.039400000000000004, 0.0409, 0.054700000000000006]",
            "count": 1
           },
           {
            "name": "[2.8272, 2.8272, 2.8272, 4.7343, 2.5676, 2.5676, 2.5676, 2.5676, 2.5676, 2.5676, 2.5676, 2.5676, 2.5676, 2.5676, 2.5676, 2.5676, 2.5676, 2.5676, 4.2902000000000005, 2.3644, 2.3644, 2.3644, 2.3644, 2.3644, 2.3644, 3.0009, 2.3356, 2.923, 4.4649, 4.0411, 2.6231999999999998, 2.4985, 2.3879, 1.467, 1.467, 1.467, 1.467, 1.467, 1.467, 2.2892, 1.4271, 2.2008, 1.3919000000000001, 1.3919000000000001, 1.3919000000000001, 2.1211, 2.1008, 2.028, 1.3001, 1.3001, 1.3001, 1.962, 1.9018000000000002, 1.8467, 1.2307000000000001, 2.0146, 1.7072, 1.6677, 1.165, 2.0515, 1.7922, 1.5873, 1.5375, 1.4931, 1.3286, 2.273, 0.976, 0.976]",
            "count": 1
           }
          ]
         }
        },
        {
         "name": "deg_error_Mg_pH10",
         "dtype": "object",
         "stats": {
          "unique_count": 2,
          "nan_count": 0,
          "categories": [
           {
            "name": "[0.26130000000000003, 0.38420000000000004, 0.13720000000000002, 0.2531, 0.17980000000000002, 0.1371, 0.1736, 0.1791, 0.1056, 0.18960000000000002, 0.1834, 0.16590000000000002, 0.21080000000000002, 0.181, 0.1353, 0.128, 0.1296, 0.0949, 0.0796, 0.088, 0.0536, 0.09970000000000001, 0.0757, 0.09730000000000001, 0.0874, 0.0767, 0.0476, 0.0916, 0.0673, 0.0858, 0.0976, 0.06620000000000001, 0.0747, 0.1119, 0.10360000000000001, 0.1, 0.0907, 0.0702, 0.039400000000000004, 0.05, 0.0507, 0.0396, 0.0541, 0.0862, 0.08320000000000001, 0.07930000000000001, 0.0606, 0.0511, 0.0212, 0.033800000000000004, 0.057300000000000004, 0.050300000000000004, 0.10260000000000001, 0.0449, 0.045200000000000004, 0.0395, 0.0417, 0.033, 0.0417, 0.0483, 0.0517, 0.040400000000000005, 0.0274, 0.027100000000000003, 0.030600000000000002, 0.038400000000000004, 0.0516, 0.0523]",
            "count": 1
           },
           {
            "name": "[73705.3985, 73705.3985, 73705.3985, 73705.3985, 73705.3985, 73705.3985, 73705.3985, 73705.3985, 73705.3985, 73705.3985, 73705.3985, 73705.3985, 73705.3985, 73705.3985, 73705.3985, 73705.3985, 73705.3985, 73705.3985, 73705.3985, 73705.3985, 73705.3985, 73705.3985, 73705.3985, 73705.3985, 73705.3985, 73705.3985, 73705.3985, 73705.3985, 73705.3985, 17.8476, 7.4032, 7.4032, 7.4032, 9.8518, 4.9633, 4.9633, 4.9633, 4.9633, 4.9633, 4.9633, 4.9633, 4.9633, 7.1519, 4.9634, 2.5551, 2.5551, 4.4197, 4.0105, 3.0233, 1.6192000000000002, 1.6192000000000002, 1.6192000000000002, 1.6192000000000002, 1.6192000000000002, 2.7626, 2.5465, 2.7672, 1.9607, 2.223, 1.6192000000000002, 1.7509000000000001, 1.4464000000000001, 1.9126, 1.1634, 1.1392, 1.7312, 0.7595000000000001, 1.0626]",
            "count": 1
           }
          ]
         }
        },
        {
         "name": "deg_error_pH10",
         "dtype": "object",
         "stats": {
          "unique_count": 2,
          "nan_count": 0,
          "categories": [
           {
            "name": "[0.2631, 0.28600000000000003, 0.0964, 0.1574, 0.1, 0.1019, 0.114, 0.1341, 0.0517, 0.1474, 0.124, 0.0966, 0.1564, 0.14170000000000002, 0.10360000000000001, 0.11420000000000001, 0.1423, 0.105, 0.0806, 0.07690000000000001, 0.07010000000000001, 0.11030000000000001, 0.0847, 0.095, 0.0932, 0.0952, 0.062, 0.13670000000000002, 0.08460000000000001, 0.0883, 0.1514, 0.0678, 0.11900000000000001, 0.1442, 0.134, 0.125, 0.134, 0.09340000000000001, 0.062200000000000005, 0.0703, 0.08660000000000001, 0.0546, 0.0712, 0.0955, 0.0951, 0.0912, 0.07680000000000001, 0.0674, 0.0324, 0.049600000000000005, 0.076, 0.07050000000000001, 0.11720000000000001, 0.063, 0.0752, 0.0603, 0.069, 0.067, 0.08030000000000001, 0.10060000000000001, 0.1042, 0.07880000000000001, 0.0688, 0.0756, 0.0675, 0.0813, 0.10210000000000001, 0.11910000000000001]",
            "count": 1
           },
           {
            "name": "[10.1986, 9.2418, 5.0933, 5.0933, 5.0933, 5.0933, 5.0933, 5.0933, 5.0933, 5.0933, 5.0933, 5.0933, 5.0933, 5.0933, 5.0933, 5.0933, 9.6784, 4.2247, 4.2247, 4.2247, 4.2247, 4.2247, 4.2247, 4.2247, 4.2247, 5.8047, 4.1498, 5.6172, 6.7388, 5.3004, 6.3037, 6.6689, 3.3696, 3.3696, 3.3696, 3.3696, 3.3696, 3.3696, 3.3696, 3.3696, 3.3696, 5.3823, 5.7776, 4.7409, 2.9984, 2.9984, 5.7242, 4.3687000000000005, 2.8006, 2.8006, 2.8006, 4.2264, 2.7454, 2.7454, 4.0967, 4.466, 3.7696, 3.6776, 3.5925000000000002, 4.5872, 3.196, 3.1445, 3.0963, 3.3641, 2.3097, 4.9776, 2.8172, 2.1367]",
            "count": 1
           }
          ]
         }
        },
        {
         "name": "deg_error_Mg_50C",
         "dtype": "object",
         "stats": {
          "unique_count": 2,
          "nan_count": 0,
          "categories": [
           {
            "name": "[0.1501, 0.275, 0.0947, 0.18660000000000002, 0.1369, 0.1148, 0.0995, 0.1449, 0.07050000000000001, 0.1588, 0.1496, 0.121, 0.1767, 0.13820000000000002, 0.111, 0.112, 0.11510000000000001, 0.08360000000000001, 0.067, 0.0794, 0.046400000000000004, 0.0806, 0.0678, 0.0824, 0.0671, 0.0675, 0.061200000000000004, 0.0763, 0.07590000000000001, 0.0853, 0.1042, 0.058100000000000006, 0.09240000000000001, 0.1177, 0.10250000000000001, 0.10060000000000001, 0.09860000000000001, 0.078, 0.0455, 0.0658, 0.058300000000000005, 0.0417, 0.0468, 0.0787, 0.0738, 0.0653, 0.0502, 0.0512, 0.0199, 0.0285, 0.050800000000000005, 0.056400000000000006, 0.10690000000000001, 0.0487, 0.0509, 0.043300000000000005, 0.0449, 0.042100000000000005, 0.0548, 0.0623, 0.051300000000000005, 0.0528, 0.0379, 0.0439, 0.046200000000000005, 0.054400000000000004, 0.0663, 0.057]",
            "count": 1
           },
           {
            "name": "[16.6174, 13.868, 8.1968, 8.1968, 8.1968, 8.1968, 8.1968, 8.1968, 8.1968, 8.1968, 8.1968, 8.1968, 8.1968, 8.1968, 8.1968, 8.1968, 8.1968, 8.1968, 8.1968, 8.1968, 8.1968, 8.1968, 12.2027, 6.212, 6.212, 10.0329, 5.0165, 8.4415, 4.2208, 7.7173, 4.987, 2.6867, 2.6867, 2.6867, 4.5591, 2.4894, 2.4894, 4.2046, 3.9065000000000003, 2.1945, 2.1945, 3.6527000000000003, 3.4343, 1.9873, 3.2447, 3.0787, 2.6266, 1.8033000000000001, 1.8033000000000001, 1.8033000000000001, 1.8033000000000001, 1.8033000000000001, 1.8033000000000001, 2.912, 2.7813, 2.9987, 3.2142, 2.5373, 1.384, 1.384, 1.9573, 1.3673, 2.7544, 1.2584, 1.6174, 2.9273, 1.4608, 1.5843]",
            "count": 1
           }
          ]
         }
        },
        {
         "name": "deg_error_50C",
         "dtype": "object",
         "stats": {
          "unique_count": 2,
          "nan_count": 0,
          "categories": [
           {
            "name": "[0.2167, 0.34750000000000003, 0.188, 0.2124, 0.1703, 0.1481, 0.13520000000000001, 0.1834, 0.06380000000000001, 0.1804, 0.1915, 0.1713, 0.163, 0.1777, 0.15410000000000001, 0.1327, 0.1608, 0.123, 0.0927, 0.1024, 0.0872, 0.13520000000000001, 0.1034, 0.1198, 0.1173, 0.1233, 0.09, 0.15430000000000002, 0.10540000000000001, 0.11660000000000001, 0.1531, 0.09040000000000001, 0.1466, 0.1726, 0.151, 0.1333, 0.1484, 0.11, 0.0666, 0.09040000000000001, 0.09820000000000001, 0.0608, 0.08030000000000001, 0.1014, 0.1159, 0.1042, 0.07830000000000001, 0.0757, 0.041600000000000005, 0.0582, 0.08940000000000001, 0.0881, 0.11270000000000001, 0.062200000000000005, 0.0795, 0.0604, 0.0611, 0.0592, 0.0805, 0.08170000000000001, 0.0809, 0.0719, 0.0584, 0.0649, 0.08170000000000001, 0.0717, 0.09240000000000001, 0.10930000000000001]",
            "count": 1
           },
           {
            "name": "[15.4857, 7.9596, 13.3957, 5.8777, 5.8777, 5.8777, 5.8777, 5.8777, 5.8777, 5.8777, 5.8777, 5.8777, 5.8777, 5.8777, 5.8777, 5.8777, 5.8777, 5.8777, 5.8777, 5.8777, 5.8777, 5.8777, 5.8777, 5.8777, 5.8777, 6.8046, 5.838, 10.9779, 8.6318, 5.0488, 3.9354, 3.9354, 3.9354, 3.9354, 3.9354, 3.9354, 3.9354, 3.9354, 3.9354, 3.9354, 3.9354, 6.6469000000000005, 6.1757, 5.7745, 3.292, 3.292, 4.4335, 3.2467, 3.2467, 3.2467, 3.2467, 3.2467, 3.2467, 5.4019, 5.1005, 5.783, 2.6668000000000003, 2.6668000000000003, 4.7406, 4.5583, 3.8319, 2.3219, 3.8465, 3.6372, 2.1879, 4.0778, 2.074, 2.074]",
            "count": 1
           }
          ]
         }
        },
        {
         "name": "reactivity",
         "dtype": "object",
         "stats": {
          "unique_count": 2,
          "nan_count": 0,
          "categories": [
           {
            "name": "[0.3297, 1.5693000000000001, 1.1227, 0.8686, 0.7217, 0.4384, 0.256, 0.33640000000000003, 0.21680000000000002, 0.3583, 0.9541000000000001, 1.4113, 1.6911, 1.2494, 1.1895, 0.6909000000000001, 0.4736, 0.1754, 0.0582, 0.21730000000000002, 0.0785, 0.8249000000000001, 0.7638, 0.1095, 0.25680000000000003, 0.08950000000000001, 0.15760000000000002, 0.7727, 0.1573, 0.5043, 1.0444, 0.4766, 0.5588000000000001, 0.9054000000000001, 1.0125, 1.0482, 1.044, 0.45220000000000005, 0.211, 0.0461, 0.082, 0.06430000000000001, 0.1526, 0.08940000000000001, 0.5081, 1.0745, 0.3215, 0.0716, 0.0244, 0.0123, 0.19840000000000002, 0.49610000000000004, 1.0641, 0.6394000000000001, 0.6789000000000001, 0.365, 0.1741, 0.1408, 0.1646, 0.5389, 0.683, 0.4273, 0.052700000000000004, 0.0693, 0.1398, 0.2937, 0.23620000000000002, 0.5731]",
            "count": 1
           },
           {
            "name": "[0.0, 0.0, 0.0, 2.2965, 0.0, 0.0, 0.0, 0.0, 0.0, 0.0, 0.0, 0.0, 0.0, 0.0, 0.0, 0.0, 0.0, 0.0, 2.0668, 0.0, 0.0, 0.0, 0.0, 0.0, 0.0, -1.0878, 0.0, -1.0334, 4.7697, 2.8911, 1.2158, 1.1483, 1.0878, 0.0, 0.0, 0.0, 0.0, 0.0, 0.0, 1.0334, 0.0, 0.9842000000000001, 0.0, 0.0, 0.0, 0.9395, -0.9395, 0.8986000000000001, 0.0, 0.0, 0.0, 0.8612000000000001, 0.8267, 0.795, 0.0, 1.4763, 0.7127, 0.6890000000000001, 0.0, 2.4316, 1.6758000000000002, 1.0599, 1.0082, 0.9613, 0.4697, -1.2631000000000001, 0.0, 0.0]",
            "count": 1
           }
          ]
         }
        },
        {
         "name": "deg_Mg_pH10",
         "dtype": "object",
         "stats": {
          "unique_count": 2,
          "nan_count": 0,
          "categories": [
           {
            "name": "[0.7556, 2.983, 0.2526, 1.3789, 0.6376000000000001, 0.33130000000000004, 0.6763, 0.7525000000000001, 0.20800000000000002, 0.8908, 0.9898, 0.8679, 1.7403, 1.3795, 0.7746000000000001, 0.719, 0.7229, 0.40690000000000004, 0.2632, 0.36310000000000003, 0.0702, 0.47650000000000003, 0.2766, 0.49360000000000004, 0.4379, 0.3261, 0.0898, 0.41590000000000005, 0.22640000000000002, 0.4142, 0.5213, 0.26530000000000004, 0.3163, 0.9059, 0.8762000000000001, 0.8991, 0.7262000000000001, 0.4762, 0.1187, 0.1952, 0.1777, 0.12810000000000002, 0.2664, 0.8831, 0.8752000000000001, 0.8693000000000001, 0.5119, 0.3476, 0.0438, 0.1236, 0.458, 0.3214, 2.1155, 0.3708, 0.3536, 0.2669, 0.3161, 0.17930000000000001, 0.3259, 0.47000000000000003, 0.6141, 0.31220000000000003, 0.1418, 0.1277, 0.1608, 0.3336, 0.6491, 0.6898000000000001]",
            "count": 1
           },
           {
            "name": "[0.0, 0.0, 0.0, 0.0, 0.0, 0.0, 0.0, 0.0, 0.0, 0.0, 0.0, 0.0, 0.0, 0.0, 0.0, 0.0, 0.0, 0.0, 0.0, 0.0, 0.0, 0.0, 0.0, 0.0, 0.0, -0.7758, 0.0, -0.737, 0.0, 14.0377, 0.0, 0.0, 0.0, 4.9134, 0.0, 0.0, 0.0, 0.0, 0.0, 0.0, 0.0, 0.0, 5.8962, 2.4568, 0.0, 0.0, 1.4358, 3.2757, 1.4741, 0.0, 0.0, 0.0, 0.0, 0.0, 1.3401, 1.2284, 2.9482, 0.9213, 2.3275, 0.737, 1.3401, 0.6409, 3.4396, 0.47550000000000003, 0.4607, -0.7817000000000001, 0.0, 0.43360000000000004]",
            "count": 1
           }
          ]
         }
        },
        {
         "name": "deg_pH10",
         "dtype": "object",
         "stats": {
          "unique_count": 2,
          "nan_count": 0,
          "categories": [
           {
            "name": "[2.3375, 3.5060000000000002, 0.3008, 1.0108, 0.2635, 0.3403, 0.5617, 0.681, 0.053, 0.5348, 0.5526, 0.32780000000000004, 1.0806, 0.7699, 0.3901, 0.5045000000000001, 0.6475000000000001, 0.5176000000000001, 0.22060000000000002, 0.2255, 0.058100000000000006, 0.4302, 0.33440000000000003, 0.2718, 0.466, 0.4763, 0.1275, 0.6886, 0.2323, 0.11860000000000001, 0.8321000000000001, 0.1317, 0.5878, 0.7162000000000001, 0.7943, 0.7224, 0.8105, 0.4782, 0.1797, 0.13440000000000002, 0.2217, 0.11520000000000001, 0.17070000000000002, 0.4324, 0.4166, 0.45580000000000004, 0.36060000000000003, 0.22390000000000002, 0.048100000000000004, 0.06910000000000001, 0.24230000000000002, 0.1003, 0.9322, 0.253, 0.2923, 0.14550000000000002, 0.2523, 0.2504, 0.40650000000000003, 0.7361000000000001, 0.9412, 0.31370000000000003, 0.34890000000000004, 0.41400000000000003, 0.2238, 0.5142, 0.7681, 1.172]",
            "count": 1
           },
           {
            "name": "[4.947, 4.4523, 0.0, 0.0, 0.0, 0.0, 0.0, 0.0, 0.0, 0.0, 0.0, 0.0, 0.0, 0.0, 0.0, 0.0, 10.2747, 0.0, 0.0, 0.0, 0.0, 0.0, 0.0, 0.0, 0.0, -2.3434, 0.0, -2.2262, 3.1803, -2.1202, 2.9682, 5.2381, 0.0, 0.0, 0.0, 0.0, 0.0, 0.0, 0.0, 0.0, 0.0, 2.4735, 4.4524, 2.1202, 0.0, 0.0, 0.0, 1.9358, 0.0, 0.0, 0.0, 1.8552, 0.0, 0.0, 1.7810000000000001, 3.2981, 1.5901, 1.5352999999999999, 1.4841, 6.3606, 1.2368000000000001, 1.2033, 1.1717, 2.2262, 0.0, -2.6244, 1.0601, 0.0]",
            "count": 1
           }
          ]
         }
        },
        {
         "name": "deg_Mg_50C",
         "dtype": "object",
         "stats": {
          "unique_count": 2,
          "nan_count": 0,
          "categories": [
           {
            "name": "[0.35810000000000003, 2.9683, 0.2589, 1.4552, 0.7244, 0.49710000000000004, 0.3819, 0.9115000000000001, 0.1668, 1.0613, 1.1317, 0.7468, 1.9049, 1.103, 0.7317, 0.7649, 0.7010000000000001, 0.43270000000000003, 0.23600000000000002, 0.40390000000000004, 0.0373, 0.3362, 0.2914, 0.3956, 0.3074, 0.3079, 0.2379, 0.20270000000000002, 0.37210000000000004, 0.4504, 0.6303000000000001, 0.2092, 0.6219, 1.0619, 0.8667, 0.9206000000000001, 0.8516, 0.6308, 0.1756, 0.4022, 0.22360000000000002, 0.1452, 0.1469, 0.6622, 0.5692, 0.45830000000000004, 0.2705, 0.2798, 0.0298, 0.0367, 0.22990000000000002, 0.2873, 1.7464, 0.32330000000000003, 0.29960000000000003, 0.2029, 0.2311, 0.20320000000000002, 0.40790000000000004, 0.5544, 0.3829, 0.34450000000000003, 0.1898, 0.2649, 0.27140000000000003, 0.4812, 0.7026, 0.4254]",
            "count": 1
           },
           {
            "name": "[4.8511, 4.0426, 0.0, 0.0, 0.0, 0.0, 0.0, 0.0, 0.0, 0.0, 0.0, 0.0, 0.0, 0.0, 0.0, 0.0, 0.0, 0.0, 0.0, 0.0, 0.0, 0.0, 6.064, 0.0, 0.0, 3.5746, 0.0, 2.8299000000000003, 0.0, 6.9305, 2.4257, 0.0, 0.0, 0.0, 2.2052, 0.0, 0.0, 2.0214, 1.8659, 0.0, 0.0, 1.7326000000000001, 1.6171, 0.0, 1.5161, 1.4269, -1.1026, 0.0, 0.0, 0.0, 0.0, 0.0, 0.0, 1.3476, 1.2767, 2.3102, 4.6648, 2.5094000000000003, 0.0, 0.0, 0.8086, 0.0, 6.0643, 0.0, 0.5916, 0.1348, 0.5273, 1.0107]",
            "count": 1
           }
          ]
         }
        },
        {
         "name": "deg_50C",
         "dtype": "object",
         "stats": {
          "unique_count": 2,
          "nan_count": 0,
          "categories": [
           {
            "name": "[0.6382, 3.4773, 0.9988, 1.3228, 0.7877000000000001, 0.589, 0.5231, 1.0125, 0.0585, 0.7349, 1.2215, 1.0321, 0.8274, 1.0442, 0.8472000000000001, 0.5547000000000001, 0.7291000000000001, 0.5541, 0.2404, 0.3598, 0.1496, 0.6154000000000001, 0.4053, 0.4641, 0.5976, 0.6747000000000001, 0.2979, 0.8376, 0.3915, 0.42260000000000003, 0.7223, 0.29910000000000003, 0.9497000000000001, 1.2491, 1.0324, 0.7868, 1.0355, 0.6604, 0.19210000000000002, 0.3593, 0.3799, 0.151, 0.2636, 0.4919, 0.7486, 0.6304000000000001, 0.3466, 0.3033, 0.0855, 0.13870000000000002, 0.4254, 0.35710000000000003, 0.794, 0.2258, 0.3457, 0.1514, 0.1602, 0.1572, 0.3912, 0.3724, 0.44320000000000004, 0.2169, 0.19590000000000002, 0.2391, 0.4234, 0.3287, 0.5301, 0.8472000000000001]",
            "count": 1
           },
           {
            "name": "[7.6692, 0.0, 10.9561, 0.0, 0.0, 0.0, 0.0, 0.0, 0.0, 0.0, 0.0, 0.0, 0.0, 0.0, 0.0, 0.0, 0.0, 0.0, 0.0, 0.0, 0.0, 0.0, 0.0, 0.0, 0.0, -2.0183, 0.0, 6.6041, 6.9722, -1.8261, 0.0, 0.0, 0.0, 0.0, 0.0, 0.0, 0.0, 0.0, 0.0, 0.0, 0.0, 3.1955999999999998, 2.9498, 2.7391, 0.0, 0.0, -1.7431, 0.0, 0.0, 0.0, 0.0, 0.0, 0.0, 2.5564999999999998, 2.3967, 6.0548, 0.0, 0.0, 3.6521, 4.0795, 2.3008, 0.0, 2.8405, 2.6446, 0.0, -3.1955999999999998, 0.0, 0.0]",
            "count": 1
           }
          ]
         }
        },
        {
         "name": "_deepnote_index_column",
         "dtype": "int64"
        }
       ],
       "rows_top": [
        {
         "index": 0,
         "id": "id_001f94081",
         "sequence": "GGAAAAGCUCUAAUAACAGGAGACUAGGACUACGUAUUUCUAGGUAACUGGAAUAACCCAUACCAGCAGUUAGAGUUCGCUCUAACAAAAGAAACAACA…",
         "structure": ".....((((((.......)))).)).((.....((..((((((....))))))..)).....))....(((((((....))))))).............…",
         "predicted_loop_type": "EEEEESSSSSSHHHHHHHSSSSBSSXSSIIIIISSIISSSSSSHHHHSSSSSSIISSIIIIISSXXXXSSSSSSSHHHHSSSSSSSEEEEEEEEEEEEE…",
         "signal_to_noise": 6.894,
         "SN_filter": 1,
         "seq_length": 107,
         "seq_scored": 68,
         "reactivity_error": "[0.1359, 0.20700000000000002, 0.1633, 0.1452, 0.13140000000000002, 0.105, 0.0821, 0.0964, 0.0756, 0…",
         "deg_error_Mg_pH10": "[0.26130000000000003, 0.38420000000000004, 0.13720000000000002, 0.2531, 0.17980000000000002, 0.1371…",
         "deg_error_pH10": "[0.2631, 0.28600000000000003, 0.0964, 0.1574, 0.1, 0.1019, 0.114, 0.1341, 0.0517, 0.1474, 0.124, 0.…",
         "deg_error_Mg_50C": "[0.1501, 0.275, 0.0947, 0.18660000000000002, 0.1369, 0.1148, 0.0995, 0.1449, 0.07050000000000001, 0…",
         "deg_error_50C": "[0.2167, 0.34750000000000003, 0.188, 0.2124, 0.1703, 0.1481, 0.13520000000000001, 0.1834, 0.0638000…",
         "reactivity": "[0.3297, 1.5693000000000001, 1.1227, 0.8686, 0.7217, 0.4384, 0.256, 0.33640000000000003, 0.21680000…",
         "deg_Mg_pH10": "[0.7556, 2.983, 0.2526, 1.3789, 0.6376000000000001, 0.33130000000000004, 0.6763, 0.7525000000000001…",
         "deg_pH10": "[2.3375, 3.5060000000000002, 0.3008, 1.0108, 0.2635, 0.3403, 0.5617, 0.681, 0.053, 0.5348, 0.5526, …",
         "deg_Mg_50C": "[0.35810000000000003, 2.9683, 0.2589, 1.4552, 0.7244, 0.49710000000000004, 0.3819, 0.91150000000000…",
         "deg_50C": "[0.6382, 3.4773, 0.9988, 1.3228, 0.7877000000000001, 0.589, 0.5231, 1.0125, 0.0585, 0.7349, 1.2215,…",
         "_deepnote_index_column": 0
        },
        {
         "index": 1,
         "id": "id_0049f53ba",
         "sequence": "GGAAAAAGCGCGCGCGGUUAGCGCGCGCUUUUGCGCGCGCUGUACCGCGCGCGCUUAUGCAAGUUGCCCGCGGCGUUCGCGCUGUGAAAAGAAACAACA…",
         "structure": ".....(((((((((((((((((((((((....)))))))))).)))))))))))))..(((...))).(((((((....))))))).............…",
         "predicted_loop_type": "EEEEESSSSSSSSSSSSSSSSSSSSSSSHHHHSSSSSSSSSSBSSSSSSSSSSSSSMMSSSHHHSSSMSSSSSSSHHHHSSSSSSSEEEEEEEEEEEEE…",
         "signal_to_noise": 0.193,
         "SN_filter": 0,
         "seq_length": 107,
         "seq_scored": 68,
         "reactivity_error": "[2.8272, 2.8272, 2.8272, 4.7343, 2.5676, 2.5676, 2.5676, 2.5676, 2.5676, 2.5676, 2.5676, 2.5676, 2.…",
         "deg_error_Mg_pH10": "[73705.3985, 73705.3985, 73705.3985, 73705.3985, 73705.3985, 73705.3985, 73705.3985, 73705.3985, 73…",
         "deg_error_pH10": "[10.1986, 9.2418, 5.0933, 5.0933, 5.0933, 5.0933, 5.0933, 5.0933, 5.0933, 5.0933, 5.0933, 5.0933, 5…",
         "deg_error_Mg_50C": "[16.6174, 13.868, 8.1968, 8.1968, 8.1968, 8.1968, 8.1968, 8.1968, 8.1968, 8.1968, 8.1968, 8.1968, 8…",
         "deg_error_50C": "[15.4857, 7.9596, 13.3957, 5.8777, 5.8777, 5.8777, 5.8777, 5.8777, 5.8777, 5.8777, 5.8777, 5.8777, …",
         "reactivity": "[0.0, 0.0, 0.0, 2.2965, 0.0, 0.0, 0.0, 0.0, 0.0, 0.0, 0.0, 0.0, 0.0, 0.0, 0.0, 0.0, 0.0, 0.0, 2.066…",
         "deg_Mg_pH10": "[0.0, 0.0, 0.0, 0.0, 0.0, 0.0, 0.0, 0.0, 0.0, 0.0, 0.0, 0.0, 0.0, 0.0, 0.0, 0.0, 0.0, 0.0, 0.0, 0.0…",
         "deg_pH10": "[4.947, 4.4523, 0.0, 0.0, 0.0, 0.0, 0.0, 0.0, 0.0, 0.0, 0.0, 0.0, 0.0, 0.0, 0.0, 0.0, 10.2747, 0.0,…",
         "deg_Mg_50C": "[4.8511, 4.0426, 0.0, 0.0, 0.0, 0.0, 0.0, 0.0, 0.0, 0.0, 0.0, 0.0, 0.0, 0.0, 0.0, 0.0, 0.0, 0.0, 0.…",
         "deg_50C": "[7.6692, 0.0, 10.9561, 0.0, 0.0, 0.0, 0.0, 0.0, 0.0, 0.0, 0.0, 0.0, 0.0, 0.0, 0.0, 0.0, 0.0, 0.0, 0…",
         "_deepnote_index_column": 1
        }
       ],
       "rows_bottom": null
      },
      "text/plain": "   index            id                                           sequence  \\\n0      0  id_001f94081  GGAAAAGCUCUAAUAACAGGAGACUAGGACUACGUAUUUCUAGGUA...   \n1      1  id_0049f53ba  GGAAAAAGCGCGCGCGGUUAGCGCGCGCUUUUGCGCGCGCUGUACC...   \n\n                                           structure  \\\n0  .....((((((.......)))).)).((.....((..((((((......   \n1  .....(((((((((((((((((((((((....)))))))))).)))...   \n\n                                 predicted_loop_type  signal_to_noise  \\\n0  EEEEESSSSSSHHHHHHHSSSSBSSXSSIIIIISSIISSSSSSHHH...            6.894   \n1  EEEEESSSSSSSSSSSSSSSSSSSSSSSHHHHSSSSSSSSSSBSSS...            0.193   \n\n   SN_filter  seq_length  seq_scored  \\\n0          1         107          68   \n1          0         107          68   \n\n                                    reactivity_error  \\\n0  [0.1359, 0.20700000000000002, 0.1633, 0.1452, ...   \n1  [2.8272, 2.8272, 2.8272, 4.7343, 2.5676, 2.567...   \n\n                                   deg_error_Mg_pH10  \\\n0  [0.26130000000000003, 0.38420000000000004, 0.1...   \n1  [73705.3985, 73705.3985, 73705.3985, 73705.398...   \n\n                                      deg_error_pH10  \\\n0  [0.2631, 0.28600000000000003, 0.0964, 0.1574, ...   \n1  [10.1986, 9.2418, 5.0933, 5.0933, 5.0933, 5.09...   \n\n                                    deg_error_Mg_50C  \\\n0  [0.1501, 0.275, 0.0947, 0.18660000000000002, 0...   \n1  [16.6174, 13.868, 8.1968, 8.1968, 8.1968, 8.19...   \n\n                                       deg_error_50C  \\\n0  [0.2167, 0.34750000000000003, 0.188, 0.2124, 0...   \n1  [15.4857, 7.9596, 13.3957, 5.8777, 5.8777, 5.8...   \n\n                                          reactivity  \\\n0  [0.3297, 1.5693000000000001, 1.1227, 0.8686, 0...   \n1  [0.0, 0.0, 0.0, 2.2965, 0.0, 0.0, 0.0, 0.0, 0....   \n\n                                         deg_Mg_pH10  \\\n0  [0.7556, 2.983, 0.2526, 1.3789, 0.637600000000...   \n1  [0.0, 0.0, 0.0, 0.0, 0.0, 0.0, 0.0, 0.0, 0.0, ...   \n\n                                            deg_pH10  \\\n0  [2.3375, 3.5060000000000002, 0.3008, 1.0108, 0...   \n1  [4.947, 4.4523, 0.0, 0.0, 0.0, 0.0, 0.0, 0.0, ...   \n\n                                          deg_Mg_50C  \\\n0  [0.35810000000000003, 2.9683, 0.2589, 1.4552, ...   \n1  [4.8511, 4.0426, 0.0, 0.0, 0.0, 0.0, 0.0, 0.0,...   \n\n                                             deg_50C  \n0  [0.6382, 3.4773, 0.9988, 1.3228, 0.78770000000...  \n1  [7.6692, 0.0, 10.9561, 0.0, 0.0, 0.0, 0.0, 0.0...  ",
      "text/html": "<div>\n<style scoped>\n    .dataframe tbody tr th:only-of-type {\n        vertical-align: middle;\n    }\n\n    .dataframe tbody tr th {\n        vertical-align: top;\n    }\n\n    .dataframe thead th {\n        text-align: right;\n    }\n</style>\n<table border=\"1\" class=\"dataframe\">\n  <thead>\n    <tr style=\"text-align: right;\">\n      <th></th>\n      <th>index</th>\n      <th>id</th>\n      <th>sequence</th>\n      <th>structure</th>\n      <th>predicted_loop_type</th>\n      <th>signal_to_noise</th>\n      <th>SN_filter</th>\n      <th>seq_length</th>\n      <th>seq_scored</th>\n      <th>reactivity_error</th>\n      <th>deg_error_Mg_pH10</th>\n      <th>deg_error_pH10</th>\n      <th>deg_error_Mg_50C</th>\n      <th>deg_error_50C</th>\n      <th>reactivity</th>\n      <th>deg_Mg_pH10</th>\n      <th>deg_pH10</th>\n      <th>deg_Mg_50C</th>\n      <th>deg_50C</th>\n    </tr>\n  </thead>\n  <tbody>\n    <tr>\n      <th>0</th>\n      <td>0</td>\n      <td>id_001f94081</td>\n      <td>GGAAAAGCUCUAAUAACAGGAGACUAGGACUACGUAUUUCUAGGUA...</td>\n      <td>.....((((((.......)))).)).((.....((..((((((......</td>\n      <td>EEEEESSSSSSHHHHHHHSSSSBSSXSSIIIIISSIISSSSSSHHH...</td>\n      <td>6.894</td>\n      <td>1</td>\n      <td>107</td>\n      <td>68</td>\n      <td>[0.1359, 0.20700000000000002, 0.1633, 0.1452, ...</td>\n      <td>[0.26130000000000003, 0.38420000000000004, 0.1...</td>\n      <td>[0.2631, 0.28600000000000003, 0.0964, 0.1574, ...</td>\n      <td>[0.1501, 0.275, 0.0947, 0.18660000000000002, 0...</td>\n      <td>[0.2167, 0.34750000000000003, 0.188, 0.2124, 0...</td>\n      <td>[0.3297, 1.5693000000000001, 1.1227, 0.8686, 0...</td>\n      <td>[0.7556, 2.983, 0.2526, 1.3789, 0.637600000000...</td>\n      <td>[2.3375, 3.5060000000000002, 0.3008, 1.0108, 0...</td>\n      <td>[0.35810000000000003, 2.9683, 0.2589, 1.4552, ...</td>\n      <td>[0.6382, 3.4773, 0.9988, 1.3228, 0.78770000000...</td>\n    </tr>\n    <tr>\n      <th>1</th>\n      <td>1</td>\n      <td>id_0049f53ba</td>\n      <td>GGAAAAAGCGCGCGCGGUUAGCGCGCGCUUUUGCGCGCGCUGUACC...</td>\n      <td>.....(((((((((((((((((((((((....)))))))))).)))...</td>\n      <td>EEEEESSSSSSSSSSSSSSSSSSSSSSSHHHHSSSSSSSSSSBSSS...</td>\n      <td>0.193</td>\n      <td>0</td>\n      <td>107</td>\n      <td>68</td>\n      <td>[2.8272, 2.8272, 2.8272, 4.7343, 2.5676, 2.567...</td>\n      <td>[73705.3985, 73705.3985, 73705.3985, 73705.398...</td>\n      <td>[10.1986, 9.2418, 5.0933, 5.0933, 5.0933, 5.09...</td>\n      <td>[16.6174, 13.868, 8.1968, 8.1968, 8.1968, 8.19...</td>\n      <td>[15.4857, 7.9596, 13.3957, 5.8777, 5.8777, 5.8...</td>\n      <td>[0.0, 0.0, 0.0, 2.2965, 0.0, 0.0, 0.0, 0.0, 0....</td>\n      <td>[0.0, 0.0, 0.0, 0.0, 0.0, 0.0, 0.0, 0.0, 0.0, ...</td>\n      <td>[4.947, 4.4523, 0.0, 0.0, 0.0, 0.0, 0.0, 0.0, ...</td>\n      <td>[4.8511, 4.0426, 0.0, 0.0, 0.0, 0.0, 0.0, 0.0,...</td>\n      <td>[7.6692, 0.0, 10.9561, 0.0, 0.0, 0.0, 0.0, 0.0...</td>\n    </tr>\n  </tbody>\n</table>\n</div>"
     },
     "metadata": {}
    }
   ],
   "execution_count": null
  },
  {
   "cell_type": "code",
   "metadata": {
    "tags": [],
    "cell_id": "00014-1e15ddfb-7bd6-4a15-a35b-2c9490062443",
    "deepnote_to_be_reexecuted": false,
    "source_hash": "62e2b4a8",
    "execution_start": 1624282808712,
    "execution_millis": 11,
    "deepnote_cell_type": "code"
   },
   "source": "print('Train shapes: ', train.shape)\nprint('Test shapes: ', test.shape) ",
   "outputs": [
    {
     "name": "stdout",
     "text": "Train shapes:  (2400, 19)\nTest shapes:  (3634, 7)\n",
     "output_type": "stream"
    }
   ],
   "execution_count": null
  },
  {
   "cell_type": "markdown",
   "source": "Test have sequence, structure, predicted_loop_type, seq_length, seq_scored and id  ",
   "metadata": {
    "tags": [],
    "cell_id": "00028-80e02cf1-bbc7-49bd-b5b6-5feabfeda967",
    "deepnote_cell_type": "markdown"
   }
  },
  {
   "cell_type": "markdown",
   "source": "## Signal to noise distribution",
   "metadata": {
    "tags": [],
    "cell_id": "00026-15eb1e3b-61ae-4e95-b9bb-fd2cfc88f940",
    "deepnote_cell_type": "markdown"
   }
  },
  {
   "cell_type": "code",
   "metadata": {
    "tags": [],
    "cell_id": "00017-dfa41b3c-941c-483c-b0d5-ef2b773a830d",
    "deepnote_to_be_reexecuted": false,
    "source_hash": "1ef9c982",
    "execution_start": 1624282808716,
    "execution_millis": 1865,
    "deepnote_cell_type": "code"
   },
   "source": "fig = px.histogram(\n    train, \n    \"signal_to_noise\", \n    nbins=25, \n    title='signal_to_noise distribution', \n    width=800,\n    height=400\n)\nfig.show()",
   "outputs": [
    {
     "data": {
      "text/html": "<html>\n<head><meta charset=\"utf-8\" /></head>\n<body>\n    <div>            <script src=\"https://cdnjs.cloudflare.com/ajax/libs/mathjax/2.7.5/MathJax.js?config=TeX-AMS-MML_SVG\"></script><script type=\"text/javascript\">if (window.MathJax) {MathJax.Hub.Config({SVG: {font: \"STIX-Web\"}});}</script>                <script type=\"text/javascript\">window.PlotlyConfig = {MathJaxConfig: 'local'};</script>\n        <script src=\"https://cdn.plot.ly/plotly-latest.min.js\"></script>                <div id=\"f3eb5255-1c02-48ae-bc10-1d2f551eaeca\" class=\"plotly-graph-div\" style=\"height:400px; width:800px;\"></div>            <script type=\"text/javascript\">                                    window.PLOTLYENV=window.PLOTLYENV || {};                                    if (document.getElementById(\"f3eb5255-1c02-48ae-bc10-1d2f551eaeca\")) {                    Plotly.newPlot(                        \"f3eb5255-1c02-48ae-bc10-1d2f551eaeca\",                        [{\"alignmentgroup\": \"True\", \"bingroup\": \"x\", \"hovertemplate\": \"signal_to_noise=%{x}<br>count=%{y}<extra></extra>\", \"legendgroup\": \"\", \"marker\": {\"color\": \"#636efa\"}, \"name\": \"\", \"nbinsx\": 25, \"offsetgroup\": \"\", \"orientation\": \"v\", \"showlegend\": false, \"type\": \"histogram\", \"x\": [6.894, 0.193, 8.8, 0.10400000000000001, 0.423, 4.136, 2.485, 1.7269999999999999, 0.646, 5.545, 5.934, 9.54, 8.294, 8.391, 0.0, 8.627, 3.164, 0.0, 9.832, 0.163, 6.164, 6.693, 5.697, 6.203, 0.713, 6.725, 3.467, 4.007, 6.016, 5.878, 6.165, 4.332, 10.771, 6.186, 3.106, 2.7439999999999998, 8.486, 6.188, 1.049, 6.615, 6.797, 5.727, 5.022, 5.37, 2.331, 6.72, 6.393, 4.873, 7.456, 0.0, 4.019, 9.257, 4.286, 0.0, 3.122, 1.754, 3.708, 3.955, 5.038, 8.11, 4.153, 6.224, 5.213, 2.949, 5.195, 5.785, 3.012, 6.718, 0.919, 3.73, 2.973, 1.787, 2.258, 4.227, 6.756, 9.814, 12.453, 7.671, 5.767, 6.741, 5.365, 3.912, 4.928, 4.5, 5.381, 6.161, 0.749, 3.675, 4.49, 5.196, 7.609, 5.212, 0.34600000000000003, 6.162, 8.682, 2.621, 3.414, 3.92, 6.586, 2.069, 3.707, 3.528, 2.934, 7.462, 1.703, 4.441, 2.877, 4.185, 7.452, 1.814, 1.524, 0.0, 1.05, 5.838, 4.365, 2.616, 0.583, 5.8100000000000005, 3.902, 1.58, 3.152, 6.686, 8.062, 12.464, 5.281, 3.833, 2.487, 7.752, 7.163, 4.285, 0.865, 4.642, 4.869, 0.0, 3.133, 0.229, 1.867, 3.734, 1.241, 2.807, 3.233, 4.601, 7.305, 3.396, 6.396, 0.613, 6.376, 6.672, 5.645, 9.037, 10.563, 0.0, 9.608, 5.472, 5.125, 5.222, 4.129, 0.0, 0.757, 5.233, 5.17, 5.668, 3.161, 8.558, 8.364, 2.496, 4.71, 3.113, 9.659, 3.235, 5.611, 9.87, 5.219, 0.9490000000000001, 6.648, 13.816, 8.242, 3.6310000000000002, 2.487, 5.588, 2.445, 8.073, 5.377, 0.428, 1.395, 0.646, 8.982, 6.612, 5.417, 5.696, 5.432, 8.55, 1.8250000000000002, 4.592, 4.974, 1.838, 5.89, 9.893, 1.779, 3.826, 5.452, 3.125, 9.387, 7.849, 1.167, 4.94, 5.66, 5.659, 5.205, 9.797, 7.196, 9.338, 2.793, 1.755, 1.5779999999999998, 5.827, 3.9859999999999998, 6.514, 1.232, 4.593, 4.535, 4.931, 2.691, 1.623, 0.0, 2.849, 3.832, 1.317, 14.009, 4.501, 0.0, 2.743, 0.997, 3.071, 2.965, 3.824, 4.547, 2.6, 8.636, 4.234, 6.549, 3.821, 6.194, 10.899000000000001, 4.199, 6.244, 3.512, 7.24, 6.928, 3.884, 4.88, 1.16, 3.892, 0.48, 4.43, 6.406, 1.134, 9.850999999999999, 0.804, 2.493, 1.822, 13.663, 2.072, 9.568, 0.0, 3.12, 6.461, 5.164, 7.477, 5.517, 2.253, 3.991, 3.532, 4.74, 5.412, 10.947, 4.985, 0.0, 6.212, 1.545, 2.322, 4.858, 4.948, 2.133, 1.6139999999999999, 0.454, 5.619, 4.388, 1.354, 5.721, 8.154, 5.759, 3.615, 0.888, 3.574, 0.482, 0.28700000000000003, 11.692, 8.395, 0.911, 8.711, 0.709, 4.306, 3.222, 2.161, 7.212, 3.652, 0.0, 8.007, 0.0, 7.984, 6.039, 8.472, 6.822, 2.574, 6.9879999999999995, 0.034, 6.261, 2.299, 11.807, 5.5969999999999995, 3.277, 11.07, 3.968, 2.6390000000000002, 9.76, 14.535, 5.248, 5.676, 8.431, 6.603, 9.168, 4.89, 4.678, 4.1370000000000005, 3.922, 4.537, 3.377, 6.977, 5.705, 3.94, 5.754, 2.901, 0.724, 1.935, 1.434, 5.928, 3.832, 5.883, 4.548, 5.411, 3.425, 0.648, 0.0, -0.097, 0.976, 3.693, 6.514, 6.136, 4.937, 7.009, 5.031, 6.62, 8.247, 3.876, 4.267, 11.122, 7.699, 2.6630000000000003, 2.64, 1.27, 4.304, 3.708, 0.0, 8.729, 5.154, 7.6, 3.505, 4.099, 4.378, 0.0, 3.098, 3.411, 0.661, 4.521, 5.4, 2.023, 6.473, 2.097, 7.095, 8.251, 5.656, 8.884, 7.817, 13.05, 5.91, 15.866, 0.893, 3.344, 5.351, 0.0, 8.157, 5.6129999999999995, 1.289, 4.534, 4.688, 8.002, 4.191, 5.343, 1.857, 4.152, 6.426, 6.575, 11.236, 3.973, 7.781, 4.759, 3.141, 6.883, 6.01, 5.971, 8.079, 3.257, 4.673, 5.725, 7.832, 4.056, 3.936, 1.609, 6.964, 3.331, 0.0, 4.7059999999999995, 6.483, 6.179, 1.58, 4.92, 7.481, 2.7039999999999997, 0.849, 3.893, 4.592, 2.187, 7.523, 6.12, 1.754, 5.495, 0.054, 7.371, 6.122, 5.977, 8.109, 10.21, 0.0, 3.414, 2.414, 5.833, 1.8050000000000002, 6.326, 5.0, 4.168, 4.224, 9.919, 2.402, 5.644, 9.986, 8.593, 3.247, 3.39, 6.595, 1.738, 3.79, 1.819, 2.216, 3.36, 9.476, 3.157, 0.0, 2.95, 11.886, 2.754, 1.96, 0.865, 0.337, 3.6189999999999998, 7.237, 0.435, 6.213, 4.455, 6.719, 1.065, 3.737, 1.342, 1.645, 6.562, 0.762, 7.8469999999999995, 1.67, 4.47, 0.0, 2.805, 2.334, 4.443, 3.661, 3.789, 13.267, 3.567, 0.592, 0.0, 8.154, 3.212, 0.582, 4.449, 6.695, 10.051, 4.242, 6.702, 7.267, 6.651, 1.056, 2.666, 7.063, 0.0, 13.29, 2.742, 6.761, 3.096, 4.279, 4.163, 3.727, 4.273, 4.294, 5.821, 6.047, 8.72, 5.857, 5.019, 7.212, 0.871, 2.873, 5.23, 4.829, 5.691, 4.002, 1.044, 3.818, 3.574, 3.322, 6.626, 7.267, 5.526, 1.139, 1.689, 9.745, 6.024, 4.995, 3.9130000000000003, 4.663, 0.535, 1.262, 3.545, 5.692, 0.148, 2.586, 4.023, 6.7, 5.032, 9.024, 5.68, 7.516, 4.753, 4.715, 0.0, 0.627, 7.607, 7.564, 4.591, 6.913, 5.283, 0.792, 3.841, 1.85, 0.785, 3.674, 5.71, 1.7970000000000002, 8.792, 7.239, 1.706, 7.405, 2.672, 3.345, 3.84, 4.737, 5.139, 6.205, 4.841, 2.385, 5.417, 5.968, 7.766, 9.897, 7.324, 3.016, 3.79, 6.172, 3.305, 7.3629999999999995, 1.012, 8.713, 3.241, 8.127, 5.353, 5.023, 8.299, 6.799, 1.018, 0.514, 0.0, 5.956, 1.745, 4.327, 6.958, 1.438, 6.125, 1.751, 2.159, 5.561, 1.7149999999999999, 6.226, 2.876, 4.945, 8.96, 4.636, 2.38, 8.411, 4.009, 2.472, 0.737, 6.33, 2.508, 4.8870000000000005, 5.5, 0.871, 7.446, 7.156, 5.421, 3.841, 7.138, 1.721, 1.742, 3.338, 1.046, 5.368, 4.43, 5.194, 3.973, 12.236, 0.631, 1.176, 0.969, 0.673, 5.229, 5.894, 8.376, 5.078, 2.637, 7.209, 8.013, 4.218, 3.836, 5.127, 4.294, 4.287, 2.898, 13.308, 5.6, 3.49, 5.092, 5.189, 5.566, 6.029, 4.585, 2.961, 4.179, 3.392, 2.319, 1.8359999999999999, 1.014, 1.013, 0.073, 3.718, 3.177, 7.163, 4.102, 6.588, 0.0, 0.218, 1.054, 8.964, 5.606, 6.023, 7.896, 4.12, 5.062, 6.627, 6.852, 6.006, 4.811, 2.6029999999999998, 3.594, 4.066, 7.491, 6.596, 5.347, 3.107, 3.373, 9.98, 6.216, 8.173, 6.116, 0.977, 2.086, 4.974, 3.403, -0.037, 2.352, 3.993, 7.523, 0.445, 4.03, 6.958, 5.141, 4.662, 0.775, 3.016, 3.833, 4.746, 4.862, 5.049, 4.655, 9.096, 4.131, 4.066, 5.131, 3.052, 7.868, 0.0, 5.167, 5.051, 0.0, 0.0, 3.214, 2.643, 5.254, 4.641, 3.126, 3.967, 5.24, 5.084, 2.153, 5.9, 4.482, 9.006, 1.999, 3.987, 5.545, 1.499, 2.969, 1.391, 7.673, 4.709, 4.533, 0.988, 6.198, 0.996, 0.0, 4.286, 0.006, 4.834, 6.177, 7.93, 6.376, 2.997, 5.188, 7.555, 2.838, 4.78, 0.841, 8.462, 10.365, 11.52, 7.849, 4.702, 4.771, 8.788, 8.945, 1.393, 0.2, 0.0, 12.37, 6.368, -0.036000000000000004, 1.059, 7.154, 2.214, 2.48, 2.899, 5.696, 2.286, 1.691, 1.986, 5.696, 7.857, 0.343, 7.02, 5.398, 0.0, 2.086, 3.006, 4.8629999999999995, 7.366, 9.722, 8.792, 3.414, 0.895, 5.664, 6.744, 7.684, 2.757, 4.551, 4.743, 3.224, 2.81, 0.161, 4.836, 6.506, 7.41, 3.386, 3.507, 2.467, 5.261, 4.173, 2.702, 3.9, 1.07, 8.506, 4.607, 2.327, 0.0, 6.246, 6.819, 5.767, 0.0, 6.705, 2.729, 9.365, 0.0, 3.123, 5.737, 2.7640000000000002, 8.033, 0.0, 7.448, 5.087, 1.8559999999999999, 9.881, 7.898, 5.366, 1.891, 1.725, 0.069, 4.153, 7.077, 5.084, 2.474, 3.484, 2.686, 5.108, 0.759, 8.364, 3.848, 3.9130000000000003, 0.331, 4.253, 5.819, 4.433, 3.072, 1.236, 6.515, 4.664, 7.244, 6.241, 6.5280000000000005, 7.457, 9.07, 3.613, 4.845, 4.16, 4.058, 3.91, 8.175, 5.888, 8.263, 3.883, 1.246, 6.077, 0.8210000000000001, 8.068, 4.14, 4.453, 6.607, 7.949, 7.8260000000000005, 9.246, 6.329, 3.856, 3.127, 3.098, 5.812, 4.031, 3.344, 10.712, 8.816, 0.0, 4.145, 6.086, 2.998, 7.289, 2.071, 4.652, 5.361, 7.89, 8.633, 5.785, 6.7780000000000005, 5.591, 4.566, 0.355, 10.344, 8.016, 5.841, 6.918, 7.401, 0.401, 2.8449999999999998, 4.087, 6.723, 1.423, 5.007, 3.128, 1.603, 4.422, 6.05, 5.85, 6.85, 3.604, 4.673, 3.589, 4.5120000000000005, 5.883, 1.57, 3.6, 8.585, 3.313, 1.336, 0.133, 0.748, 7.55, 5.241, 5.728, 5.64, 1.248, 5.397, 4.431, 4.694, 0.9500000000000001, 2.014, 5.55, 6.95, 0.668, 6.948, 2.737, 4.029, 5.804, 5.505, 8.556000000000001, 2.553, 8.928, 0.363, 6.936, 3.3890000000000002, 8.363, 0.275, 2.11, 3.009, 3.147, 9.442, 1.949, 4.923, 9.305, 5.416, 12.333, 5.506, 8.896, 3.5, 3.968, 4.004, 5.297, 3.291, 5.843, 6.248, 3.32, 8.418, 2.198, 6.092, 4.578, 1.463, 7.017, 6.836, 5.779, 7.598, 6.491, 5.498, 2.916, 3.061, 2.7039999999999997, 4.297, 0.0, 3.673, 1.9849999999999999, 3.428, 4.289, 8.343, 10.223, 0.15, 6.388, 2.224, 0.796, 4.534, 4.524, 2.864, 6.295, 2.115, 2.203, 13.867, 0.045, 3.56, -0.10300000000000001, 3.193, 3.295, 2.152, 4.416, 4.827, 0.496, 1.663, 0.0, 5.529, 5.608, 6.748, 4.287, 5.174, 2.393, 9.487, 3.356, 4.573, 9.003, 5.985, 0.0, 4.873, 5.464, 6.964, 2.248, -0.005, 6.868, 0.6970000000000001, 0.99, 0.646, 4.73, 7.568, -0.023, 6.098, 6.7940000000000005, 0.798, 4.121, 5.007, 10.5, 9.653, 3.661, 4.984, 2.089, 2.641, 5.721, 4.2780000000000005, 0.0, 11.765, 9.393, 4.41, 5.84, 4.713, 8.947, 2.565, 1.31, 0.507, 0.644, 4.412, 3.9779999999999998, 3.254, 2.718, 4.295, 3.901, 6.201, 6.231, 0.402, 5.218, 3.852, 5.404, 8.226, 2.5869999999999997, 6.367, 2.454, 2.25, 5.792, 2.395, 4.123, 5.29, 0.449, 0.0, 3.543, 7.247, 9.161, 7.437, 5.843, 7.566, 2.602, 0.6910000000000001, 1.787, 1.4100000000000001, 5.692, 1.675, 4.429, 9.087, 0.989, 3.665, 8.969, 3.2880000000000003, 6.159, 7.085, 0.0, 5.066, 7.48, 0.649, 7.726, 6.633, 5.746, 3.805, 11.319, 1.8399999999999999, 0.0, 0.749, 10.214, 7.522, 2.574, 5.748, 0.016, 4.698, 0.40700000000000003, 3.142, 6.356, 0.47900000000000004, 0.076, 2.84, 3.411, 6.5440000000000005, 17.194, 5.441, 0.0, 1.92, 1.16, 10.37, 0.899, 8.334, 1.3599999999999999, 4.7940000000000005, 5.904, 2.295, 8.053, 5.698, 9.688, 0.658, 5.607, 2.96, 2.143, 5.319, 4.843, 2.567, 4.849, 1.249, 4.775, 1.637, 5.051, 5.097, 2.152, 5.093, 4.455, 4.067, 9.904, 6.199, 4.599, 3.544, 7.761, 4.756, 6.2780000000000005, 5.795, 3.354, 0.0, 4.558, 2.043, 3.743, 2.708, 5.789, 6.091, 0.7000000000000001, 4.344, 8.4, 6.112, 2.642, 4.658, 7.171, 8.946, 2.626, 4.96, 1.724, 0.0, 2.565, 0.7030000000000001, 5.378, 5.037, 2.373, 4.757, 6.779, 2.259, 4.75, 3.609, 1.004, 4.76, 9.517, 9.997, 7.385, 6.76, 2.67, 10.497, 6.541, 6.917, 6.49, 0.14400000000000002, 10.603, 1.301, 6.005, 7.248, 0.799, 2.9530000000000003, 0.0, 6.943, 2.871, 0.0, 6.294, 1.577, 2.745, 11.285, 7.14, 5.168, 0.057, 9.501, 5.771, 6.039, 6.614, 5.219, 3.575, 9.979, 5.77, 1.359, 3.832, 8.117, 5.199, 6.626, 6.182, 2.436, 2.8609999999999998, 0.0, 6.103, 0.0, 5.311, 3.407, 9.156, 4.889, 8.052, 1.982, 6.361, 1.2610000000000001, 1.2690000000000001, 6.67, 4.626, 8.766, 8.584, 8.584, 4.844, 4.2, 0.095, 0.0, 2.091, 6.068, 8.806000000000001, 3.239, 7.749, 6.883, 1.748, 11.513, 3.664, 5.655, 4.848, 5.452, 3.011, 3.9, 7.447, 1.5819999999999999, 10.323, 0.037, 8.278, 3.8040000000000003, 1.529, 5.684, 5.29, 8.002, 2.325, 5.642, 2.23, 0.883, 1.107, 8.126, 0.976, 6.277, 6.395, 5.062, 5.975, 2.759, 7.298, 0.465, 5.396, 7.494, 5.746, 5.561, 9.813, 4.197, 7.282, 5.268, 3.446, 6.215, 4.335, 7.025, 2.125, 0.365, 2.691, 8.395, 0.879, 9.582, 6.074, 7.7059999999999995, 0.0, 0.134, 4.646, 5.76, 0.926, 5.169, 0.317, 1.889, 4.755, 3.055, 6.118, 0.993, 3.598, 4.628, 2.833, 2.37, 0.6980000000000001, 10.127, 5.166, 7.247, 1.642, 1.794, 10.891, 2.944, 3.173, 5.406, 6.029, 8.32, 4.347, 12.288, 8.717, 0.23500000000000001, 3.475, 2.917, 2.105, 2.342, 7.96, 2.464, 3.3810000000000002, 3.039, 8.028, 9.516, 1.11, 2.8810000000000002, 7.619, 7.321, 3.964, 6.418, 1.714, 2.002, 1.08, 4.925, 1.424, 5.007, 6.979, 0.5760000000000001, 1.468, 3.358, 5.267, 3.553, 6.174, 6.028, 4.096, 4.055, 2.926, 1.826, 7.179, 2.211, 4.689, 0.662, 3.036, 6.294, 2.036, 2.169, 2.534, 8.978, 0.786, 0.0, 1.883, 6.531, 5.91, 1.468, 3.418, 2.474, 5.045, 0.925, 5.585, 0.388, 0.0, 10.129, 0.497, 6.082, 2.71, 4.828, 5.486, 2.042, 5.312, 0.896, 2.89, 1.254, 1.706, 7.141, 0.0, 5.239, 5.346, 4.557, 0.329, 1.874, 2.641, 6.443, 4.933, 5.026, 5.074, 6.098, 8.527, 9.248, 4.921, 1.429, 4.176, 5.698, 4.132, 3.973, 2.939, 0.507, 7.068, 5.067, 9.818, 8.554, 0.0, 4.502, 4.106, 0.041, 7.614, 9.154, 3.067, 0.0, 4.595, 3.302, 2.916, 3.302, 0.895, 3.999, 2.912, 1.63, 6.3629999999999995, 6.703, 2.664, 0.0, 8.596, 7.482, 0.985, 1.8090000000000002, 3.795, 5.326, 4.298, 3.029, 0.918, 4.458, 0.221, 8.123, 6.035, 5.7010000000000005, 1.996, 0.0, 0.0, 5.932, 3.908, 5.539, 4.193, 1.037, 4.509, 1.9300000000000002, 5.399, 1.962, 5.232, 6.748, 0.766, 6.68, 4.985, 4.352, 5.75, 4.733, 1.9849999999999999, 2.545, 7.316, 6.979, 6.68, 4.252, 2.4939999999999998, -0.001, 9.036, 4.018, 2.872, 3.681, 2.696, 2.002, 4.58, 1.913, 9.186, 8.933, 6.875, 4.048, 0.084, 11.379, 9.174, 3.3529999999999998, 4.478, 7.215, 5.172, 0.336, 3.491, 3.596, 2.541, 1.302, 5.157, 3.32, 13.129, 6.467, 2.729, 2.25, 0.0, 5.1, 4.291, 6.514, 7.026, 1.867, 4.44, 5.361, 3.046, 4.763, 0.72, 4.82, 0.0, 2.642, 5.971, 5.782, 6.291, 1.956, 3.924, 4.523, 1.966, 3.738, 1.344, 1.8399999999999999, 5.5809999999999995, 3.952, 1.9929999999999999, 1.859, 1.409, 5.001, 6.578, 10.362, 7.08, 2.014, 5.93, 0.775, 3.358, 3.259, 6.855, 3.924, 3.964, 10.763, 1.186, 9.251, 2.3529999999999998, 4.368, 4.111, 2.436, 2.805, 6.411, 3.574, 1.782, 8.207, 0.0, 1.409, 2.967, 4.671, 8.572, 2.68, 4.187, 4.249, 4.556, 0.425, 7.3870000000000005, 7.19, 4.931, 10.102, 8.403, 5.401, 7.297, 1.5710000000000002, 10.019, 5.159, 3.974, 1.158, 3.424, 4.621, 1.8519999999999999, 4.902, 2.089, 6.41, 3.257, 7.274, 4.173, 11.438, 8.031, 2.81, 7.554, 4.635, 3.997, 5.522, 8.414, 3.669, 3.196, 0.926, 2.727, 5.105, 7.5969999999999995, 1.362, 5.846, 2.822, 0.373, 0.914, 7.149, 7.386, 4.107, 5.062, 6.22, 3.951, 6.631, 2.16, 6.716, 4.72, 3.714, 2.19, 5.2620000000000005, 3.615, 0.312, 7.305, 8.318, 0.501, 5.047, 8.865, 6.026, 1.3900000000000001, 2.661, 6.556, 5.725, 0.591, 4.41, 0.044, 6.535, 0.504, 0.681, 2.269, 0.8130000000000001, 3.355, 3.416, 6.413, 8.298, 4.577, 5.417, 4.344, 0.601, 6.326, 4.129, 5.476, 0.333, 5.646, 0.199, 6.088, 0.658, 3.384, 3.5620000000000003, 7.046, 5.268, 6.382, 1.443, 8.588, 4.144, 1.633, 0.5640000000000001, 4.2, 8.095, 5.194, 3.898, 6.963, 0.514, 6.116, 5.546, 7.882, 3.152, 7.946, 13.622, 4.66, 4.862, 1.012, 1.658, 8.604, 4.1, 0.639, 4.2620000000000005, 5.129, 9.929, 6.535, 6.645, 4.592, 0.645, 3.911, 3.423, 7.768, 3.132, 6.628, 8.136, 14.45, 3.818, 9.975999999999999, 4.342, 5.802, 4.737, 9.707, 2.252, 13.754, 9.149, 3.4859999999999998, 6.302, 2.842, 1.528, 4.8, 0.0, 2.101, 2.489, 1.478, 4.14, 4.263, 5.406, 4.439, 6.514, 2.484, 3.833, 7.07, 6.023, 0.872, 6.846, 4.301, 7.748, 5.788, 7.519, 6.109, 3.817, 0.559, 5.711, 0.337, 3.128, 1.017, 1.466, 0.851, 5.014, 5.087, 0.0, 3.571, 5.707, 9.455, 5.967, 9.131, 6.754, 9.678, 2.904, 0.23900000000000002, 9.181, 5.848, 9.125, 2.261, 0.586, 6.673, 1.491, 6.825, 5.663, 6.117, 1.607, 6.976, 5.362, 7.907, 4.682, 4.174, 0.0, 0.20800000000000002, 2.532, 5.584, 3.274, 5.197, 4.782, 6.892, 5.365, 7.674, 2.654, 2.239, 3.055, 3.222, 4.481, 5.25, 2.468, 5.083, 3.358, 6.905, 7.798, 0.593, 4.658, 6.366, 4.724, 5.622, 9.118, 7.171, 6.64, 4.442, 2.949, 4.745, 3.841, 1.733, 1.291, 1.003, 5.687, 5.834, 6.116, 0.0, 5.663, 0.865, 6.126, 0.584, 7.325, 4.838, 5.059, 1.123, 6.516, 5.241, 3.2800000000000002, 5.651, 3.615, 6.297, 5.459, 3.223, 7.126, 2.932, 3.2439999999999998, 8.181, 11.568, 4.332, 5.713, 9.451, 7.771, 0.17500000000000002, 4.7780000000000005, 1.221, 6.28, 0.05, 4.626, 1.354, 1.276, 3.005, 5.953, 4.185, 8.749, 2.001, 3.533, 5.804, 0.883, 6.2, 4.845, 3.496, 7.224, 5.091, 1.116, 0.443, 4.128, 0.877, 6.534, 8.76, 4.09, 6.118, 9.026, 2.979, 1.542, 4.099, 3.317, 7.938, 8.982, 8.437, 0.465, 6.468, 0.006, 3.009, 1.102, 0.272, 4.93, 12.935, 0.0, 6.04, 0.35100000000000003, 1.615, 1.518, 5.9719999999999995, 2.926, 3.6109999999999998, 6.029, 3.968, 5.045, 4.721, 2.401, 5.064, 2.145, 2.667, 3.414, 10.229, 2.6790000000000003, 2.434, 0.55, 1.008, 4.98, 6.62, 0.429, 2.212, 3.908, 8.414, 1.012, 4.306, 3.022, 11.372, 2.495, 8.336, 3.794, 2.6550000000000002, 5.347, 4.987, 1.0, 3.032, 6.213, 3.606, 6.726, 9.081, 5.423, 3.236, 9.664, 3.023, 9.766, 7.011, 4.007, 3.699, 5.763, 6.085, 4.376, 8.112, 4.961, 4.4, 3.159, 4.355, 0.0, 3.105, 2.914, 3.051, 4.623, 0.5650000000000001, 0.006, 2.883, 4.114, 8.946, 6.219, 8.102, 0.0, 8.931000000000001, 10.104, 3.564, 4.316, 9.079, 0.542, 0.0, 0.553, 7.336, 8.132, 5.291, 1.512, 1.5310000000000001, 5.904, 1.838, 5.148, 5.3870000000000005, 1.4809999999999999, 4.361, 7.617, 3.156, 7.452, 5.773, 9.674, 3.233, 6.691, 7.027, 6.457, 2.625, 1.478, 9.942, 5.35, 4.377, 4.177, 4.28, 4.056, 5.411, 0.311, 7.734, 5.829, 0.798, 0.491, 5.345, 1.929, 4.58, 1.3860000000000001, 4.305, 7.882, 1.193, 4.308, 4.248, 5.334, 7.131, 7.941, 7.311, 2.533, 5.833, 0.743, 11.557, 2.753, 6.968, 3.76, 6.979, 4.893, 3.4, 2.114, 0.0, 5.328, 2.14, 0.0, 2.738, 0.911, 4.9030000000000005, 3.332, 7.624, 6.543, 6.236, 6.115, 4.608, 3.545, 4.34, 4.439, 5.24, 3.843, 4.946, 4.664, 14.03, 6.783, 9.124, 3.936, -0.08700000000000001, 4.6530000000000005, 4.545, 3.5620000000000003, 4.328, 5.571, 0.0, 0.9580000000000001, 7.889, 0.0, 2.85, 0.96, 4.146, 5.51, 4.077, 8.456, 6.643, 3.7359999999999998, 4.833, 1.658, 5.229, 0.052000000000000005, 2.515, 1.5859999999999999, 7.122, 5.502, 3.623, 5.006, 12.401, 0.338, 0.17400000000000002, 6.572, 5.824, 7.968, 8.07, 4.415, 2.555, 6.912, 6.054, 0.007, 1.895, 0.301, 0.0, 5.537, 3.884, 0.0, 4.843, 8.021, 4.163, 7.691, 2.363, 0.058, 0.708, 0.0, 2.396, 0.366, 5.23, 6.364, 3.23, 1.518, 7.693, 10.83, 4.628, 7.51, 5.857, 1.051, 10.091, 7.558, 0.0, 1.887, 3.515, 15.585, 7.311, 6.174, 1.873, 4.297, 0.0, 0.293, 6.287, 1.08, 3.027, 2.198, 4.444, 5.728, 2.318, 3.011, 3.955, 4.057, 8.329, 0.0, 6.724, 0.244, 6.431, 5.665, 9.816, 2.24, 6.3870000000000005, 5.9030000000000005, 1.213, 5.203, 3.052, 2.172, 0.0, 4.917, 6.474, 5.616, 6.16, 1.08, 4.729, 3.472, 4.828, 3.33, 4.739, 3.716, 1.26, 2.341, 9.51, 2.32, 7.331, 5.024, 0.0, 0.0, 2.821, 3.05, 6.693, 6.118, 2.035, 3.358, 3.484, 0.0, 3.478, 2.248, 3.789, 3.025, 1.3519999999999999, 8.603, 11.042, 5.602, 3.2800000000000002, 5.343, 6.899, 5.981, 4.298, 1.929, 3.222, 5.348, 1.351, 5.049, 9.723, 6.259, 1.786, 0.0, 1.167, 5.599, 1.365, 2.168, 7.328, 4.118, 5.949, 8.661, 2.592, 1.263, 2.227, 7.931, 0.0, 4.855, 7.38, 4.545, 4.458, 4.365, 6.204, 8.996, 6.965, 4.156, 12.223, 6.178, 8.617, 4.579, 2.027, 1.758, 4.133, 10.932, 2.489, 4.83, 6.094, 4.926, 6.107, 5.636, 0.0, 6.833, 4.976, 6.645, 2.292, 7.708, 4.155, 6.853, 5.728, 7.525, 7.27, 2.719, 5.633, 3.534, 1.7309999999999999, 6.565, 3.8810000000000002, 1.235, 2.528, 6.486, 0.0, 3.279, 6.802, 7.05, 5.35, 2.191, 0.611, 5.157, 3.839, 6.556, 1.321, 6.834, 0.0, 6.253, 1.691, 7.891, 6.099, 2.349, 11.103, 7.098, 3.223, 1.6800000000000002, 1.921, 3.286, 2.18, 5.771, 3.841, 3.886, 0.741, 6.16, 4.41, 5.04, 7.003, 6.599, 2.141, 3.7640000000000002, 3.442, 3.624, 0.0, 5.448, 10.169, 5.6850000000000005, 0.0, 12.81, 4.54, 11.477, 2.329, 7.043, 10.865, 4.697, 7.58, 0.0, 11.589, 5.029, 2.418, 4.882, 3.653, 6.064, 3.331, 4.017, 1.995, 4.036, 3.227, 0.34500000000000003, 5.553, 6.545], \"xaxis\": \"x\", \"yaxis\": \"y\"}],                        {\"barmode\": \"relative\", \"height\": 400, \"legend\": {\"tracegroupgap\": 0}, \"template\": {\"data\": {\"bar\": [{\"error_x\": {\"color\": \"#2a3f5f\"}, \"error_y\": {\"color\": \"#2a3f5f\"}, \"marker\": {\"line\": {\"color\": \"#E5ECF6\", \"width\": 0.5}}, \"type\": \"bar\"}], \"barpolar\": [{\"marker\": {\"line\": {\"color\": \"#E5ECF6\", \"width\": 0.5}}, \"type\": \"barpolar\"}], \"carpet\": [{\"aaxis\": {\"endlinecolor\": \"#2a3f5f\", \"gridcolor\": \"white\", \"linecolor\": \"white\", \"minorgridcolor\": \"white\", \"startlinecolor\": \"#2a3f5f\"}, \"baxis\": {\"endlinecolor\": \"#2a3f5f\", \"gridcolor\": \"white\", \"linecolor\": \"white\", \"minorgridcolor\": \"white\", \"startlinecolor\": \"#2a3f5f\"}, \"type\": \"carpet\"}], \"choropleth\": [{\"colorbar\": {\"outlinewidth\": 0, \"ticks\": \"\"}, \"type\": \"choropleth\"}], \"contour\": [{\"colorbar\": {\"outlinewidth\": 0, \"ticks\": \"\"}, \"colorscale\": [[0.0, \"#0d0887\"], [0.1111111111111111, \"#46039f\"], [0.2222222222222222, \"#7201a8\"], [0.3333333333333333, \"#9c179e\"], [0.4444444444444444, \"#bd3786\"], [0.5555555555555556, \"#d8576b\"], [0.6666666666666666, \"#ed7953\"], [0.7777777777777778, \"#fb9f3a\"], [0.8888888888888888, \"#fdca26\"], [1.0, \"#f0f921\"]], \"type\": \"contour\"}], \"contourcarpet\": [{\"colorbar\": {\"outlinewidth\": 0, \"ticks\": \"\"}, \"type\": \"contourcarpet\"}], \"heatmap\": [{\"colorbar\": {\"outlinewidth\": 0, \"ticks\": \"\"}, \"colorscale\": [[0.0, \"#0d0887\"], [0.1111111111111111, \"#46039f\"], [0.2222222222222222, \"#7201a8\"], [0.3333333333333333, \"#9c179e\"], [0.4444444444444444, \"#bd3786\"], [0.5555555555555556, \"#d8576b\"], [0.6666666666666666, \"#ed7953\"], [0.7777777777777778, \"#fb9f3a\"], [0.8888888888888888, \"#fdca26\"], [1.0, \"#f0f921\"]], \"type\": \"heatmap\"}], \"heatmapgl\": [{\"colorbar\": {\"outlinewidth\": 0, \"ticks\": \"\"}, \"colorscale\": [[0.0, \"#0d0887\"], [0.1111111111111111, \"#46039f\"], [0.2222222222222222, \"#7201a8\"], [0.3333333333333333, \"#9c179e\"], [0.4444444444444444, \"#bd3786\"], [0.5555555555555556, \"#d8576b\"], [0.6666666666666666, \"#ed7953\"], [0.7777777777777778, \"#fb9f3a\"], [0.8888888888888888, \"#fdca26\"], [1.0, \"#f0f921\"]], \"type\": \"heatmapgl\"}], \"histogram\": [{\"marker\": {\"colorbar\": {\"outlinewidth\": 0, \"ticks\": \"\"}}, \"type\": \"histogram\"}], \"histogram2d\": [{\"colorbar\": {\"outlinewidth\": 0, \"ticks\": \"\"}, \"colorscale\": [[0.0, \"#0d0887\"], [0.1111111111111111, \"#46039f\"], [0.2222222222222222, \"#7201a8\"], [0.3333333333333333, \"#9c179e\"], [0.4444444444444444, \"#bd3786\"], [0.5555555555555556, \"#d8576b\"], [0.6666666666666666, \"#ed7953\"], [0.7777777777777778, \"#fb9f3a\"], [0.8888888888888888, \"#fdca26\"], [1.0, \"#f0f921\"]], \"type\": \"histogram2d\"}], \"histogram2dcontour\": [{\"colorbar\": {\"outlinewidth\": 0, \"ticks\": \"\"}, \"colorscale\": [[0.0, \"#0d0887\"], [0.1111111111111111, \"#46039f\"], [0.2222222222222222, \"#7201a8\"], [0.3333333333333333, \"#9c179e\"], [0.4444444444444444, \"#bd3786\"], [0.5555555555555556, \"#d8576b\"], [0.6666666666666666, \"#ed7953\"], [0.7777777777777778, \"#fb9f3a\"], [0.8888888888888888, \"#fdca26\"], [1.0, \"#f0f921\"]], \"type\": \"histogram2dcontour\"}], \"mesh3d\": [{\"colorbar\": {\"outlinewidth\": 0, \"ticks\": \"\"}, \"type\": \"mesh3d\"}], \"parcoords\": [{\"line\": {\"colorbar\": {\"outlinewidth\": 0, \"ticks\": \"\"}}, \"type\": \"parcoords\"}], \"pie\": [{\"automargin\": true, \"type\": \"pie\"}], \"scatter\": [{\"marker\": {\"colorbar\": {\"outlinewidth\": 0, \"ticks\": \"\"}}, \"type\": \"scatter\"}], \"scatter3d\": [{\"line\": {\"colorbar\": {\"outlinewidth\": 0, \"ticks\": \"\"}}, \"marker\": {\"colorbar\": {\"outlinewidth\": 0, \"ticks\": \"\"}}, \"type\": \"scatter3d\"}], \"scattercarpet\": [{\"marker\": {\"colorbar\": {\"outlinewidth\": 0, \"ticks\": \"\"}}, \"type\": \"scattercarpet\"}], \"scattergeo\": [{\"marker\": {\"colorbar\": {\"outlinewidth\": 0, \"ticks\": \"\"}}, \"type\": \"scattergeo\"}], \"scattergl\": [{\"marker\": {\"colorbar\": {\"outlinewidth\": 0, \"ticks\": \"\"}}, \"type\": \"scattergl\"}], \"scattermapbox\": [{\"marker\": {\"colorbar\": {\"outlinewidth\": 0, \"ticks\": \"\"}}, \"type\": \"scattermapbox\"}], \"scatterpolar\": [{\"marker\": {\"colorbar\": {\"outlinewidth\": 0, \"ticks\": \"\"}}, \"type\": \"scatterpolar\"}], \"scatterpolargl\": [{\"marker\": {\"colorbar\": {\"outlinewidth\": 0, \"ticks\": \"\"}}, \"type\": \"scatterpolargl\"}], \"scatterternary\": [{\"marker\": {\"colorbar\": {\"outlinewidth\": 0, \"ticks\": \"\"}}, \"type\": \"scatterternary\"}], \"surface\": [{\"colorbar\": {\"outlinewidth\": 0, \"ticks\": \"\"}, \"colorscale\": [[0.0, \"#0d0887\"], [0.1111111111111111, \"#46039f\"], [0.2222222222222222, \"#7201a8\"], [0.3333333333333333, \"#9c179e\"], [0.4444444444444444, \"#bd3786\"], [0.5555555555555556, \"#d8576b\"], [0.6666666666666666, \"#ed7953\"], [0.7777777777777778, \"#fb9f3a\"], [0.8888888888888888, \"#fdca26\"], [1.0, \"#f0f921\"]], \"type\": \"surface\"}], \"table\": [{\"cells\": {\"fill\": {\"color\": \"#EBF0F8\"}, \"line\": {\"color\": \"white\"}}, \"header\": {\"fill\": {\"color\": \"#C8D4E3\"}, \"line\": {\"color\": \"white\"}}, \"type\": \"table\"}]}, \"layout\": {\"annotationdefaults\": {\"arrowcolor\": \"#2a3f5f\", \"arrowhead\": 0, \"arrowwidth\": 1}, \"autotypenumbers\": \"strict\", \"coloraxis\": {\"colorbar\": {\"outlinewidth\": 0, \"ticks\": \"\"}}, \"colorscale\": {\"diverging\": [[0, \"#8e0152\"], [0.1, \"#c51b7d\"], [0.2, \"#de77ae\"], [0.3, \"#f1b6da\"], [0.4, \"#fde0ef\"], [0.5, \"#f7f7f7\"], [0.6, \"#e6f5d0\"], [0.7, \"#b8e186\"], [0.8, \"#7fbc41\"], [0.9, \"#4d9221\"], [1, \"#276419\"]], \"sequential\": [[0.0, \"#0d0887\"], [0.1111111111111111, \"#46039f\"], [0.2222222222222222, \"#7201a8\"], [0.3333333333333333, \"#9c179e\"], [0.4444444444444444, \"#bd3786\"], [0.5555555555555556, \"#d8576b\"], [0.6666666666666666, \"#ed7953\"], [0.7777777777777778, \"#fb9f3a\"], [0.8888888888888888, \"#fdca26\"], [1.0, \"#f0f921\"]], \"sequentialminus\": [[0.0, \"#0d0887\"], [0.1111111111111111, \"#46039f\"], [0.2222222222222222, \"#7201a8\"], [0.3333333333333333, \"#9c179e\"], [0.4444444444444444, \"#bd3786\"], [0.5555555555555556, \"#d8576b\"], [0.6666666666666666, \"#ed7953\"], [0.7777777777777778, \"#fb9f3a\"], [0.8888888888888888, \"#fdca26\"], [1.0, \"#f0f921\"]]}, \"colorway\": [\"#636efa\", \"#EF553B\", \"#00cc96\", \"#ab63fa\", \"#FFA15A\", \"#19d3f3\", \"#FF6692\", \"#B6E880\", \"#FF97FF\", \"#FECB52\"], \"font\": {\"color\": \"#2a3f5f\"}, \"geo\": {\"bgcolor\": \"white\", \"lakecolor\": \"white\", \"landcolor\": \"#E5ECF6\", \"showlakes\": true, \"showland\": true, \"subunitcolor\": \"white\"}, \"hoverlabel\": {\"align\": \"left\"}, \"hovermode\": \"closest\", \"mapbox\": {\"style\": \"light\"}, \"paper_bgcolor\": \"white\", \"plot_bgcolor\": \"#E5ECF6\", \"polar\": {\"angularaxis\": {\"gridcolor\": \"white\", \"linecolor\": \"white\", \"ticks\": \"\"}, \"bgcolor\": \"#E5ECF6\", \"radialaxis\": {\"gridcolor\": \"white\", \"linecolor\": \"white\", \"ticks\": \"\"}}, \"scene\": {\"xaxis\": {\"backgroundcolor\": \"#E5ECF6\", \"gridcolor\": \"white\", \"gridwidth\": 2, \"linecolor\": \"white\", \"showbackground\": true, \"ticks\": \"\", \"zerolinecolor\": \"white\"}, \"yaxis\": {\"backgroundcolor\": \"#E5ECF6\", \"gridcolor\": \"white\", \"gridwidth\": 2, \"linecolor\": \"white\", \"showbackground\": true, \"ticks\": \"\", \"zerolinecolor\": \"white\"}, \"zaxis\": {\"backgroundcolor\": \"#E5ECF6\", \"gridcolor\": \"white\", \"gridwidth\": 2, \"linecolor\": \"white\", \"showbackground\": true, \"ticks\": \"\", \"zerolinecolor\": \"white\"}}, \"shapedefaults\": {\"line\": {\"color\": \"#2a3f5f\"}}, \"ternary\": {\"aaxis\": {\"gridcolor\": \"white\", \"linecolor\": \"white\", \"ticks\": \"\"}, \"baxis\": {\"gridcolor\": \"white\", \"linecolor\": \"white\", \"ticks\": \"\"}, \"bgcolor\": \"#E5ECF6\", \"caxis\": {\"gridcolor\": \"white\", \"linecolor\": \"white\", \"ticks\": \"\"}}, \"title\": {\"x\": 0.05}, \"xaxis\": {\"automargin\": true, \"gridcolor\": \"white\", \"linecolor\": \"white\", \"ticks\": \"\", \"title\": {\"standoff\": 15}, \"zerolinecolor\": \"white\", \"zerolinewidth\": 2}, \"yaxis\": {\"automargin\": true, \"gridcolor\": \"white\", \"linecolor\": \"white\", \"ticks\": \"\", \"title\": {\"standoff\": 15}, \"zerolinecolor\": \"white\", \"zerolinewidth\": 2}}}, \"title\": {\"text\": \"signal_to_noise distribution\"}, \"width\": 800, \"xaxis\": {\"anchor\": \"y\", \"domain\": [0.0, 1.0], \"title\": {\"text\": \"signal_to_noise\"}}, \"yaxis\": {\"anchor\": \"x\", \"domain\": [0.0, 1.0], \"title\": {\"text\": \"count\"}}},                        {\"responsive\": true}                    ).then(function(){\n                            \nvar gd = document.getElementById('f3eb5255-1c02-48ae-bc10-1d2f551eaeca');\nvar x = new MutationObserver(function (mutations, observer) {{\n        var display = window.getComputedStyle(gd).display;\n        if (!display || display === 'none') {{\n            console.log([gd, 'removed!']);\n            Plotly.purge(gd);\n            observer.disconnect();\n        }}\n}});\n\n// Listen for the removal of the full notebook cells\nvar notebookContainer = gd.closest('#notebook-container');\nif (notebookContainer) {{\n    x.observe(notebookContainer, {childList: true});\n}}\n\n// Listen for the clearing of the current output cell\nvar outputEl = gd.closest('.output');\nif (outputEl) {{\n    x.observe(outputEl, {childList: true});\n}}\n\n                        })                };                            </script>        </div>\n</body>\n</html>"
     },
     "metadata": {},
     "output_type": "display_data"
    }
   ],
   "execution_count": null
  },
  {
   "cell_type": "markdown",
   "source": "## Removing negetive values",
   "metadata": {
    "tags": [],
    "cell_id": "00028-789118f6-2bce-47c9-b19f-48c1a0c5d7d8",
    "deepnote_cell_type": "markdown"
   }
  },
  {
   "cell_type": "code",
   "metadata": {
    "execution": {
     "iopub.status.busy": "2021-06-19T12:57:23.036105Z",
     "iopub.execute_input": "2021-06-19T12:57:23.036542Z",
     "iopub.status.idle": "2021-06-19T12:57:23.057929Z",
     "shell.execute_reply.started": "2021-06-19T12:57:23.036494Z",
     "shell.execute_reply": "2021-06-19T12:57:23.056757Z"
    },
    "trusted": true,
    "cell_id": "00014-ec742ec0-4467-43bb-9681-6f498f574d39",
    "deepnote_to_be_reexecuted": false,
    "source_hash": "c25631b3",
    "execution_start": 1624282810620,
    "execution_millis": 0,
    "deepnote_cell_type": "code"
   },
   "source": "train = train.query(\"signal_to_noise >= 1\")",
   "outputs": [],
   "execution_count": null
  },
  {
   "cell_type": "markdown",
   "source": "## Sequence Test length\nWe need to divide our test dataset into two different data frames based on different sequence lengths. Splitting them into Public and private data frames.",
   "metadata": {
    "tags": [],
    "cell_id": "00023-d4616df3-54f2-4d82-ac23-4651da9c1d02",
    "deepnote_cell_type": "markdown"
   }
  },
  {
   "cell_type": "code",
   "metadata": {
    "tags": [],
    "cell_id": "00023-b8d4a8be-f714-46e5-a40d-4d2a58122c9a",
    "deepnote_to_be_reexecuted": false,
    "source_hash": "b237e3fa",
    "execution_start": 1624282810620,
    "execution_millis": 19,
    "deepnote_cell_type": "code"
   },
   "source": "fig = px.histogram(\n    test, \n    \"seq_length\", \n    nbins=25, \n    title='sequence_length distribution', \n    width=800,\n    height=400\n)\nfig.show()",
   "outputs": [
    {
     "data": {
      "text/html": "<html>\n<head><meta charset=\"utf-8\" /></head>\n<body>\n    <div>            <script src=\"https://cdnjs.cloudflare.com/ajax/libs/mathjax/2.7.5/MathJax.js?config=TeX-AMS-MML_SVG\"></script><script type=\"text/javascript\">if (window.MathJax) {MathJax.Hub.Config({SVG: {font: \"STIX-Web\"}});}</script>                <script type=\"text/javascript\">window.PlotlyConfig = {MathJaxConfig: 'local'};</script>\n        <script src=\"https://cdn.plot.ly/plotly-latest.min.js\"></script>                <div id=\"f1ca465f-8e3d-40f1-8011-2d69f78411c7\" class=\"plotly-graph-div\" style=\"height:400px; width:800px;\"></div>            <script type=\"text/javascript\">                                    window.PLOTLYENV=window.PLOTLYENV || {};                                    if (document.getElementById(\"f1ca465f-8e3d-40f1-8011-2d69f78411c7\")) {                    Plotly.newPlot(                        \"f1ca465f-8e3d-40f1-8011-2d69f78411c7\",                        [{\"alignmentgroup\": \"True\", \"bingroup\": \"x\", \"hovertemplate\": \"seq_length=%{x}<br>count=%{y}<extra></extra>\", \"legendgroup\": \"\", \"marker\": {\"color\": \"#636efa\"}, \"name\": \"\", \"nbinsx\": 25, \"offsetgroup\": \"\", \"orientation\": \"v\", \"showlegend\": false, \"type\": \"histogram\", \"x\": [107, 130, 107, 107, 130, 130, 130, 130, 130, 130, 130, 130, 130, 130, 130, 130, 130, 130, 107, 130, 130, 130, 130, 107, 130, 130, 130, 130, 107, 130, 130, 130, 130, 130, 130, 107, 130, 107, 130, 130, 130, 130, 107, 107, 130, 130, 130, 130, 107, 107, 107, 130, 130, 130, 130, 130, 130, 130, 107, 130, 107, 107, 130, 130, 130, 130, 130, 130, 130, 130, 130, 107, 130, 130, 130, 130, 130, 130, 130, 130, 130, 130, 130, 130, 130, 130, 130, 107, 130, 130, 130, 130, 107, 130, 107, 130, 107, 130, 130, 130, 130, 130, 130, 130, 130, 130, 130, 130, 107, 130, 130, 130, 130, 130, 130, 130, 130, 107, 130, 107, 130, 130, 107, 130, 130, 130, 130, 130, 130, 130, 130, 130, 107, 130, 130, 107, 130, 130, 130, 130, 130, 130, 107, 130, 130, 130, 107, 130, 130, 107, 130, 130, 107, 130, 130, 130, 130, 130, 130, 130, 130, 130, 130, 107, 130, 130, 130, 130, 130, 130, 130, 130, 130, 130, 107, 130, 130, 130, 130, 130, 107, 107, 130, 107, 130, 130, 107, 130, 130, 130, 130, 130, 130, 130, 130, 130, 130, 130, 130, 130, 130, 130, 130, 107, 130, 107, 130, 130, 130, 130, 130, 107, 130, 107, 130, 107, 107, 130, 130, 130, 130, 130, 130, 107, 130, 130, 130, 130, 130, 130, 130, 107, 130, 130, 130, 130, 107, 130, 130, 130, 130, 130, 130, 107, 130, 130, 130, 107, 130, 130, 130, 130, 107, 107, 107, 130, 130, 130, 130, 107, 130, 107, 130, 130, 130, 130, 130, 130, 130, 130, 107, 130, 130, 130, 130, 107, 130, 130, 130, 130, 130, 130, 130, 130, 130, 130, 130, 130, 130, 130, 130, 107, 107, 130, 130, 130, 130, 130, 130, 130, 130, 130, 107, 130, 107, 130, 130, 130, 130, 130, 130, 130, 130, 130, 130, 130, 107, 130, 130, 130, 130, 130, 130, 107, 130, 130, 130, 107, 107, 130, 130, 130, 130, 107, 107, 130, 130, 130, 130, 130, 107, 130, 130, 130, 130, 107, 130, 130, 130, 130, 130, 130, 130, 130, 107, 130, 130, 130, 130, 130, 130, 130, 130, 130, 130, 130, 107, 130, 130, 130, 107, 107, 130, 130, 107, 107, 130, 130, 130, 130, 107, 130, 130, 130, 130, 130, 130, 130, 130, 107, 130, 130, 130, 130, 130, 130, 107, 107, 130, 130, 130, 130, 107, 130, 130, 130, 130, 130, 130, 130, 130, 130, 130, 130, 130, 130, 130, 130, 130, 130, 130, 130, 130, 107, 107, 130, 107, 130, 130, 130, 130, 130, 130, 130, 107, 130, 130, 130, 130, 130, 130, 107, 130, 130, 130, 130, 130, 107, 130, 130, 130, 130, 130, 107, 107, 130, 130, 130, 130, 130, 130, 130, 130, 130, 107, 130, 130, 130, 130, 107, 130, 107, 130, 107, 107, 130, 130, 130, 130, 130, 107, 130, 130, 130, 130, 130, 130, 130, 107, 130, 130, 107, 130, 107, 130, 130, 107, 107, 130, 130, 107, 130, 130, 130, 130, 130, 130, 107, 130, 130, 107, 130, 130, 130, 130, 130, 107, 130, 130, 130, 130, 130, 130, 130, 130, 130, 130, 130, 130, 130, 130, 130, 130, 130, 130, 130, 130, 130, 107, 130, 107, 130, 130, 130, 130, 130, 107, 130, 130, 130, 130, 130, 130, 130, 130, 130, 130, 130, 130, 130, 130, 130, 130, 130, 130, 130, 107, 107, 107, 130, 130, 130, 130, 130, 130, 130, 130, 107, 107, 130, 130, 107, 130, 130, 130, 130, 107, 130, 130, 130, 130, 130, 107, 130, 130, 107, 130, 130, 130, 130, 130, 130, 107, 130, 130, 130, 130, 130, 130, 130, 130, 130, 130, 130, 130, 130, 130, 107, 130, 130, 130, 130, 130, 130, 130, 130, 107, 130, 130, 130, 130, 130, 130, 130, 107, 130, 130, 130, 107, 130, 130, 130, 130, 130, 107, 130, 130, 130, 130, 130, 130, 130, 130, 130, 107, 107, 130, 107, 130, 107, 130, 130, 107, 130, 130, 130, 130, 130, 130, 130, 107, 130, 130, 130, 130, 130, 107, 130, 130, 130, 130, 130, 130, 107, 130, 130, 130, 130, 130, 130, 107, 130, 130, 107, 130, 107, 130, 130, 130, 130, 130, 130, 130, 107, 130, 130, 130, 130, 130, 130, 130, 130, 130, 130, 130, 130, 130, 130, 130, 107, 107, 130, 130, 107, 130, 107, 107, 130, 130, 130, 130, 130, 130, 130, 107, 130, 130, 107, 130, 130, 107, 130, 130, 130, 107, 130, 130, 130, 130, 130, 130, 130, 130, 130, 130, 130, 130, 130, 130, 130, 130, 130, 130, 130, 130, 130, 130, 130, 130, 130, 130, 130, 130, 130, 130, 130, 130, 130, 130, 130, 130, 107, 130, 107, 130, 130, 130, 130, 130, 107, 130, 130, 107, 130, 107, 107, 130, 130, 130, 130, 107, 107, 130, 130, 130, 130, 130, 130, 130, 130, 130, 107, 130, 107, 130, 107, 107, 130, 130, 130, 130, 130, 130, 130, 130, 130, 130, 130, 130, 130, 130, 130, 130, 130, 130, 130, 130, 130, 130, 130, 130, 130, 130, 130, 107, 130, 130, 130, 130, 130, 107, 130, 130, 130, 107, 130, 107, 130, 130, 130, 130, 130, 130, 130, 130, 130, 130, 130, 130, 107, 107, 130, 107, 130, 130, 130, 130, 130, 130, 130, 130, 130, 130, 130, 130, 130, 130, 130, 130, 130, 130, 130, 130, 130, 130, 130, 130, 130, 130, 130, 130, 130, 130, 130, 107, 130, 130, 130, 130, 130, 130, 130, 130, 130, 107, 130, 130, 107, 130, 130, 130, 130, 107, 130, 107, 130, 130, 130, 130, 130, 130, 130, 130, 130, 107, 130, 130, 130, 130, 130, 107, 130, 130, 130, 130, 130, 107, 130, 130, 130, 130, 130, 130, 130, 130, 130, 107, 130, 130, 130, 130, 130, 130, 130, 130, 130, 107, 130, 130, 130, 130, 130, 130, 130, 130, 130, 130, 130, 130, 130, 130, 130, 130, 130, 130, 130, 107, 130, 130, 130, 130, 107, 130, 130, 130, 130, 130, 130, 130, 130, 130, 130, 130, 130, 130, 130, 130, 107, 130, 130, 130, 130, 107, 130, 130, 130, 130, 130, 130, 130, 130, 130, 130, 107, 107, 107, 130, 130, 130, 130, 130, 107, 130, 130, 130, 130, 130, 130, 130, 130, 130, 130, 130, 130, 107, 107, 107, 130, 130, 107, 130, 107, 130, 130, 130, 130, 130, 107, 130, 130, 130, 130, 130, 107, 130, 107, 130, 130, 130, 130, 130, 107, 130, 130, 130, 130, 130, 130, 130, 107, 130, 130, 130, 130, 130, 130, 130, 130, 130, 107, 130, 107, 130, 130, 107, 130, 130, 130, 107, 130, 130, 130, 130, 107, 130, 130, 130, 107, 130, 130, 130, 130, 130, 130, 130, 130, 130, 130, 130, 107, 130, 130, 130, 130, 130, 130, 130, 130, 130, 130, 107, 130, 130, 130, 130, 130, 107, 107, 130, 130, 130, 107, 130, 130, 107, 130, 130, 130, 130, 107, 130, 130, 130, 130, 130, 130, 130, 130, 130, 130, 107, 107, 130, 107, 130, 130, 130, 130, 130, 130, 130, 130, 107, 130, 130, 130, 130, 130, 130, 130, 130, 130, 130, 130, 130, 130, 107, 130, 130, 130, 130, 130, 130, 130, 130, 130, 130, 130, 130, 130, 130, 107, 130, 130, 130, 107, 130, 130, 130, 130, 130, 130, 130, 130, 107, 130, 130, 130, 107, 130, 130, 107, 130, 130, 130, 130, 130, 130, 130, 107, 130, 130, 107, 130, 130, 130, 130, 130, 107, 130, 130, 107, 107, 130, 130, 130, 130, 130, 130, 107, 130, 130, 130, 130, 130, 130, 130, 130, 130, 107, 130, 130, 130, 130, 130, 130, 130, 107, 130, 130, 130, 130, 130, 130, 130, 130, 130, 130, 130, 130, 130, 130, 130, 130, 130, 130, 130, 130, 130, 130, 130, 130, 130, 130, 130, 130, 130, 130, 130, 130, 130, 130, 107, 130, 130, 130, 130, 130, 107, 130, 130, 130, 107, 130, 130, 107, 107, 130, 130, 130, 130, 107, 130, 130, 107, 107, 130, 130, 130, 130, 130, 107, 130, 130, 130, 130, 130, 130, 130, 130, 130, 130, 130, 107, 130, 107, 130, 130, 107, 130, 130, 130, 130, 130, 107, 130, 130, 130, 130, 107, 107, 130, 130, 130, 130, 130, 130, 130, 107, 130, 130, 130, 130, 130, 130, 130, 107, 130, 130, 107, 130, 130, 130, 130, 130, 130, 130, 130, 130, 130, 130, 130, 130, 130, 130, 130, 130, 130, 107, 130, 107, 107, 130, 130, 130, 107, 107, 130, 130, 130, 130, 130, 130, 130, 130, 130, 130, 130, 130, 130, 130, 130, 130, 130, 130, 130, 130, 107, 130, 130, 130, 107, 107, 107, 130, 130, 130, 107, 130, 107, 130, 130, 130, 130, 130, 130, 130, 130, 130, 107, 130, 130, 130, 130, 130, 107, 130, 130, 130, 130, 130, 130, 130, 130, 130, 130, 130, 130, 130, 130, 130, 130, 107, 130, 130, 130, 130, 130, 130, 130, 130, 130, 130, 107, 107, 130, 130, 130, 130, 130, 107, 130, 130, 130, 130, 130, 130, 107, 130, 107, 130, 107, 107, 130, 130, 130, 130, 107, 130, 130, 130, 107, 130, 107, 130, 130, 130, 130, 130, 130, 130, 130, 107, 130, 130, 130, 130, 130, 130, 130, 130, 130, 130, 130, 130, 130, 130, 130, 130, 130, 130, 130, 130, 130, 130, 130, 130, 107, 130, 130, 130, 107, 130, 130, 130, 130, 130, 130, 130, 130, 107, 130, 130, 130, 107, 130, 130, 107, 130, 130, 130, 107, 130, 130, 130, 107, 130, 130, 107, 130, 130, 130, 130, 130, 130, 130, 130, 130, 130, 130, 130, 130, 130, 107, 130, 130, 107, 130, 130, 130, 107, 130, 130, 107, 130, 130, 130, 107, 130, 130, 107, 130, 130, 130, 130, 130, 130, 130, 107, 130, 130, 130, 130, 107, 107, 130, 130, 130, 130, 130, 130, 130, 130, 130, 130, 130, 107, 107, 130, 130, 107, 130, 130, 130, 130, 130, 130, 130, 130, 130, 130, 130, 130, 130, 130, 130, 107, 107, 130, 130, 130, 130, 130, 130, 130, 130, 130, 130, 130, 130, 130, 130, 130, 130, 130, 130, 130, 130, 130, 130, 130, 130, 130, 130, 130, 130, 107, 130, 130, 130, 130, 130, 130, 130, 130, 130, 130, 130, 130, 130, 130, 130, 130, 130, 107, 130, 130, 107, 130, 130, 130, 130, 107, 130, 130, 130, 107, 130, 130, 130, 130, 130, 130, 130, 130, 130, 130, 130, 107, 130, 130, 107, 130, 130, 107, 130, 130, 130, 130, 130, 130, 130, 130, 130, 130, 107, 130, 107, 130, 107, 130, 130, 130, 107, 130, 107, 130, 130, 130, 130, 130, 130, 130, 130, 107, 130, 107, 130, 130, 130, 130, 130, 130, 107, 130, 130, 107, 130, 130, 130, 130, 130, 130, 107, 130, 130, 130, 130, 130, 130, 130, 130, 107, 130, 130, 107, 130, 130, 130, 130, 107, 130, 130, 107, 130, 107, 130, 130, 130, 130, 130, 130, 130, 130, 107, 130, 130, 130, 130, 130, 107, 130, 130, 130, 130, 130, 107, 107, 130, 130, 130, 130, 130, 130, 130, 130, 130, 130, 130, 130, 107, 130, 130, 130, 130, 107, 107, 130, 130, 130, 107, 107, 130, 107, 130, 130, 130, 107, 130, 130, 130, 130, 130, 130, 130, 130, 130, 130, 107, 130, 130, 130, 130, 130, 130, 107, 130, 130, 107, 130, 107, 107, 130, 107, 130, 130, 130, 130, 130, 107, 130, 107, 130, 130, 130, 130, 130, 130, 107, 107, 130, 130, 130, 130, 130, 130, 130, 130, 130, 130, 130, 130, 130, 130, 130, 130, 130, 130, 107, 130, 107, 130, 130, 130, 130, 130, 130, 130, 130, 130, 130, 130, 130, 130, 107, 130, 107, 130, 107, 107, 107, 130, 130, 130, 130, 130, 130, 130, 107, 130, 107, 130, 107, 107, 107, 130, 130, 130, 130, 130, 130, 107, 130, 107, 130, 130, 130, 130, 130, 130, 107, 130, 130, 130, 130, 130, 130, 130, 130, 107, 130, 130, 130, 130, 130, 130, 130, 107, 130, 130, 130, 130, 130, 130, 130, 107, 130, 107, 130, 130, 130, 130, 130, 130, 107, 130, 130, 130, 130, 130, 130, 107, 107, 130, 130, 130, 130, 130, 130, 107, 130, 130, 130, 130, 107, 130, 107, 130, 130, 130, 130, 130, 130, 130, 130, 130, 130, 130, 130, 130, 130, 130, 130, 130, 130, 130, 130, 130, 130, 130, 130, 107, 130, 107, 130, 130, 107, 130, 130, 130, 130, 130, 130, 107, 130, 130, 130, 130, 130, 107, 130, 130, 130, 130, 130, 107, 130, 130, 107, 130, 130, 130, 130, 130, 107, 130, 130, 130, 130, 107, 130, 107, 130, 130, 130, 130, 130, 130, 130, 130, 130, 130, 130, 130, 130, 130, 130, 130, 130, 130, 130, 130, 130, 130, 130, 130, 130, 107, 130, 107, 130, 130, 130, 130, 130, 130, 107, 107, 130, 130, 107, 130, 130, 107, 130, 107, 107, 130, 130, 130, 130, 130, 130, 130, 130, 130, 130, 107, 130, 130, 130, 130, 130, 107, 130, 130, 130, 130, 130, 130, 107, 107, 130, 130, 130, 130, 130, 130, 107, 130, 130, 130, 107, 130, 130, 130, 107, 107, 130, 107, 130, 130, 130, 107, 130, 130, 130, 107, 130, 130, 107, 130, 130, 130, 107, 130, 130, 130, 107, 107, 107, 130, 130, 130, 130, 130, 107, 130, 107, 107, 130, 107, 130, 130, 130, 107, 130, 130, 130, 130, 130, 130, 107, 130, 130, 130, 107, 107, 130, 130, 130, 107, 130, 130, 130, 130, 130, 107, 130, 130, 130, 107, 130, 130, 130, 130, 130, 130, 130, 130, 130, 130, 130, 130, 107, 130, 130, 130, 130, 107, 130, 130, 130, 130, 130, 130, 130, 130, 130, 107, 130, 130, 130, 130, 130, 130, 130, 130, 130, 130, 130, 130, 130, 130, 130, 107, 130, 130, 130, 130, 130, 130, 130, 107, 130, 107, 130, 130, 107, 130, 107, 130, 130, 107, 130, 130, 130, 130, 130, 130, 107, 130, 130, 130, 130, 130, 130, 130, 130, 130, 130, 107, 107, 107, 130, 130, 130, 130, 130, 107, 107, 130, 107, 107, 107, 130, 130, 130, 107, 107, 130, 130, 130, 130, 130, 130, 130, 130, 130, 130, 107, 130, 130, 107, 130, 130, 130, 130, 130, 130, 130, 107, 130, 130, 130, 130, 130, 130, 130, 130, 130, 130, 130, 130, 130, 130, 130, 107, 130, 130, 130, 130, 130, 130, 130, 130, 107, 130, 107, 130, 130, 130, 130, 130, 130, 130, 130, 130, 130, 130, 130, 130, 130, 130, 130, 107, 107, 130, 130, 130, 130, 130, 130, 130, 130, 107, 130, 130, 130, 130, 130, 107, 130, 130, 130, 130, 130, 130, 130, 130, 107, 130, 130, 130, 130, 130, 130, 130, 130, 130, 130, 107, 130, 130, 107, 130, 107, 107, 130, 107, 130, 107, 130, 130, 130, 130, 107, 130, 130, 130, 130, 130, 130, 130, 130, 130, 130, 130, 130, 130, 130, 107, 130, 130, 130, 130, 130, 130, 130, 130, 130, 107, 130, 130, 130, 107, 130, 130, 130, 130, 130, 130, 130, 107, 130, 130, 130, 107, 107, 130, 130, 130, 130, 130, 130, 107, 107, 130, 130, 130, 130, 107, 107, 130, 130, 107, 130, 130, 130, 130, 130, 130, 130, 107, 130, 107, 130, 130, 130, 130, 130, 130, 130, 130, 130, 130, 130, 107, 130, 130, 130, 130, 130, 130, 130, 107, 107, 130, 107, 130, 107, 130, 107, 130, 130, 130, 130, 130, 130, 107, 130, 130, 130, 107, 130, 130, 130, 130, 130, 130, 107, 130, 130, 130, 130, 130, 130, 107, 130, 130, 130, 130, 130, 130, 130, 130, 130, 130, 130, 130, 130, 130, 130, 130, 130, 130, 130, 130, 130, 130, 130, 130, 130, 130, 130, 130, 130, 130, 107, 130, 130, 130, 130, 130, 130, 107, 130, 130, 130, 130, 130, 130, 130, 107, 130, 130, 130, 130, 107, 130, 130, 130, 130, 130, 130, 130, 130, 130, 130, 107, 130, 130, 130, 130, 130, 130, 107, 130, 130, 107, 130, 130, 130, 130, 130, 130, 130, 130, 130, 130, 130, 130, 130, 130, 107, 130, 130, 130, 130, 130, 130, 130, 107, 130, 107, 107, 130, 130, 107, 130, 107, 130, 130, 107, 130, 130, 130, 130, 107, 130, 130, 130, 130, 130, 130, 130, 130, 130, 107, 107, 130, 130, 130, 130, 107, 130, 130, 130, 107, 130, 130, 130, 107, 130, 130, 107, 130, 130, 130, 130, 130, 130, 130, 130, 130, 130, 130, 130, 130, 130, 130, 130, 130, 130, 130, 130, 130, 107, 130, 130, 130, 130, 107, 130, 130, 107, 107, 130, 130, 107, 130, 130, 130, 130, 130, 130, 130, 130, 130, 130, 130, 130, 130, 130, 107, 130, 130, 130, 130, 130, 130, 130, 130, 130, 130, 130, 130, 130, 107, 130, 130, 130, 130, 130, 130, 130, 130, 130, 107, 130, 107, 130, 130, 130, 130, 130, 130, 107, 130, 130, 130, 130, 130, 130, 130, 130, 130, 130, 130, 130, 130, 130, 130, 130, 130, 107, 107, 130, 130, 107, 130, 130, 107, 130, 130, 130, 130, 130, 130, 107, 130, 107, 130, 130, 130, 130, 130, 130, 130, 130, 130, 130, 107, 130, 130, 107, 130, 130, 107, 130, 130, 130, 130, 107, 107, 130, 107, 107, 130, 130, 130, 130, 130, 130, 130, 130, 130, 107, 130, 130, 130, 130, 130, 130, 107, 130, 130, 130, 130, 130, 107, 130, 130, 130, 130, 107, 130, 130, 107, 107, 130, 107, 107, 107, 130, 130, 130, 130, 130, 130, 130, 130, 107, 130, 130, 130, 130, 107, 107, 130, 130, 107, 130, 130, 130, 130, 130, 130, 130, 130, 107, 130, 130, 130, 130, 130, 130, 130, 130, 107, 107, 107, 130, 130, 130, 130, 130, 130, 130, 130, 107, 130, 130, 130, 130, 107, 130, 130, 130, 107, 130, 130, 107, 130, 130, 130, 130, 130, 130, 130, 130, 130, 130, 130, 107, 107, 130, 130, 130, 130, 130, 130, 107, 130, 130, 107, 130, 130, 130, 130, 130, 130, 130, 107, 130, 130, 107, 130, 130, 107, 107, 130, 130, 107, 130, 107, 130, 130, 130, 130, 130, 130, 130, 130, 107, 130, 130, 130, 107, 130, 130, 130, 130, 130, 130, 130, 130, 130, 107, 130, 130, 130, 130, 130, 130, 130, 130, 130, 130, 130, 130, 130, 107, 130, 130, 130, 130, 130, 130, 130, 130, 130, 107, 107, 130, 130, 130, 107, 130, 130, 130, 130, 130, 130, 130, 130, 107, 107, 130, 130, 130, 130, 130, 130, 130, 107, 130, 130, 130, 130, 130, 130, 130, 130, 130, 130, 130, 130, 130, 130, 130, 130, 130, 107, 130, 130, 130, 130, 130, 130, 130, 130, 130, 130, 130, 130, 130, 130, 107, 130, 130, 107, 130, 130, 130, 107, 107, 130, 130, 130, 130, 107, 130, 107, 130, 130, 107, 130, 130, 130, 130, 130, 130, 130, 130, 107, 130, 107, 130, 130, 130, 107, 130, 130, 130, 130, 130, 130, 130, 130, 130, 130, 130, 107, 130, 130, 130, 130, 130, 130, 130, 107, 107, 130, 130, 130, 107, 130, 130, 130, 107, 130, 107, 130, 130, 130, 130, 130, 130, 130, 130, 130, 130, 130, 130, 130, 130, 130, 107, 130, 130, 107, 130, 130, 130, 107, 130, 130, 130, 130, 107, 130, 130, 130, 130, 130, 130, 130, 107, 130, 130, 130, 130, 130, 107, 130, 130, 130, 130, 130, 130, 130, 130, 130, 130, 130, 130, 130, 130, 130, 130, 107, 130, 107, 130, 130, 130, 107, 130, 130, 130, 130, 107, 107, 130, 130, 130, 130, 130, 130, 130, 130, 130, 130, 107, 130, 130, 130, 130, 130, 107, 130, 130, 130, 130, 130, 130, 130, 130, 130, 130, 130, 130, 130, 130, 130, 130, 130, 130, 130, 130, 130, 130, 130, 130, 107, 130, 130, 107, 107, 130, 130, 130, 130, 107, 107, 130, 130, 130, 130, 130, 130, 130, 130, 130, 130, 130, 130, 130, 130, 130, 130, 130, 130, 107, 130, 130, 130, 130, 130, 130, 130, 130, 130, 130, 130, 107, 130, 130, 130, 130, 130, 107, 130, 130, 130, 130, 130, 130, 107, 130, 130, 107, 130, 107, 130, 130, 130, 130, 130, 130, 107, 130, 130, 130, 130, 130, 130, 130, 130, 130, 107, 130, 130, 130, 107, 130, 107, 130, 130, 130, 130, 130, 107, 130, 130, 130, 130, 107, 130, 130, 130, 130, 130, 130, 130, 130, 130, 107, 130, 130, 107, 107, 107, 107, 130, 130, 130, 130, 130, 130, 130, 130, 130, 130, 130, 130, 130, 130, 130, 130, 130, 130, 130, 130, 130, 130, 130, 130, 130, 130, 130, 130, 130, 107, 130, 130, 130, 130, 130, 130, 130, 130, 130, 130, 130, 130, 130, 130, 130, 130, 107, 130, 130, 130, 107, 130, 107, 130, 130, 107, 130, 130, 130, 107, 130, 130, 130, 130, 130, 130, 130, 130, 130, 107, 130, 130, 130, 130, 130, 130, 107, 107, 130, 130, 130, 130, 130, 130, 130, 107, 130, 130, 130, 130, 130, 130, 130, 130, 130, 130, 130, 130, 130, 130, 107, 107, 130, 130, 130, 130, 130, 130, 130, 130, 130, 130, 130, 130, 107, 130, 130, 130, 130, 130, 107, 130, 130, 130, 130, 130, 107, 130, 130, 130, 107, 130, 130, 130, 130, 130, 130, 130, 130, 130, 130, 130, 130, 130, 130, 130, 130, 130, 130, 130, 130, 130, 130, 107, 130, 130, 107, 107, 130, 130, 130, 130, 130, 130, 130, 130, 130, 130, 130, 130, 130, 130, 130, 130, 130, 130, 130, 130, 130, 130, 107, 107, 130, 130, 130, 107, 107, 130, 130, 130, 130, 130, 130, 130, 130, 107, 130, 130, 130, 130, 107, 130, 107, 130, 130, 130, 130, 130, 107, 130, 130, 130, 130, 130, 130, 130, 130, 130, 107, 130, 130, 130, 130, 107, 107, 130, 130, 130, 130, 130, 130, 107, 130, 130, 130, 130, 130, 107, 107, 130, 130, 130, 107, 130, 130, 130, 130, 130, 130], \"xaxis\": \"x\", \"yaxis\": \"y\"}],                        {\"barmode\": \"relative\", \"height\": 400, \"legend\": {\"tracegroupgap\": 0}, \"template\": {\"data\": {\"bar\": [{\"error_x\": {\"color\": \"#2a3f5f\"}, \"error_y\": {\"color\": \"#2a3f5f\"}, \"marker\": {\"line\": {\"color\": \"#E5ECF6\", \"width\": 0.5}}, \"type\": \"bar\"}], \"barpolar\": [{\"marker\": {\"line\": {\"color\": \"#E5ECF6\", \"width\": 0.5}}, \"type\": \"barpolar\"}], \"carpet\": [{\"aaxis\": {\"endlinecolor\": \"#2a3f5f\", \"gridcolor\": \"white\", \"linecolor\": \"white\", \"minorgridcolor\": \"white\", \"startlinecolor\": \"#2a3f5f\"}, \"baxis\": {\"endlinecolor\": \"#2a3f5f\", \"gridcolor\": \"white\", \"linecolor\": \"white\", \"minorgridcolor\": \"white\", \"startlinecolor\": \"#2a3f5f\"}, \"type\": \"carpet\"}], \"choropleth\": [{\"colorbar\": {\"outlinewidth\": 0, \"ticks\": \"\"}, \"type\": \"choropleth\"}], \"contour\": [{\"colorbar\": {\"outlinewidth\": 0, \"ticks\": \"\"}, \"colorscale\": [[0.0, \"#0d0887\"], [0.1111111111111111, \"#46039f\"], [0.2222222222222222, \"#7201a8\"], [0.3333333333333333, \"#9c179e\"], [0.4444444444444444, \"#bd3786\"], [0.5555555555555556, \"#d8576b\"], [0.6666666666666666, \"#ed7953\"], [0.7777777777777778, \"#fb9f3a\"], [0.8888888888888888, \"#fdca26\"], [1.0, \"#f0f921\"]], \"type\": \"contour\"}], \"contourcarpet\": [{\"colorbar\": {\"outlinewidth\": 0, \"ticks\": \"\"}, \"type\": \"contourcarpet\"}], \"heatmap\": [{\"colorbar\": {\"outlinewidth\": 0, \"ticks\": \"\"}, \"colorscale\": [[0.0, \"#0d0887\"], [0.1111111111111111, \"#46039f\"], [0.2222222222222222, \"#7201a8\"], [0.3333333333333333, \"#9c179e\"], [0.4444444444444444, \"#bd3786\"], [0.5555555555555556, \"#d8576b\"], [0.6666666666666666, \"#ed7953\"], [0.7777777777777778, \"#fb9f3a\"], [0.8888888888888888, \"#fdca26\"], [1.0, \"#f0f921\"]], \"type\": \"heatmap\"}], \"heatmapgl\": [{\"colorbar\": {\"outlinewidth\": 0, \"ticks\": \"\"}, \"colorscale\": [[0.0, \"#0d0887\"], [0.1111111111111111, \"#46039f\"], [0.2222222222222222, \"#7201a8\"], [0.3333333333333333, \"#9c179e\"], [0.4444444444444444, \"#bd3786\"], [0.5555555555555556, \"#d8576b\"], [0.6666666666666666, \"#ed7953\"], [0.7777777777777778, \"#fb9f3a\"], [0.8888888888888888, \"#fdca26\"], [1.0, \"#f0f921\"]], \"type\": \"heatmapgl\"}], \"histogram\": [{\"marker\": {\"colorbar\": {\"outlinewidth\": 0, \"ticks\": \"\"}}, \"type\": \"histogram\"}], \"histogram2d\": [{\"colorbar\": {\"outlinewidth\": 0, \"ticks\": \"\"}, \"colorscale\": [[0.0, \"#0d0887\"], [0.1111111111111111, \"#46039f\"], [0.2222222222222222, \"#7201a8\"], [0.3333333333333333, \"#9c179e\"], [0.4444444444444444, \"#bd3786\"], [0.5555555555555556, \"#d8576b\"], [0.6666666666666666, \"#ed7953\"], [0.7777777777777778, \"#fb9f3a\"], [0.8888888888888888, \"#fdca26\"], [1.0, \"#f0f921\"]], \"type\": \"histogram2d\"}], \"histogram2dcontour\": [{\"colorbar\": {\"outlinewidth\": 0, \"ticks\": \"\"}, \"colorscale\": [[0.0, \"#0d0887\"], [0.1111111111111111, \"#46039f\"], [0.2222222222222222, \"#7201a8\"], [0.3333333333333333, \"#9c179e\"], [0.4444444444444444, \"#bd3786\"], [0.5555555555555556, \"#d8576b\"], [0.6666666666666666, \"#ed7953\"], [0.7777777777777778, \"#fb9f3a\"], [0.8888888888888888, \"#fdca26\"], [1.0, \"#f0f921\"]], \"type\": \"histogram2dcontour\"}], \"mesh3d\": [{\"colorbar\": {\"outlinewidth\": 0, \"ticks\": \"\"}, \"type\": \"mesh3d\"}], \"parcoords\": [{\"line\": {\"colorbar\": {\"outlinewidth\": 0, \"ticks\": \"\"}}, \"type\": \"parcoords\"}], \"pie\": [{\"automargin\": true, \"type\": \"pie\"}], \"scatter\": [{\"marker\": {\"colorbar\": {\"outlinewidth\": 0, \"ticks\": \"\"}}, \"type\": \"scatter\"}], \"scatter3d\": [{\"line\": {\"colorbar\": {\"outlinewidth\": 0, \"ticks\": \"\"}}, \"marker\": {\"colorbar\": {\"outlinewidth\": 0, \"ticks\": \"\"}}, \"type\": \"scatter3d\"}], \"scattercarpet\": [{\"marker\": {\"colorbar\": {\"outlinewidth\": 0, \"ticks\": \"\"}}, \"type\": \"scattercarpet\"}], \"scattergeo\": [{\"marker\": {\"colorbar\": {\"outlinewidth\": 0, \"ticks\": \"\"}}, \"type\": \"scattergeo\"}], \"scattergl\": [{\"marker\": {\"colorbar\": {\"outlinewidth\": 0, \"ticks\": \"\"}}, \"type\": \"scattergl\"}], \"scattermapbox\": [{\"marker\": {\"colorbar\": {\"outlinewidth\": 0, \"ticks\": \"\"}}, \"type\": \"scattermapbox\"}], \"scatterpolar\": [{\"marker\": {\"colorbar\": {\"outlinewidth\": 0, \"ticks\": \"\"}}, \"type\": \"scatterpolar\"}], \"scatterpolargl\": [{\"marker\": {\"colorbar\": {\"outlinewidth\": 0, \"ticks\": \"\"}}, \"type\": \"scatterpolargl\"}], \"scatterternary\": [{\"marker\": {\"colorbar\": {\"outlinewidth\": 0, \"ticks\": \"\"}}, \"type\": \"scatterternary\"}], \"surface\": [{\"colorbar\": {\"outlinewidth\": 0, \"ticks\": \"\"}, \"colorscale\": [[0.0, \"#0d0887\"], [0.1111111111111111, \"#46039f\"], [0.2222222222222222, \"#7201a8\"], [0.3333333333333333, \"#9c179e\"], [0.4444444444444444, \"#bd3786\"], [0.5555555555555556, \"#d8576b\"], [0.6666666666666666, \"#ed7953\"], [0.7777777777777778, \"#fb9f3a\"], [0.8888888888888888, \"#fdca26\"], [1.0, \"#f0f921\"]], \"type\": \"surface\"}], \"table\": [{\"cells\": {\"fill\": {\"color\": \"#EBF0F8\"}, \"line\": {\"color\": \"white\"}}, \"header\": {\"fill\": {\"color\": \"#C8D4E3\"}, \"line\": {\"color\": \"white\"}}, \"type\": \"table\"}]}, \"layout\": {\"annotationdefaults\": {\"arrowcolor\": \"#2a3f5f\", \"arrowhead\": 0, \"arrowwidth\": 1}, \"autotypenumbers\": \"strict\", \"coloraxis\": {\"colorbar\": {\"outlinewidth\": 0, \"ticks\": \"\"}}, \"colorscale\": {\"diverging\": [[0, \"#8e0152\"], [0.1, \"#c51b7d\"], [0.2, \"#de77ae\"], [0.3, \"#f1b6da\"], [0.4, \"#fde0ef\"], [0.5, \"#f7f7f7\"], [0.6, \"#e6f5d0\"], [0.7, \"#b8e186\"], [0.8, \"#7fbc41\"], [0.9, \"#4d9221\"], [1, \"#276419\"]], \"sequential\": [[0.0, \"#0d0887\"], [0.1111111111111111, \"#46039f\"], [0.2222222222222222, \"#7201a8\"], [0.3333333333333333, \"#9c179e\"], [0.4444444444444444, \"#bd3786\"], [0.5555555555555556, \"#d8576b\"], [0.6666666666666666, \"#ed7953\"], [0.7777777777777778, \"#fb9f3a\"], [0.8888888888888888, \"#fdca26\"], [1.0, \"#f0f921\"]], \"sequentialminus\": [[0.0, \"#0d0887\"], [0.1111111111111111, \"#46039f\"], [0.2222222222222222, \"#7201a8\"], [0.3333333333333333, \"#9c179e\"], [0.4444444444444444, \"#bd3786\"], [0.5555555555555556, \"#d8576b\"], [0.6666666666666666, \"#ed7953\"], [0.7777777777777778, \"#fb9f3a\"], [0.8888888888888888, \"#fdca26\"], [1.0, \"#f0f921\"]]}, \"colorway\": [\"#636efa\", \"#EF553B\", \"#00cc96\", \"#ab63fa\", \"#FFA15A\", \"#19d3f3\", \"#FF6692\", \"#B6E880\", \"#FF97FF\", \"#FECB52\"], \"font\": {\"color\": \"#2a3f5f\"}, \"geo\": {\"bgcolor\": \"white\", \"lakecolor\": \"white\", \"landcolor\": \"#E5ECF6\", \"showlakes\": true, \"showland\": true, \"subunitcolor\": \"white\"}, \"hoverlabel\": {\"align\": \"left\"}, \"hovermode\": \"closest\", \"mapbox\": {\"style\": \"light\"}, \"paper_bgcolor\": \"white\", \"plot_bgcolor\": \"#E5ECF6\", \"polar\": {\"angularaxis\": {\"gridcolor\": \"white\", \"linecolor\": \"white\", \"ticks\": \"\"}, \"bgcolor\": \"#E5ECF6\", \"radialaxis\": {\"gridcolor\": \"white\", \"linecolor\": \"white\", \"ticks\": \"\"}}, \"scene\": {\"xaxis\": {\"backgroundcolor\": \"#E5ECF6\", \"gridcolor\": \"white\", \"gridwidth\": 2, \"linecolor\": \"white\", \"showbackground\": true, \"ticks\": \"\", \"zerolinecolor\": \"white\"}, \"yaxis\": {\"backgroundcolor\": \"#E5ECF6\", \"gridcolor\": \"white\", \"gridwidth\": 2, \"linecolor\": \"white\", \"showbackground\": true, \"ticks\": \"\", \"zerolinecolor\": \"white\"}, \"zaxis\": {\"backgroundcolor\": \"#E5ECF6\", \"gridcolor\": \"white\", \"gridwidth\": 2, \"linecolor\": \"white\", \"showbackground\": true, \"ticks\": \"\", \"zerolinecolor\": \"white\"}}, \"shapedefaults\": {\"line\": {\"color\": \"#2a3f5f\"}}, \"ternary\": {\"aaxis\": {\"gridcolor\": \"white\", \"linecolor\": \"white\", \"ticks\": \"\"}, \"baxis\": {\"gridcolor\": \"white\", \"linecolor\": \"white\", \"ticks\": \"\"}, \"bgcolor\": \"#E5ECF6\", \"caxis\": {\"gridcolor\": \"white\", \"linecolor\": \"white\", \"ticks\": \"\"}}, \"title\": {\"x\": 0.05}, \"xaxis\": {\"automargin\": true, \"gridcolor\": \"white\", \"linecolor\": \"white\", \"ticks\": \"\", \"title\": {\"standoff\": 15}, \"zerolinecolor\": \"white\", \"zerolinewidth\": 2}, \"yaxis\": {\"automargin\": true, \"gridcolor\": \"white\", \"linecolor\": \"white\", \"ticks\": \"\", \"title\": {\"standoff\": 15}, \"zerolinecolor\": \"white\", \"zerolinewidth\": 2}}}, \"title\": {\"text\": \"sequence_length distribution\"}, \"width\": 800, \"xaxis\": {\"anchor\": \"y\", \"domain\": [0.0, 1.0], \"title\": {\"text\": \"seq_length\"}}, \"yaxis\": {\"anchor\": \"x\", \"domain\": [0.0, 1.0], \"title\": {\"text\": \"count\"}}},                        {\"responsive\": true}                    ).then(function(){\n                            \nvar gd = document.getElementById('f1ca465f-8e3d-40f1-8011-2d69f78411c7');\nvar x = new MutationObserver(function (mutations, observer) {{\n        var display = window.getComputedStyle(gd).display;\n        if (!display || display === 'none') {{\n            console.log([gd, 'removed!']);\n            Plotly.purge(gd);\n            observer.disconnect();\n        }}\n}});\n\n// Listen for the removal of the full notebook cells\nvar notebookContainer = gd.closest('#notebook-container');\nif (notebookContainer) {{\n    x.observe(notebookContainer, {childList: true});\n}}\n\n// Listen for the clearing of the current output cell\nvar outputEl = gd.closest('.output');\nif (outputEl) {{\n    x.observe(outputEl, {childList: true});\n}}\n\n                        })                };                            </script>        </div>\n</body>\n</html>"
     },
     "metadata": {},
     "output_type": "display_data"
    }
   ],
   "execution_count": null
  },
  {
   "cell_type": "markdown",
   "source": "## Spliting Test into Public and Private Dataframe\nSplitting test datasets into public and private data frames due to variation in sequence length. This has improved the overall result.",
   "metadata": {
    "tags": [],
    "cell_id": "00025-d1f20df5-fe5b-43ba-8093-6b34b59c5648",
    "deepnote_cell_type": "markdown"
   }
  },
  {
   "cell_type": "code",
   "metadata": {
    "tags": [],
    "cell_id": "00025-673fac35-ce45-4518-bfba-609121cad8e1",
    "deepnote_to_be_reexecuted": false,
    "source_hash": "998c1853",
    "execution_start": 1624282810652,
    "execution_millis": 0,
    "deepnote_cell_type": "code"
   },
   "source": "public_df = test.query(\"seq_length == 107\")\nprivate_df = test.query(\"seq_length == 130\")",
   "outputs": [],
   "execution_count": null
  },
  {
   "cell_type": "markdown",
   "source": "# Pre-processing Data",
   "metadata": {
    "tags": [],
    "cell_id": "00028-9910b96e-6b4f-4468-b894-2219ca5da538",
    "deepnote_cell_type": "markdown"
   }
  },
  {
   "cell_type": "markdown",
   "source": "We will use this dictionary to map each character to an integer ",
   "metadata": {
    "tags": [],
    "cell_id": "00031-d4bd3a44-ae0c-481d-811f-6da46e20e930",
    "deepnote_cell_type": "markdown"
   }
  },
  {
   "cell_type": "code",
   "metadata": {
    "execution": {
     "iopub.status.busy": "2021-06-19T12:57:23.062135Z",
     "iopub.execute_input": "2021-06-19T12:57:23.062453Z",
     "iopub.status.idle": "2021-06-19T12:57:23.336101Z",
     "shell.execute_reply.started": "2021-06-19T12:57:23.062422Z",
     "shell.execute_reply": "2021-06-19T12:57:23.334907Z"
    },
    "trusted": true,
    "cell_id": "00015-ef73936d-8c0c-45bc-98d3-2e19c1ab4133",
    "deepnote_to_be_reexecuted": false,
    "source_hash": "6e08b64c",
    "execution_start": 1624282810653,
    "execution_millis": 8,
    "deepnote_cell_type": "code"
   },
   "source": "token2int = {x: i for i, x in enumerate(\"().ACGUBEHIMSX\")}\n\ntoken2int\n",
   "outputs": [
    {
     "output_type": "execute_result",
     "execution_count": 11,
     "data": {
      "text/plain": "{'(': 0,\n ')': 1,\n '.': 2,\n 'A': 3,\n 'C': 4,\n 'G': 5,\n 'U': 6,\n 'B': 7,\n 'E': 8,\n 'H': 9,\n 'I': 10,\n 'M': 11,\n 'S': 12,\n 'X': 13}"
     },
     "metadata": {}
    }
   ],
   "execution_count": null
  },
  {
   "cell_type": "markdown",
   "source": "## Converting DataFrame to 3D Array\nIt takes dataframe of shape (x, y), containing list of length `l` and returning numpy 3D array `(x,l,y)`.",
   "metadata": {
    "tags": [],
    "cell_id": "00014-1b16741c-4371-4467-bc29-1573a0245453",
    "deepnote_cell_type": "markdown"
   }
  },
  {
   "cell_type": "code",
   "metadata": {
    "tags": [],
    "cell_id": "00031-009f8d4f-06f1-429e-be70-22fc38a28580",
    "deepnote_to_be_reexecuted": false,
    "source_hash": "8dee68b4",
    "execution_start": 1624282810653,
    "execution_millis": 1,
    "deepnote_cell_type": "code"
   },
   "source": "def dataframe_to_array(df):\n   return np.transpose(np.array(df.values.tolist()), (0, 2, 1))",
   "outputs": [],
   "execution_count": null
  },
  {
   "cell_type": "markdown",
   "source": "## Tokeniziation of Sequence\nIt takes dataframe then convert it into 3D numpy array and then tokenize it using Label Encoding.",
   "metadata": {
    "tags": [],
    "cell_id": "00032-f3e822da-deed-4a3c-a3a6-00bcd16aef8d",
    "deepnote_cell_type": "markdown"
   }
  },
  {
   "cell_type": "code",
   "metadata": {
    "tags": [],
    "cell_id": "00031-c0c7caf4-68b2-425f-ac8b-c3972fa8b0de",
    "deepnote_to_be_reexecuted": false,
    "source_hash": "7edf8964",
    "execution_start": 1624282810655,
    "execution_millis": 0,
    "deepnote_cell_type": "code"
   },
   "source": "def dataframe_label_encoding(\n    df, token2int, cols=[\"sequence\", \"structure\", \"predicted_loop_type\"]\n):\n    return dataframe_to_array(\n        df[cols].applymap(lambda seq: [token2int[x] for x in seq])\n    )  ## tokenization of Sequence, Structure, Predicted loop\n",
   "outputs": [],
   "execution_count": null
  },
  {
   "cell_type": "markdown",
   "source": "## Preprocessing Features and Labels \nTrain input contains `[\"sequence\", \"structure\", \"predicted_loop_type\"]` which need to tokenize and before that converting dataframe into 3D numpy array. ",
   "metadata": {
    "tags": [],
    "cell_id": "00032-117b2dfc-2ea3-4cbb-aea7-b65ec5060d2d",
    "deepnote_cell_type": "markdown"
   }
  },
  {
   "cell_type": "code",
   "metadata": {
    "tags": [],
    "cell_id": "00031-e6eba83b-cb42-41e7-9fd5-8dd3da908905",
    "deepnote_to_be_reexecuted": false,
    "source_hash": "ef963d10",
    "execution_start": 1624282810658,
    "execution_millis": 130,
    "deepnote_cell_type": "code"
   },
   "source": "train_inputs = dataframe_label_encoding(train, token2int)  ## Label encoding\ntrain_labels = dataframe_to_array(train[target_cols])  ## dataframe to 3D array to\n",
   "outputs": [],
   "execution_count": null
  },
  {
   "cell_type": "markdown",
   "source": "## Train & Validation split ",
   "metadata": {
    "tags": [],
    "cell_id": "00036-2247de54-90a4-41e7-a5b0-eafff687bfc6",
    "deepnote_cell_type": "markdown"
   }
  },
  {
   "cell_type": "code",
   "metadata": {
    "execution": {
     "iopub.status.busy": "2021-06-19T12:57:23.338745Z",
     "iopub.execute_input": "2021-06-19T12:57:23.339087Z",
     "iopub.status.idle": "2021-06-19T12:57:23.354828Z",
     "shell.execute_reply.started": "2021-06-19T12:57:23.339058Z",
     "shell.execute_reply": "2021-06-19T12:57:23.353598Z"
    },
    "trusted": true,
    "cell_id": "00016-b816e87b-6cb4-47b0-8987-f3c223594010",
    "deepnote_to_be_reexecuted": false,
    "source_hash": "a5ca4828",
    "execution_start": 1624282810794,
    "execution_millis": 4,
    "deepnote_cell_type": "code"
   },
   "source": "x_train, x_val, y_train, y_val = train_test_split(\n    train_inputs, train_labels, test_size=0.1, random_state=34, stratify=train.SN_filter\n)\n",
   "outputs": [],
   "execution_count": null
  },
  {
   "cell_type": "markdown",
   "source": "## Preprocessing Public and Private Dataframe  ",
   "metadata": {
    "cell_id": "00017-2593de2f-b940-451e-addf-5134146bbd68",
    "deepnote_cell_type": "markdown"
   }
  },
  {
   "cell_type": "code",
   "metadata": {
    "execution": {
     "iopub.status.busy": "2021-06-19T12:57:23.357363Z",
     "iopub.execute_input": "2021-06-19T12:57:23.358051Z",
     "iopub.status.idle": "2021-06-19T12:57:23.734298Z",
     "shell.execute_reply.started": "2021-06-19T12:57:23.358001Z",
     "shell.execute_reply": "2021-06-19T12:57:23.733051Z"
    },
    "trusted": true,
    "cell_id": "00018-23a3bbec-4a70-4dbd-aa35-20013d753270",
    "deepnote_to_be_reexecuted": false,
    "source_hash": "bea5ba79",
    "execution_start": 1624282810871,
    "execution_millis": 125,
    "deepnote_cell_type": "code"
   },
   "source": "public_inputs = dataframe_label_encoding(public_df, token2int)\nprivate_inputs = dataframe_label_encoding(private_df, token2int)\n",
   "outputs": [],
   "execution_count": null
  },
  {
   "cell_type": "markdown",
   "source": "# Training / Evaluating Model",
   "metadata": {
    "cell_id": "00019-cd079ff8-e692-4134-86be-0e0d0b8e6861",
    "deepnote_cell_type": "markdown"
   }
  },
  {
   "cell_type": "markdown",
   "source": "## Build Model\n\nI have experimented with multiple traditional models including Light GBM, Catboost, and BiLSTM, but the result was quite bad as compare to triple GRU layers. \n\nUsing simple 3 Bidirectional GRU layer with linear activation. This model is quite simple and drived from [xhlulu](https://www.kaggle.com/xhlulu/openvaccine-simple-gru-model) inital model. I am big fan of his work and its just blew my mind on how he produced lower MCRMSE score with no feature engineering or data augumentation.  \n\nTo learn more about RNNs, LSTM and GRU, please see [this blog post](https://colah.github.io/posts/2015-08-Understanding-LSTMs/).",
   "metadata": {
    "tags": [],
    "cell_id": "00038-c647b19c-5044-47b1-b161-71b4843fde13",
    "deepnote_cell_type": "markdown"
   }
  },
  {
   "cell_type": "code",
   "metadata": {
    "tags": [],
    "cell_id": "00037-14983c04-d182-4981-9202-691dbf1a2064",
    "deepnote_to_be_reexecuted": false,
    "source_hash": "1828cc7b",
    "execution_start": 1624282811042,
    "execution_millis": 0,
    "deepnote_cell_type": "code"
   },
   "source": "def build_model(\n    embed_size,  # Length of uniqe tokens\n    seq_len=107,  # public dataset seq_len\n    pred_len=68,  # pred_len for public data\n    dropout=0.5,  # trying best dropout (general)\n    sp_dropout=0.2,  # Spatial Droput\n    embed_dim=200,  # embeding dimention\n    hidden_dim=256,  # hidden layer units\n):\n    inputs = L.Input(shape=(seq_len, 3))\n    embed = L.Embedding(input_dim=embed_size, output_dim=embed_dim)(inputs)\n\n    reshaped = tf.reshape(\n        embed, shape=(-1, embed.shape[1], embed.shape[2] * embed.shape[3])\n    )\n    hidden = L.SpatialDropout1D(sp_dropout)(reshaped)\n\n    # 3X BiGRU layers\n    hidden = L.Bidirectional(\n        L.GRU(\n            hidden_dim,\n            dropout=dropout,\n            return_sequences=True,\n            kernel_initializer=\"orthogonal\",\n        )\n    )(hidden)\n\n    hidden = L.Bidirectional(\n        L.GRU(\n            hidden_dim,\n            dropout=dropout,\n            return_sequences=True,\n            kernel_initializer=\"orthogonal\",\n        )\n    )(hidden)\n\n    hidden = L.Bidirectional(\n        L.GRU(\n            hidden_dim,\n            dropout=dropout,\n            return_sequences=True,\n            kernel_initializer=\"orthogonal\",\n        )\n    )(hidden)\n\n    # Since we are only making predictions on the first part of each sequence,\n    # we have to truncate it\n    truncated = hidden[:, :pred_len]\n    out = L.Dense(5, activation=\"linear\")(truncated)\n\n    model = tf.keras.Model(inputs=inputs, outputs=out)\n    model.compile(optimizer=\"Adam\", loss=MCRMSE)  # loss function as of Eval Metric\n\n    return model\n",
   "outputs": [],
   "execution_count": null
  },
  {
   "cell_type": "markdown",
   "source": "## Building model",
   "metadata": {
    "tags": [],
    "cell_id": "00043-c445a82a-8a3f-4a2f-8682-f75bff35c76d",
    "deepnote_cell_type": "markdown"
   }
  },
  {
   "cell_type": "code",
   "metadata": {
    "execution": {
     "iopub.status.busy": "2021-06-19T12:57:23.736735Z",
     "iopub.execute_input": "2021-06-19T12:57:23.737545Z",
     "iopub.status.idle": "2021-06-19T12:57:26.614972Z",
     "shell.execute_reply.started": "2021-06-19T12:57:23.737494Z",
     "shell.execute_reply": "2021-06-19T12:57:26.613466Z"
    },
    "trusted": true,
    "cell_id": "00020-9b316885-ce82-493d-9796-16ce402734ea",
    "deepnote_to_be_reexecuted": false,
    "source_hash": "45b62f48",
    "execution_start": 1624282811043,
    "execution_millis": 1489,
    "deepnote_cell_type": "code"
   },
   "source": "model = build_model(\n    embed_size=len(token2int) ## embed_size = 14\n)  ## uniquie token in sequence, structure, predicted_loop_type\nmodel.summary()\n",
   "outputs": [
    {
     "name": "stdout",
     "text": "Model: \"model\"\n_________________________________________________________________\nLayer (type)                 Output Shape              Param #   \n=================================================================\ninput_1 (InputLayer)         [(None, 107, 3)]          0         \n_________________________________________________________________\nembedding (Embedding)        (None, 107, 3, 200)       2800      \n_________________________________________________________________\ntf.reshape (TFOpLambda)      (None, 107, 600)          0         \n_________________________________________________________________\nspatial_dropout1d (SpatialDr (None, 107, 600)          0         \n_________________________________________________________________\nbidirectional (Bidirectional (None, 107, 512)          1317888   \n_________________________________________________________________\nbidirectional_1 (Bidirection (None, 107, 512)          1182720   \n_________________________________________________________________\nbidirectional_2 (Bidirection (None, 107, 512)          1182720   \n_________________________________________________________________\ntf.__operators__.getitem (Sl (None, 68, 512)           0         \n_________________________________________________________________\ndense (Dense)                (None, 68, 5)             2565      \n=================================================================\nTotal params: 3,688,693\nTrainable params: 3,688,693\nNon-trainable params: 0\n_________________________________________________________________\n",
     "output_type": "stream"
    }
   ],
   "execution_count": null
  },
  {
   "cell_type": "markdown",
   "source": "## Training Model\nFitting our model on train dataset and saving best model checkpoint in Model folder.\n- batch size = 64\n- epochs = 40",
   "metadata": {
    "tags": [],
    "cell_id": "00045-cbf75e52-93e6-45e9-b70b-1393ebcb3dbd",
    "deepnote_cell_type": "markdown"
   }
  },
  {
   "cell_type": "code",
   "metadata": {
    "_kg_hide-output": true,
    "execution": {
     "iopub.status.busy": "2021-06-19T12:57:26.619053Z",
     "iopub.execute_input": "2021-06-19T12:57:26.619400Z",
     "iopub.status.idle": "2021-06-19T12:59:26.302943Z",
     "shell.execute_reply.started": "2021-06-19T12:57:26.619367Z",
     "shell.execute_reply": "2021-06-19T12:59:26.299454Z"
    },
    "trusted": true,
    "cell_id": "00021-863ca5c6-7ff6-4362-bd14-56e2fe688327",
    "deepnote_to_be_reexecuted": false,
    "source_hash": "fa9a1b6e",
    "execution_start": 1624282812530,
    "execution_millis": 2305274,
    "deepnote_cell_type": "code"
   },
   "source": "if Model_Train:\n    history = model.fit(\n        x_train,\n        y_train,\n        validation_data=(x_val, y_val),\n        batch_size=64,\n        epochs=40,\n        verbose=2,\n        callbacks=[\n            tf.keras.callbacks.ReduceLROnPlateau(patience=5),\n            tf.keras.callbacks.ModelCheckpoint(\"Model/model.h5\"),\n        ],\n    )\n",
   "outputs": [
    {
     "name": "stdout",
     "text": "Epoch 1/40\n30/30 - 69s - loss: 0.4536 - val_loss: 0.3796\nEpoch 2/40\n30/30 - 57s - loss: 0.3856 - val_loss: 0.3601\nEpoch 3/40\n30/30 - 57s - loss: 0.3637 - val_loss: 0.3410\nEpoch 4/40\n30/30 - 57s - loss: 0.3488 - val_loss: 0.3255\nEpoch 5/40\n30/30 - 57s - loss: 0.3357 - val_loss: 0.3188\nEpoch 6/40\n30/30 - 57s - loss: 0.3295 - val_loss: 0.3163\nEpoch 7/40\n30/30 - 57s - loss: 0.3200 - val_loss: 0.3098\nEpoch 8/40\n30/30 - 57s - loss: 0.3117 - val_loss: 0.2997\nEpoch 9/40\n30/30 - 57s - loss: 0.3046 - val_loss: 0.2899\nEpoch 10/40\n30/30 - 57s - loss: 0.2993 - val_loss: 0.2875\nEpoch 11/40\n30/30 - 57s - loss: 0.2919 - val_loss: 0.2786\nEpoch 12/40\n30/30 - 57s - loss: 0.2830 - val_loss: 0.2711\nEpoch 13/40\n30/30 - 57s - loss: 0.2777 - val_loss: 0.2710\nEpoch 14/40\n30/30 - 57s - loss: 0.2712 - val_loss: 0.2584\nEpoch 15/40\n30/30 - 57s - loss: 0.2640 - val_loss: 0.2580\nEpoch 16/40\n30/30 - 57s - loss: 0.2592 - val_loss: 0.2518\nEpoch 17/40\n30/30 - 57s - loss: 0.2540 - val_loss: 0.2512\nEpoch 18/40\n30/30 - 57s - loss: 0.2514 - val_loss: 0.2461\nEpoch 19/40\n30/30 - 57s - loss: 0.2485 - val_loss: 0.2492\nEpoch 20/40\n30/30 - 57s - loss: 0.2453 - val_loss: 0.2434\nEpoch 21/40\n30/30 - 57s - loss: 0.2424 - val_loss: 0.2411\nEpoch 22/40\n30/30 - 57s - loss: 0.2397 - val_loss: 0.2391\nEpoch 23/40\n30/30 - 57s - loss: 0.2380 - val_loss: 0.2412\nEpoch 24/40\n30/30 - 57s - loss: 0.2357 - val_loss: 0.2432\nEpoch 25/40\n30/30 - 57s - loss: 0.2330 - val_loss: 0.2384\nEpoch 26/40\n30/30 - 57s - loss: 0.2316 - val_loss: 0.2364\nEpoch 27/40\n30/30 - 57s - loss: 0.2306 - val_loss: 0.2397\nEpoch 28/40\n30/30 - 57s - loss: 0.2282 - val_loss: 0.2343\nEpoch 29/40\n30/30 - 57s - loss: 0.2242 - val_loss: 0.2392\nEpoch 30/40\n30/30 - 57s - loss: 0.2232 - val_loss: 0.2326\nEpoch 31/40\n30/30 - 57s - loss: 0.2207 - val_loss: 0.2318\nEpoch 32/40\n30/30 - 57s - loss: 0.2192 - val_loss: 0.2339\nEpoch 33/40\n30/30 - 57s - loss: 0.2175 - val_loss: 0.2287\nEpoch 34/40\n30/30 - 57s - loss: 0.2160 - val_loss: 0.2310\nEpoch 35/40\n30/30 - 57s - loss: 0.2137 - val_loss: 0.2299\nEpoch 36/40\n30/30 - 57s - loss: 0.2119 - val_loss: 0.2288\nEpoch 37/40\n30/30 - 57s - loss: 0.2101 - val_loss: 0.2271\nEpoch 38/40\n30/30 - 57s - loss: 0.2088 - val_loss: 0.2274\nEpoch 39/40\n30/30 - 57s - loss: 0.2082 - val_loss: 0.2265\nEpoch 40/40\n30/30 - 57s - loss: 0.2064 - val_loss: 0.2276\n",
     "output_type": "stream"
    }
   ],
   "execution_count": null
  },
  {
   "cell_type": "markdown",
   "source": "## Evaluate training history\nThe validation MCRMSE score became flat on 35 but training MCRMSE kept reducing so I have to limit my training to 40 ephchs at most",
   "metadata": {
    "cell_id": "00022-547e6f8e-3708-4eb7-b0b4-674446db6c73",
    "deepnote_cell_type": "markdown"
   }
  },
  {
   "cell_type": "code",
   "metadata": {
    "execution": {
     "iopub.status.busy": "2021-06-19T12:59:26.304152Z",
     "iopub.status.idle": "2021-06-19T12:59:26.304712Z"
    },
    "trusted": true,
    "cell_id": "00023-c36cbb5b-74de-4b07-bcc0-f8954354fabc",
    "deepnote_to_be_reexecuted": false,
    "source_hash": "30f6fa9b",
    "execution_start": 1624285117807,
    "execution_millis": 107,
    "deepnote_cell_type": "code"
   },
   "source": "if Model_Train:\n    fig = px.line(\n        history.history,\n        y=[\"loss\", \"val_loss\"],\n        labels={\"index\": \"epoch\", \"value\": \"MCRMSE\"},\n        title=\"History\",\n    )\n    fig.show()\n",
   "outputs": [
    {
     "data": {
      "text/html": "<html>\n<head><meta charset=\"utf-8\" /></head>\n<body>\n    <div>            <script src=\"https://cdnjs.cloudflare.com/ajax/libs/mathjax/2.7.5/MathJax.js?config=TeX-AMS-MML_SVG\"></script><script type=\"text/javascript\">if (window.MathJax) {MathJax.Hub.Config({SVG: {font: \"STIX-Web\"}});}</script>                <script type=\"text/javascript\">window.PlotlyConfig = {MathJaxConfig: 'local'};</script>\n        <script src=\"https://cdn.plot.ly/plotly-latest.min.js\"></script>                <div id=\"40e1767e-8ea1-4dbd-bee8-84c167061018\" class=\"plotly-graph-div\" style=\"height:525px; width:100%;\"></div>            <script type=\"text/javascript\">                                    window.PLOTLYENV=window.PLOTLYENV || {};                                    if (document.getElementById(\"40e1767e-8ea1-4dbd-bee8-84c167061018\")) {                    Plotly.newPlot(                        \"40e1767e-8ea1-4dbd-bee8-84c167061018\",                        [{\"hovertemplate\": \"variable=loss<br>epoch=%{x}<br>MCRMSE=%{y}<extra></extra>\", \"legendgroup\": \"loss\", \"line\": {\"color\": \"#636efa\", \"dash\": \"solid\"}, \"mode\": \"lines\", \"name\": \"loss\", \"orientation\": \"v\", \"showlegend\": true, \"type\": \"scatter\", \"x\": [0, 1, 2, 3, 4, 5, 6, 7, 8, 9, 10, 11, 12, 13, 14, 15, 16, 17, 18, 19, 20, 21, 22, 23, 24, 25, 26, 27, 28, 29, 30, 31, 32, 33, 34, 35, 36, 37, 38, 39], \"xaxis\": \"x\", \"y\": [0.4535820782184601, 0.38555189967155457, 0.3637310862541199, 0.34876924753189087, 0.33566343784332275, 0.3295226991176605, 0.3199748396873474, 0.3117113709449768, 0.30455487966537476, 0.2992589473724365, 0.29186177253723145, 0.28295090794563293, 0.27770546078681946, 0.2711659073829651, 0.2640009820461273, 0.2591678500175476, 0.2539965808391571, 0.251446396112442, 0.24853655695915222, 0.24526666104793549, 0.24243639409542084, 0.23972010612487793, 0.23800352215766907, 0.23567770421504974, 0.23299142718315125, 0.2315523773431778, 0.2306252121925354, 0.2282206416130066, 0.22422702610492706, 0.22316588461399078, 0.22068527340888977, 0.2191595584154129, 0.21746842563152313, 0.21604515612125397, 0.21373967826366425, 0.21194684505462646, 0.21006260812282562, 0.20876361429691315, 0.2081664353609085, 0.20644530653953552], \"yaxis\": \"y\"}, {\"hovertemplate\": \"variable=val_loss<br>epoch=%{x}<br>MCRMSE=%{y}<extra></extra>\", \"legendgroup\": \"val_loss\", \"line\": {\"color\": \"#EF553B\", \"dash\": \"solid\"}, \"mode\": \"lines\", \"name\": \"val_loss\", \"orientation\": \"v\", \"showlegend\": true, \"type\": \"scatter\", \"x\": [0, 1, 2, 3, 4, 5, 6, 7, 8, 9, 10, 11, 12, 13, 14, 15, 16, 17, 18, 19, 20, 21, 22, 23, 24, 25, 26, 27, 28, 29, 30, 31, 32, 33, 34, 35, 36, 37, 38, 39], \"xaxis\": \"x\", \"y\": [0.3796330392360687, 0.3600769639015198, 0.340987890958786, 0.3254886865615845, 0.31882229447364807, 0.31631410121917725, 0.3098149001598358, 0.29966869950294495, 0.28987741470336914, 0.2875092625617981, 0.2786426246166229, 0.271075576543808, 0.2710053622722626, 0.2584284842014313, 0.25804850459098816, 0.25176119804382324, 0.2511967718601227, 0.24609197676181793, 0.24920928478240967, 0.2433549016714096, 0.24114641547203064, 0.2391430288553238, 0.24120067059993744, 0.2432207614183426, 0.23843173682689667, 0.2363845407962799, 0.23974747955799103, 0.23427189886569977, 0.23921096324920654, 0.23263967037200928, 0.23184312880039215, 0.23387497663497925, 0.22870218753814697, 0.2310347855091095, 0.22991779446601868, 0.22882109880447388, 0.2271479219198227, 0.2273537814617157, 0.22650527954101562, 0.22758489847183228], \"yaxis\": \"y\"}],                        {\"legend\": {\"title\": {\"text\": \"variable\"}, \"tracegroupgap\": 0}, \"template\": {\"data\": {\"bar\": [{\"error_x\": {\"color\": \"#2a3f5f\"}, \"error_y\": {\"color\": \"#2a3f5f\"}, \"marker\": {\"line\": {\"color\": \"#E5ECF6\", \"width\": 0.5}}, \"type\": \"bar\"}], \"barpolar\": [{\"marker\": {\"line\": {\"color\": \"#E5ECF6\", \"width\": 0.5}}, \"type\": \"barpolar\"}], \"carpet\": [{\"aaxis\": {\"endlinecolor\": \"#2a3f5f\", \"gridcolor\": \"white\", \"linecolor\": \"white\", \"minorgridcolor\": \"white\", \"startlinecolor\": \"#2a3f5f\"}, \"baxis\": {\"endlinecolor\": \"#2a3f5f\", \"gridcolor\": \"white\", \"linecolor\": \"white\", \"minorgridcolor\": \"white\", \"startlinecolor\": \"#2a3f5f\"}, \"type\": \"carpet\"}], \"choropleth\": [{\"colorbar\": {\"outlinewidth\": 0, \"ticks\": \"\"}, \"type\": \"choropleth\"}], \"contour\": [{\"colorbar\": {\"outlinewidth\": 0, \"ticks\": \"\"}, \"colorscale\": [[0.0, \"#0d0887\"], [0.1111111111111111, \"#46039f\"], [0.2222222222222222, \"#7201a8\"], [0.3333333333333333, \"#9c179e\"], [0.4444444444444444, \"#bd3786\"], [0.5555555555555556, \"#d8576b\"], [0.6666666666666666, \"#ed7953\"], [0.7777777777777778, \"#fb9f3a\"], [0.8888888888888888, \"#fdca26\"], [1.0, \"#f0f921\"]], \"type\": \"contour\"}], \"contourcarpet\": [{\"colorbar\": {\"outlinewidth\": 0, \"ticks\": \"\"}, \"type\": \"contourcarpet\"}], \"heatmap\": [{\"colorbar\": {\"outlinewidth\": 0, \"ticks\": \"\"}, \"colorscale\": [[0.0, \"#0d0887\"], [0.1111111111111111, \"#46039f\"], [0.2222222222222222, \"#7201a8\"], [0.3333333333333333, \"#9c179e\"], [0.4444444444444444, \"#bd3786\"], [0.5555555555555556, \"#d8576b\"], [0.6666666666666666, \"#ed7953\"], [0.7777777777777778, \"#fb9f3a\"], [0.8888888888888888, \"#fdca26\"], [1.0, \"#f0f921\"]], \"type\": \"heatmap\"}], \"heatmapgl\": [{\"colorbar\": {\"outlinewidth\": 0, \"ticks\": \"\"}, \"colorscale\": [[0.0, \"#0d0887\"], [0.1111111111111111, \"#46039f\"], [0.2222222222222222, \"#7201a8\"], [0.3333333333333333, \"#9c179e\"], [0.4444444444444444, \"#bd3786\"], [0.5555555555555556, \"#d8576b\"], [0.6666666666666666, \"#ed7953\"], [0.7777777777777778, \"#fb9f3a\"], [0.8888888888888888, \"#fdca26\"], [1.0, \"#f0f921\"]], \"type\": \"heatmapgl\"}], \"histogram\": [{\"marker\": {\"colorbar\": {\"outlinewidth\": 0, \"ticks\": \"\"}}, \"type\": \"histogram\"}], \"histogram2d\": [{\"colorbar\": {\"outlinewidth\": 0, \"ticks\": \"\"}, \"colorscale\": [[0.0, \"#0d0887\"], [0.1111111111111111, \"#46039f\"], [0.2222222222222222, \"#7201a8\"], [0.3333333333333333, \"#9c179e\"], [0.4444444444444444, \"#bd3786\"], [0.5555555555555556, \"#d8576b\"], [0.6666666666666666, \"#ed7953\"], [0.7777777777777778, \"#fb9f3a\"], [0.8888888888888888, \"#fdca26\"], [1.0, \"#f0f921\"]], \"type\": \"histogram2d\"}], \"histogram2dcontour\": [{\"colorbar\": {\"outlinewidth\": 0, \"ticks\": \"\"}, \"colorscale\": [[0.0, \"#0d0887\"], [0.1111111111111111, \"#46039f\"], [0.2222222222222222, \"#7201a8\"], [0.3333333333333333, \"#9c179e\"], [0.4444444444444444, \"#bd3786\"], [0.5555555555555556, \"#d8576b\"], [0.6666666666666666, \"#ed7953\"], [0.7777777777777778, \"#fb9f3a\"], [0.8888888888888888, \"#fdca26\"], [1.0, \"#f0f921\"]], \"type\": \"histogram2dcontour\"}], \"mesh3d\": [{\"colorbar\": {\"outlinewidth\": 0, \"ticks\": \"\"}, \"type\": \"mesh3d\"}], \"parcoords\": [{\"line\": {\"colorbar\": {\"outlinewidth\": 0, \"ticks\": \"\"}}, \"type\": \"parcoords\"}], \"pie\": [{\"automargin\": true, \"type\": \"pie\"}], \"scatter\": [{\"marker\": {\"colorbar\": {\"outlinewidth\": 0, \"ticks\": \"\"}}, \"type\": \"scatter\"}], \"scatter3d\": [{\"line\": {\"colorbar\": {\"outlinewidth\": 0, \"ticks\": \"\"}}, \"marker\": {\"colorbar\": {\"outlinewidth\": 0, \"ticks\": \"\"}}, \"type\": \"scatter3d\"}], \"scattercarpet\": [{\"marker\": {\"colorbar\": {\"outlinewidth\": 0, \"ticks\": \"\"}}, \"type\": \"scattercarpet\"}], \"scattergeo\": [{\"marker\": {\"colorbar\": {\"outlinewidth\": 0, \"ticks\": \"\"}}, \"type\": \"scattergeo\"}], \"scattergl\": [{\"marker\": {\"colorbar\": {\"outlinewidth\": 0, \"ticks\": \"\"}}, \"type\": \"scattergl\"}], \"scattermapbox\": [{\"marker\": {\"colorbar\": {\"outlinewidth\": 0, \"ticks\": \"\"}}, \"type\": \"scattermapbox\"}], \"scatterpolar\": [{\"marker\": {\"colorbar\": {\"outlinewidth\": 0, \"ticks\": \"\"}}, \"type\": \"scatterpolar\"}], \"scatterpolargl\": [{\"marker\": {\"colorbar\": {\"outlinewidth\": 0, \"ticks\": \"\"}}, \"type\": \"scatterpolargl\"}], \"scatterternary\": [{\"marker\": {\"colorbar\": {\"outlinewidth\": 0, \"ticks\": \"\"}}, \"type\": \"scatterternary\"}], \"surface\": [{\"colorbar\": {\"outlinewidth\": 0, \"ticks\": \"\"}, \"colorscale\": [[0.0, \"#0d0887\"], [0.1111111111111111, \"#46039f\"], [0.2222222222222222, \"#7201a8\"], [0.3333333333333333, \"#9c179e\"], [0.4444444444444444, \"#bd3786\"], [0.5555555555555556, \"#d8576b\"], [0.6666666666666666, \"#ed7953\"], [0.7777777777777778, \"#fb9f3a\"], [0.8888888888888888, \"#fdca26\"], [1.0, \"#f0f921\"]], \"type\": \"surface\"}], \"table\": [{\"cells\": {\"fill\": {\"color\": \"#EBF0F8\"}, \"line\": {\"color\": \"white\"}}, \"header\": {\"fill\": {\"color\": \"#C8D4E3\"}, \"line\": {\"color\": \"white\"}}, \"type\": \"table\"}]}, \"layout\": {\"annotationdefaults\": {\"arrowcolor\": \"#2a3f5f\", \"arrowhead\": 0, \"arrowwidth\": 1}, \"autotypenumbers\": \"strict\", \"coloraxis\": {\"colorbar\": {\"outlinewidth\": 0, \"ticks\": \"\"}}, \"colorscale\": {\"diverging\": [[0, \"#8e0152\"], [0.1, \"#c51b7d\"], [0.2, \"#de77ae\"], [0.3, \"#f1b6da\"], [0.4, \"#fde0ef\"], [0.5, \"#f7f7f7\"], [0.6, \"#e6f5d0\"], [0.7, \"#b8e186\"], [0.8, \"#7fbc41\"], [0.9, \"#4d9221\"], [1, \"#276419\"]], \"sequential\": [[0.0, \"#0d0887\"], [0.1111111111111111, \"#46039f\"], [0.2222222222222222, \"#7201a8\"], [0.3333333333333333, \"#9c179e\"], [0.4444444444444444, \"#bd3786\"], [0.5555555555555556, \"#d8576b\"], [0.6666666666666666, \"#ed7953\"], [0.7777777777777778, \"#fb9f3a\"], [0.8888888888888888, \"#fdca26\"], [1.0, \"#f0f921\"]], \"sequentialminus\": [[0.0, \"#0d0887\"], [0.1111111111111111, \"#46039f\"], [0.2222222222222222, \"#7201a8\"], [0.3333333333333333, \"#9c179e\"], [0.4444444444444444, \"#bd3786\"], [0.5555555555555556, \"#d8576b\"], [0.6666666666666666, \"#ed7953\"], [0.7777777777777778, \"#fb9f3a\"], [0.8888888888888888, \"#fdca26\"], [1.0, \"#f0f921\"]]}, \"colorway\": [\"#636efa\", \"#EF553B\", \"#00cc96\", \"#ab63fa\", \"#FFA15A\", \"#19d3f3\", \"#FF6692\", \"#B6E880\", \"#FF97FF\", \"#FECB52\"], \"font\": {\"color\": \"#2a3f5f\"}, \"geo\": {\"bgcolor\": \"white\", \"lakecolor\": \"white\", \"landcolor\": \"#E5ECF6\", \"showlakes\": true, \"showland\": true, \"subunitcolor\": \"white\"}, \"hoverlabel\": {\"align\": \"left\"}, \"hovermode\": \"closest\", \"mapbox\": {\"style\": \"light\"}, \"paper_bgcolor\": \"white\", \"plot_bgcolor\": \"#E5ECF6\", \"polar\": {\"angularaxis\": {\"gridcolor\": \"white\", \"linecolor\": \"white\", \"ticks\": \"\"}, \"bgcolor\": \"#E5ECF6\", \"radialaxis\": {\"gridcolor\": \"white\", \"linecolor\": \"white\", \"ticks\": \"\"}}, \"scene\": {\"xaxis\": {\"backgroundcolor\": \"#E5ECF6\", \"gridcolor\": \"white\", \"gridwidth\": 2, \"linecolor\": \"white\", \"showbackground\": true, \"ticks\": \"\", \"zerolinecolor\": \"white\"}, \"yaxis\": {\"backgroundcolor\": \"#E5ECF6\", \"gridcolor\": \"white\", \"gridwidth\": 2, \"linecolor\": \"white\", \"showbackground\": true, \"ticks\": \"\", \"zerolinecolor\": \"white\"}, \"zaxis\": {\"backgroundcolor\": \"#E5ECF6\", \"gridcolor\": \"white\", \"gridwidth\": 2, \"linecolor\": \"white\", \"showbackground\": true, \"ticks\": \"\", \"zerolinecolor\": \"white\"}}, \"shapedefaults\": {\"line\": {\"color\": \"#2a3f5f\"}}, \"ternary\": {\"aaxis\": {\"gridcolor\": \"white\", \"linecolor\": \"white\", \"ticks\": \"\"}, \"baxis\": {\"gridcolor\": \"white\", \"linecolor\": \"white\", \"ticks\": \"\"}, \"bgcolor\": \"#E5ECF6\", \"caxis\": {\"gridcolor\": \"white\", \"linecolor\": \"white\", \"ticks\": \"\"}}, \"title\": {\"x\": 0.05}, \"xaxis\": {\"automargin\": true, \"gridcolor\": \"white\", \"linecolor\": \"white\", \"ticks\": \"\", \"title\": {\"standoff\": 15}, \"zerolinecolor\": \"white\", \"zerolinewidth\": 2}, \"yaxis\": {\"automargin\": true, \"gridcolor\": \"white\", \"linecolor\": \"white\", \"ticks\": \"\", \"title\": {\"standoff\": 15}, \"zerolinecolor\": \"white\", \"zerolinewidth\": 2}}}, \"title\": {\"text\": \"History\"}, \"xaxis\": {\"anchor\": \"y\", \"domain\": [0.0, 1.0], \"title\": {\"text\": \"epoch\"}}, \"yaxis\": {\"anchor\": \"x\", \"domain\": [0.0, 1.0], \"title\": {\"text\": \"MCRMSE\"}}},                        {\"responsive\": true}                    ).then(function(){\n                            \nvar gd = document.getElementById('40e1767e-8ea1-4dbd-bee8-84c167061018');\nvar x = new MutationObserver(function (mutations, observer) {{\n        var display = window.getComputedStyle(gd).display;\n        if (!display || display === 'none') {{\n            console.log([gd, 'removed!']);\n            Plotly.purge(gd);\n            observer.disconnect();\n        }}\n}});\n\n// Listen for the removal of the full notebook cells\nvar notebookContainer = gd.closest('#notebook-container');\nif (notebookContainer) {{\n    x.observe(notebookContainer, {childList: true});\n}}\n\n// Listen for the clearing of the current output cell\nvar outputEl = gd.closest('.output');\nif (outputEl) {{\n    x.observe(outputEl, {childList: true});\n}}\n\n                        })                };                            </script>        </div>\n</body>\n</html>"
     },
     "metadata": {},
     "output_type": "display_data"
    }
   ],
   "execution_count": null
  },
  {
   "cell_type": "markdown",
   "source": "# Loading models and making predictions",
   "metadata": {
    "cell_id": "00024-a1f7bee8-3504-4360-85fc-4943f1ca6121",
    "deepnote_cell_type": "markdown"
   }
  },
  {
   "cell_type": "markdown",
   "source": "Public and private sets have different sequence lengths, so we will preprocess them separately and load models of different tensor shapes. This is possible because RNN models can accept sequences of varying lengths as inputs.",
   "metadata": {
    "cell_id": "00025-0b36e50d-0ee8-4e86-ab97-06af57ac1114",
    "deepnote_cell_type": "markdown"
   }
  },
  {
   "cell_type": "markdown",
   "source": "If the length of the sequence of an id is, e.g., 107, then you should make 107 predictions. Positions greater than the seq_scored value of a sample are not scored, but still need a value in the solution file.\n\n| id_seqpos      | reactivity | deg_Mg_pH10 | deg_pH10 | deg_Mg_50C | deg_50C |\n|----------------|------------|-------------|----------|------------|---------|\n| id_00073f8be_0 | 0.1        | 0.3         | 0.2      | 0.5        | 0.4     |\n| id_00073f8be_1 | 0.3        | 0.2         | 0.5      | 0.4        | 0.2     |\n| id_00073f8be_2 | 0.5        | 0.4         | 0.2      | 0.1        | 0.2     |\n",
   "metadata": {
    "tags": [],
    "cell_id": "00052-bea62083-2f5c-4b6e-9752-db0708ef3849",
    "deepnote_cell_type": "markdown"
   }
  },
  {
   "cell_type": "markdown",
   "source": "## Loading weights",
   "metadata": {
    "tags": [],
    "cell_id": "00052-7271f652-30d7-45f9-8010-88fdff17778e",
    "deepnote_cell_type": "markdown"
   }
  },
  {
   "cell_type": "markdown",
   "source": "Prediction formate required by competition organizers, `seq_length` is similar to `pred_len` so we are also creating two models with different `seq_len` and `pred_len`. After that loading our saved weights into both models.",
   "metadata": {
    "tags": [],
    "cell_id": "00051-21c62596-f6dd-4a37-97b6-920027570454",
    "deepnote_cell_type": "markdown"
   }
  },
  {
   "cell_type": "code",
   "metadata": {
    "execution": {
     "iopub.status.busy": "2021-06-19T12:59:26.306110Z",
     "iopub.status.idle": "2021-06-19T12:59:26.306833Z"
    },
    "trusted": true,
    "cell_id": "00026-16ebd74f-b564-4646-a00d-59b4de278a05",
    "deepnote_to_be_reexecuted": false,
    "source_hash": "e64d477d",
    "execution_start": 1624285117917,
    "execution_millis": 2690,
    "deepnote_cell_type": "code"
   },
   "source": "model_public = build_model(seq_len=107, pred_len=107, embed_size=len(token2int))\nmodel_private = build_model(seq_len=130, pred_len=130, embed_size=len(token2int))\n\nmodel_public.load_weights(\"Model/model.h5\")\nmodel_private.load_weights(\"Model/model.h5\")\n",
   "outputs": [],
   "execution_count": null
  },
  {
   "cell_type": "markdown",
   "source": "## Prediction",
   "metadata": {
    "tags": [],
    "cell_id": "00055-c6b3ce27-c768-4606-824d-57f7b73c7b1d",
    "deepnote_cell_type": "markdown"
   }
  },
  {
   "cell_type": "code",
   "metadata": {
    "execution": {
     "iopub.status.busy": "2021-06-19T12:59:26.308171Z",
     "iopub.status.idle": "2021-06-19T12:59:26.308951Z"
    },
    "trusted": true,
    "cell_id": "00027-b8dd1ab4-1e9a-428d-a47c-bec8839aeb80",
    "deepnote_to_be_reexecuted": false,
    "source_hash": "1a7421be",
    "execution_start": 1624285120610,
    "execution_millis": 40457,
    "deepnote_cell_type": "code"
   },
   "source": "public_preds = model_public.predict(public_inputs)\nprivate_preds = model_private.predict(private_inputs)\n",
   "outputs": [],
   "execution_count": null
  },
  {
   "cell_type": "markdown",
   "source": "### Checking the output shape ",
   "metadata": {
    "tags": [],
    "cell_id": "00057-7d14661d-3c5c-4ff2-9832-baa62f614419",
    "deepnote_cell_type": "markdown"
   }
  },
  {
   "cell_type": "code",
   "metadata": {
    "tags": [],
    "cell_id": "00037-f9ee3b6d-b070-49d7-8205-7ed0b645d462",
    "deepnote_to_be_reexecuted": false,
    "source_hash": "b2e57d08",
    "execution_start": 1624285161112,
    "execution_millis": 7,
    "deepnote_cell_type": "code"
   },
   "source": "private_preds.shape",
   "outputs": [
    {
     "output_type": "execute_result",
     "execution_count": 23,
     "data": {
      "text/plain": "(3005, 130, 5)"
     },
     "metadata": {}
    }
   ],
   "execution_count": null
  },
  {
   "cell_type": "markdown",
   "source": "# Post-processing and submit",
   "metadata": {
    "cell_id": "00028-70ae740d-6b85-4a68-85be-045c277eac17",
    "deepnote_cell_type": "markdown"
   }
  },
  {
   "cell_type": "markdown",
   "source": "**Converting 3D numpy array into Dataframe:**\n- combining both **private(df,prediction )** and **public(df,prediction)** dataframe\n- Dividing unique id into 130 and 107 diferent samples `[id_00073f8be_0,id_00073f8be_1,id_00073f8be_2 ..]`\n- concating all of the data into 2D Dataframe and preparing for submission. \n",
   "metadata": {
    "cell_id": "00029-6defe67b-abec-424a-a5eb-40c10a542699",
    "deepnote_cell_type": "markdown"
   }
  },
  {
   "cell_type": "code",
   "metadata": {
    "execution": {
     "iopub.status.busy": "2021-06-19T12:59:26.310688Z",
     "iopub.status.idle": "2021-06-19T12:59:26.311688Z"
    },
    "trusted": true,
    "cell_id": "00030-6cedbb54-719e-494e-b962-af922998addc",
    "deepnote_to_be_reexecuted": false,
    "source_hash": "571c5418",
    "execution_start": 1624285161113,
    "execution_millis": 2589,
    "deepnote_cell_type": "code"
   },
   "source": "preds_ls = []\n\nfor df, preds in [(public_df, public_preds), (private_df, private_preds)]:\n    for i, uid in enumerate(df.id):\n\n        single_pred = preds[i]\n\n        single_df = pd.DataFrame(single_pred, columns=target_cols)\n        single_df[\"id_seqpos\"] = [f\"{uid}_{x}\" for x in range(single_df.shape[0])]\n\n        preds_ls.append(single_df)\n\npreds_df = pd.concat(preds_ls)\npreds_df.head()\n",
   "outputs": [
    {
     "output_type": "execute_result",
     "execution_count": 24,
     "data": {
      "application/vnd.deepnote.dataframe.v2+json": {
       "row_count": 5,
       "column_count": 6,
       "columns": [
        {
         "name": "reactivity",
         "dtype": "float32",
         "stats": {
          "unique_count": 5,
          "nan_count": 0,
          "min": "0.6857600212097168",
          "max": "2.1585545539855957",
          "histogram": [
           {
            "bin_start": 0.6857600212097168,
            "bin_end": 0.8330394625663757,
            "count": 1
           },
           {
            "bin_start": 0.8330394625663757,
            "bin_end": 0.9803189039230347,
            "count": 1
           },
           {
            "bin_start": 0.9803189039230347,
            "bin_end": 1.1275984048843384,
            "count": 0
           },
           {
            "bin_start": 1.1275984048843384,
            "bin_end": 1.2748777866363525,
            "count": 0
           },
           {
            "bin_start": 1.2748777866363525,
            "bin_end": 1.4221572875976562,
            "count": 1
           },
           {
            "bin_start": 1.4221572875976562,
            "bin_end": 1.56943678855896,
            "count": 1
           },
           {
            "bin_start": 1.56943678855896,
            "bin_end": 1.7167161703109741,
            "count": 0
           },
           {
            "bin_start": 1.7167161703109741,
            "bin_end": 1.8639956712722778,
            "count": 0
           },
           {
            "bin_start": 1.8639956712722778,
            "bin_end": 2.011275053024292,
            "count": 0
           },
           {
            "bin_start": 2.011275053024292,
            "bin_end": 2.1585545539855957,
            "count": 1
           }
          ]
         }
        },
        {
         "name": "deg_Mg_pH10",
         "dtype": "float32",
         "stats": {
          "unique_count": 5,
          "nan_count": 0,
          "min": "0.6708101034164429",
          "max": "3.24332857131958",
          "histogram": [
           {
            "bin_start": 0.6708101034164429,
            "bin_end": 0.9280619621276855,
            "count": 3
           },
           {
            "bin_start": 0.9280619621276855,
            "bin_end": 1.1853138208389282,
            "count": 0
           },
           {
            "bin_start": 1.1853138208389282,
            "bin_end": 1.442565679550171,
            "count": 1
           },
           {
            "bin_start": 1.442565679550171,
            "bin_end": 1.6998175382614136,
            "count": 0
           },
           {
            "bin_start": 1.6998175382614136,
            "bin_end": 1.9570693969726562,
            "count": 0
           },
           {
            "bin_start": 1.9570693969726562,
            "bin_end": 2.2143211364746094,
            "count": 0
           },
           {
            "bin_start": 2.2143211364746094,
            "bin_end": 2.4715731143951416,
            "count": 0
           },
           {
            "bin_start": 2.4715731143951416,
            "bin_end": 2.7288248538970947,
            "count": 0
           },
           {
            "bin_start": 2.7288248538970947,
            "bin_end": 2.986076831817627,
            "count": 0
           },
           {
            "bin_start": 2.986076831817627,
            "bin_end": 3.24332857131958,
            "count": 1
           }
          ]
         }
        },
        {
         "name": "deg_Mg_50C",
         "dtype": "float32",
         "stats": {
          "unique_count": 5,
          "nan_count": 0,
          "min": "0.5852879881858826",
          "max": "3.443042039871216",
          "histogram": [
           {
            "bin_start": 0.5852879881858826,
            "bin_end": 0.8710634112358093,
            "count": 2
           },
           {
            "bin_start": 0.8710634112358093,
            "bin_end": 1.1568387746810913,
            "count": 1
           },
           {
            "bin_start": 1.1568387746810913,
            "bin_end": 1.442614197731018,
            "count": 0
           },
           {
            "bin_start": 1.442614197731018,
            "bin_end": 1.7283896207809448,
            "count": 0
           },
           {
            "bin_start": 1.7283896207809448,
            "bin_end": 2.014164924621582,
            "count": 1
           },
           {
            "bin_start": 2.014164924621582,
            "bin_end": 2.299940347671509,
            "count": 0
           },
           {
            "bin_start": 2.299940347671509,
            "bin_end": 2.5857157707214355,
            "count": 0
           },
           {
            "bin_start": 2.5857157707214355,
            "bin_end": 2.8714911937713623,
            "count": 0
           },
           {
            "bin_start": 2.8714911937713623,
            "bin_end": 3.157266616821289,
            "count": 0
           },
           {
            "bin_start": 3.157266616821289,
            "bin_end": 3.443042039871216,
            "count": 1
           }
          ]
         }
        },
        {
         "name": "deg_pH10",
         "dtype": "float32",
         "stats": {
          "unique_count": 5,
          "nan_count": 0,
          "min": "0.5739189982414246",
          "max": "4.394708633422852",
          "histogram": [
           {
            "bin_start": 0.5739189982414246,
            "bin_end": 0.9559979438781738,
            "count": 2
           },
           {
            "bin_start": 0.9559979438781738,
            "bin_end": 1.3380769491195679,
            "count": 1
           },
           {
            "bin_start": 1.3380769491195679,
            "bin_end": 1.7201558351516724,
            "count": 0
           },
           {
            "bin_start": 1.7201558351516724,
            "bin_end": 2.1022348403930664,
            "count": 1
           },
           {
            "bin_start": 2.1022348403930664,
            "bin_end": 2.484313726425171,
            "count": 0
           },
           {
            "bin_start": 2.484313726425171,
            "bin_end": 2.8663928508758545,
            "count": 0
           },
           {
            "bin_start": 2.8663928508758545,
            "bin_end": 3.248471736907959,
            "count": 0
           },
           {
            "bin_start": 3.248471736907959,
            "bin_end": 3.6305506229400635,
            "count": 0
           },
           {
            "bin_start": 3.6305506229400635,
            "bin_end": 4.012629508972168,
            "count": 0
           },
           {
            "bin_start": 4.012629508972168,
            "bin_end": 4.394708633422852,
            "count": 1
           }
          ]
         }
        },
        {
         "name": "deg_50C",
         "dtype": "float32",
         "stats": {
          "unique_count": 5,
          "nan_count": 0,
          "min": "0.718278706073761",
          "max": "3.012129545211792",
          "histogram": [
           {
            "bin_start": 0.718278706073761,
            "bin_end": 0.9476637840270996,
            "count": 2
           },
           {
            "bin_start": 0.9476637840270996,
            "bin_end": 1.177048921585083,
            "count": 1
           },
           {
            "bin_start": 1.177048921585083,
            "bin_end": 1.4064339399337769,
            "count": 0
           },
           {
            "bin_start": 1.4064339399337769,
            "bin_end": 1.6358190774917603,
            "count": 0
           },
           {
            "bin_start": 1.6358190774917603,
            "bin_end": 1.865204095840454,
            "count": 1
           },
           {
            "bin_start": 1.865204095840454,
            "bin_end": 2.0945892333984375,
            "count": 0
           },
           {
            "bin_start": 2.0945892333984375,
            "bin_end": 2.323974370956421,
            "count": 0
           },
           {
            "bin_start": 2.323974370956421,
            "bin_end": 2.553359270095825,
            "count": 0
           },
           {
            "bin_start": 2.553359270095825,
            "bin_end": 2.7827444076538086,
            "count": 0
           },
           {
            "bin_start": 2.7827444076538086,
            "bin_end": 3.012129545211792,
            "count": 1
           }
          ]
         }
        },
        {
         "name": "id_seqpos",
         "dtype": "object",
         "stats": {
          "unique_count": 5,
          "nan_count": 0,
          "categories": [
           {
            "name": "id_00073f8be_0",
            "count": 1
           },
           {
            "name": "id_00073f8be_1",
            "count": 1
           },
           {
            "name": "3 others",
            "count": 3
           }
          ]
         }
        },
        {
         "name": "_deepnote_index_column",
         "dtype": "int64"
        }
       ],
       "rows_top": [
        {
         "reactivity": 0.6857600212097168,
         "deg_Mg_pH10": 0.703746497631073,
         "deg_Mg_50C": 0.5852879881858826,
         "deg_pH10": 1.8571784496307373,
         "deg_50C": 0.8085611462593079,
         "id_seqpos": "id_00073f8be_0",
         "_deepnote_index_column": 0
        },
        {
         "reactivity": 2.1585545539855957,
         "deg_Mg_pH10": 3.24332857131958,
         "deg_Mg_50C": 3.443042039871216,
         "deg_pH10": 4.394708633422852,
         "deg_50C": 3.012129545211792,
         "id_seqpos": "id_00073f8be_1",
         "_deepnote_index_column": 1
        },
        {
         "reactivity": 1.4322800636291504,
         "deg_Mg_pH10": 0.674403965473175,
         "deg_Mg_50C": 0.6725117564201355,
         "deg_pH10": 0.6623411178588867,
         "deg_50C": 0.718278706073761,
         "id_seqpos": "id_00073f8be_2",
         "_deepnote_index_column": 2
        },
        {
         "reactivity": 1.296234130859375,
         "deg_Mg_pH10": 1.3062080144882202,
         "deg_Mg_50C": 1.8987476825714111,
         "deg_pH10": 1.324560284614563,
         "deg_50C": 1.8271329402923584,
         "id_seqpos": "id_00073f8be_3",
         "_deepnote_index_column": 3
        },
        {
         "reactivity": 0.8511039018630981,
         "deg_Mg_pH10": 0.6708101034164429,
         "deg_Mg_50C": 0.971951961517334,
         "deg_pH10": 0.5739189982414246,
         "deg_50C": 0.9622052907943726,
         "id_seqpos": "id_00073f8be_4",
         "_deepnote_index_column": 4
        }
       ],
       "rows_bottom": null
      },
      "text/plain": "   reactivity  deg_Mg_pH10  deg_Mg_50C  deg_pH10   deg_50C       id_seqpos\n0    0.685760     0.703746    0.585288  1.857178  0.808561  id_00073f8be_0\n1    2.158555     3.243329    3.443042  4.394709  3.012130  id_00073f8be_1\n2    1.432280     0.674404    0.672512  0.662341  0.718279  id_00073f8be_2\n3    1.296234     1.306208    1.898748  1.324560  1.827133  id_00073f8be_3\n4    0.851104     0.670810    0.971952  0.573919  0.962205  id_00073f8be_4",
      "text/html": "<div>\n<style scoped>\n    .dataframe tbody tr th:only-of-type {\n        vertical-align: middle;\n    }\n\n    .dataframe tbody tr th {\n        vertical-align: top;\n    }\n\n    .dataframe thead th {\n        text-align: right;\n    }\n</style>\n<table border=\"1\" class=\"dataframe\">\n  <thead>\n    <tr style=\"text-align: right;\">\n      <th></th>\n      <th>reactivity</th>\n      <th>deg_Mg_pH10</th>\n      <th>deg_Mg_50C</th>\n      <th>deg_pH10</th>\n      <th>deg_50C</th>\n      <th>id_seqpos</th>\n    </tr>\n  </thead>\n  <tbody>\n    <tr>\n      <th>0</th>\n      <td>0.685760</td>\n      <td>0.703746</td>\n      <td>0.585288</td>\n      <td>1.857178</td>\n      <td>0.808561</td>\n      <td>id_00073f8be_0</td>\n    </tr>\n    <tr>\n      <th>1</th>\n      <td>2.158555</td>\n      <td>3.243329</td>\n      <td>3.443042</td>\n      <td>4.394709</td>\n      <td>3.012130</td>\n      <td>id_00073f8be_1</td>\n    </tr>\n    <tr>\n      <th>2</th>\n      <td>1.432280</td>\n      <td>0.674404</td>\n      <td>0.672512</td>\n      <td>0.662341</td>\n      <td>0.718279</td>\n      <td>id_00073f8be_2</td>\n    </tr>\n    <tr>\n      <th>3</th>\n      <td>1.296234</td>\n      <td>1.306208</td>\n      <td>1.898748</td>\n      <td>1.324560</td>\n      <td>1.827133</td>\n      <td>id_00073f8be_3</td>\n    </tr>\n    <tr>\n      <th>4</th>\n      <td>0.851104</td>\n      <td>0.670810</td>\n      <td>0.971952</td>\n      <td>0.573919</td>\n      <td>0.962205</td>\n      <td>id_00073f8be_4</td>\n    </tr>\n  </tbody>\n</table>\n</div>"
     },
     "metadata": {}
    }
   ],
   "execution_count": null
  },
  {
   "cell_type": "markdown",
   "source": "## Submission\nmergining our predicted dataframe on `id_seqpos` so that all the predicted values follows the same id. The Creating submission file",
   "metadata": {
    "tags": [],
    "cell_id": "00062-3099bde0-c8fd-4426-a5d4-f88c22fe4efb",
    "deepnote_cell_type": "markdown"
   }
  },
  {
   "cell_type": "code",
   "metadata": {
    "execution": {
     "iopub.status.busy": "2021-06-19T12:59:26.313371Z",
     "iopub.status.idle": "2021-06-19T12:59:26.314310Z"
    },
    "trusted": true,
    "cell_id": "00031-2643e197-abb2-4554-9be9-928c89f07e7d",
    "deepnote_to_be_reexecuted": false,
    "source_hash": "583cd46a",
    "execution_start": 1624285163693,
    "execution_millis": 2734,
    "deepnote_cell_type": "code"
   },
   "source": "submission = sample_df[[\"id_seqpos\"]].merge(preds_df, on=[\"id_seqpos\"])\nsubmission.to_csv(\"Submission/submission.csv\", index=False)\n",
   "outputs": [],
   "execution_count": null
  },
  {
   "cell_type": "markdown",
   "source": "### Observing submission file",
   "metadata": {
    "tags": [],
    "cell_id": "00064-5279b448-f133-4ef1-862f-7df70cc74392",
    "deepnote_cell_type": "markdown"
   }
  },
  {
   "cell_type": "code",
   "metadata": {
    "execution": {
     "iopub.status.busy": "2021-06-19T13:12:42.919147Z",
     "iopub.execute_input": "2021-06-19T13:12:42.919555Z",
     "iopub.status.idle": "2021-06-19T13:12:42.936704Z",
     "shell.execute_reply.started": "2021-06-19T13:12:42.919522Z",
     "shell.execute_reply": "2021-06-19T13:12:42.934848Z"
    },
    "trusted": true,
    "cell_id": "00032-56fe12ac-86b7-44d8-aaf4-4e94977836c5",
    "deepnote_to_be_reexecuted": false,
    "source_hash": "defecc0b",
    "execution_start": 1624285166441,
    "execution_millis": 18,
    "deepnote_cell_type": "code"
   },
   "source": "submission.head()",
   "outputs": [
    {
     "output_type": "execute_result",
     "execution_count": 26,
     "data": {
      "application/vnd.deepnote.dataframe.v2+json": {
       "row_count": 5,
       "column_count": 6,
       "columns": [
        {
         "name": "id_seqpos",
         "dtype": "object",
         "stats": {
          "unique_count": 5,
          "nan_count": 0,
          "categories": [
           {
            "name": "id_00073f8be_0",
            "count": 1
           },
           {
            "name": "id_00073f8be_1",
            "count": 1
           },
           {
            "name": "3 others",
            "count": 3
           }
          ]
         }
        },
        {
         "name": "reactivity",
         "dtype": "float32",
         "stats": {
          "unique_count": 5,
          "nan_count": 0,
          "min": "0.6857600212097168",
          "max": "2.1585545539855957",
          "histogram": [
           {
            "bin_start": 0.6857600212097168,
            "bin_end": 0.8330394625663757,
            "count": 1
           },
           {
            "bin_start": 0.8330394625663757,
            "bin_end": 0.9803189039230347,
            "count": 1
           },
           {
            "bin_start": 0.9803189039230347,
            "bin_end": 1.1275984048843384,
            "count": 0
           },
           {
            "bin_start": 1.1275984048843384,
            "bin_end": 1.2748777866363525,
            "count": 0
           },
           {
            "bin_start": 1.2748777866363525,
            "bin_end": 1.4221572875976562,
            "count": 1
           },
           {
            "bin_start": 1.4221572875976562,
            "bin_end": 1.56943678855896,
            "count": 1
           },
           {
            "bin_start": 1.56943678855896,
            "bin_end": 1.7167161703109741,
            "count": 0
           },
           {
            "bin_start": 1.7167161703109741,
            "bin_end": 1.8639956712722778,
            "count": 0
           },
           {
            "bin_start": 1.8639956712722778,
            "bin_end": 2.011275053024292,
            "count": 0
           },
           {
            "bin_start": 2.011275053024292,
            "bin_end": 2.1585545539855957,
            "count": 1
           }
          ]
         }
        },
        {
         "name": "deg_Mg_pH10",
         "dtype": "float32",
         "stats": {
          "unique_count": 5,
          "nan_count": 0,
          "min": "0.6708101034164429",
          "max": "3.24332857131958",
          "histogram": [
           {
            "bin_start": 0.6708101034164429,
            "bin_end": 0.9280619621276855,
            "count": 3
           },
           {
            "bin_start": 0.9280619621276855,
            "bin_end": 1.1853138208389282,
            "count": 0
           },
           {
            "bin_start": 1.1853138208389282,
            "bin_end": 1.442565679550171,
            "count": 1
           },
           {
            "bin_start": 1.442565679550171,
            "bin_end": 1.6998175382614136,
            "count": 0
           },
           {
            "bin_start": 1.6998175382614136,
            "bin_end": 1.9570693969726562,
            "count": 0
           },
           {
            "bin_start": 1.9570693969726562,
            "bin_end": 2.2143211364746094,
            "count": 0
           },
           {
            "bin_start": 2.2143211364746094,
            "bin_end": 2.4715731143951416,
            "count": 0
           },
           {
            "bin_start": 2.4715731143951416,
            "bin_end": 2.7288248538970947,
            "count": 0
           },
           {
            "bin_start": 2.7288248538970947,
            "bin_end": 2.986076831817627,
            "count": 0
           },
           {
            "bin_start": 2.986076831817627,
            "bin_end": 3.24332857131958,
            "count": 1
           }
          ]
         }
        },
        {
         "name": "deg_Mg_50C",
         "dtype": "float32",
         "stats": {
          "unique_count": 5,
          "nan_count": 0,
          "min": "0.5852879881858826",
          "max": "3.443042039871216",
          "histogram": [
           {
            "bin_start": 0.5852879881858826,
            "bin_end": 0.8710634112358093,
            "count": 2
           },
           {
            "bin_start": 0.8710634112358093,
            "bin_end": 1.1568387746810913,
            "count": 1
           },
           {
            "bin_start": 1.1568387746810913,
            "bin_end": 1.442614197731018,
            "count": 0
           },
           {
            "bin_start": 1.442614197731018,
            "bin_end": 1.7283896207809448,
            "count": 0
           },
           {
            "bin_start": 1.7283896207809448,
            "bin_end": 2.014164924621582,
            "count": 1
           },
           {
            "bin_start": 2.014164924621582,
            "bin_end": 2.299940347671509,
            "count": 0
           },
           {
            "bin_start": 2.299940347671509,
            "bin_end": 2.5857157707214355,
            "count": 0
           },
           {
            "bin_start": 2.5857157707214355,
            "bin_end": 2.8714911937713623,
            "count": 0
           },
           {
            "bin_start": 2.8714911937713623,
            "bin_end": 3.157266616821289,
            "count": 0
           },
           {
            "bin_start": 3.157266616821289,
            "bin_end": 3.443042039871216,
            "count": 1
           }
          ]
         }
        },
        {
         "name": "deg_pH10",
         "dtype": "float32",
         "stats": {
          "unique_count": 5,
          "nan_count": 0,
          "min": "0.5739189982414246",
          "max": "4.394708633422852",
          "histogram": [
           {
            "bin_start": 0.5739189982414246,
            "bin_end": 0.9559979438781738,
            "count": 2
           },
           {
            "bin_start": 0.9559979438781738,
            "bin_end": 1.3380769491195679,
            "count": 1
           },
           {
            "bin_start": 1.3380769491195679,
            "bin_end": 1.7201558351516724,
            "count": 0
           },
           {
            "bin_start": 1.7201558351516724,
            "bin_end": 2.1022348403930664,
            "count": 1
           },
           {
            "bin_start": 2.1022348403930664,
            "bin_end": 2.484313726425171,
            "count": 0
           },
           {
            "bin_start": 2.484313726425171,
            "bin_end": 2.8663928508758545,
            "count": 0
           },
           {
            "bin_start": 2.8663928508758545,
            "bin_end": 3.248471736907959,
            "count": 0
           },
           {
            "bin_start": 3.248471736907959,
            "bin_end": 3.6305506229400635,
            "count": 0
           },
           {
            "bin_start": 3.6305506229400635,
            "bin_end": 4.012629508972168,
            "count": 0
           },
           {
            "bin_start": 4.012629508972168,
            "bin_end": 4.394708633422852,
            "count": 1
           }
          ]
         }
        },
        {
         "name": "deg_50C",
         "dtype": "float32",
         "stats": {
          "unique_count": 5,
          "nan_count": 0,
          "min": "0.718278706073761",
          "max": "3.012129545211792",
          "histogram": [
           {
            "bin_start": 0.718278706073761,
            "bin_end": 0.9476637840270996,
            "count": 2
           },
           {
            "bin_start": 0.9476637840270996,
            "bin_end": 1.177048921585083,
            "count": 1
           },
           {
            "bin_start": 1.177048921585083,
            "bin_end": 1.4064339399337769,
            "count": 0
           },
           {
            "bin_start": 1.4064339399337769,
            "bin_end": 1.6358190774917603,
            "count": 0
           },
           {
            "bin_start": 1.6358190774917603,
            "bin_end": 1.865204095840454,
            "count": 1
           },
           {
            "bin_start": 1.865204095840454,
            "bin_end": 2.0945892333984375,
            "count": 0
           },
           {
            "bin_start": 2.0945892333984375,
            "bin_end": 2.323974370956421,
            "count": 0
           },
           {
            "bin_start": 2.323974370956421,
            "bin_end": 2.553359270095825,
            "count": 0
           },
           {
            "bin_start": 2.553359270095825,
            "bin_end": 2.7827444076538086,
            "count": 0
           },
           {
            "bin_start": 2.7827444076538086,
            "bin_end": 3.012129545211792,
            "count": 1
           }
          ]
         }
        },
        {
         "name": "_deepnote_index_column",
         "dtype": "int64"
        }
       ],
       "rows_top": [
        {
         "id_seqpos": "id_00073f8be_0",
         "reactivity": 0.6857600212097168,
         "deg_Mg_pH10": 0.703746497631073,
         "deg_Mg_50C": 0.5852879881858826,
         "deg_pH10": 1.8571784496307373,
         "deg_50C": 0.8085611462593079,
         "_deepnote_index_column": 0
        },
        {
         "id_seqpos": "id_00073f8be_1",
         "reactivity": 2.1585545539855957,
         "deg_Mg_pH10": 3.24332857131958,
         "deg_Mg_50C": 3.443042039871216,
         "deg_pH10": 4.394708633422852,
         "deg_50C": 3.012129545211792,
         "_deepnote_index_column": 1
        },
        {
         "id_seqpos": "id_00073f8be_2",
         "reactivity": 1.4322800636291504,
         "deg_Mg_pH10": 0.674403965473175,
         "deg_Mg_50C": 0.6725117564201355,
         "deg_pH10": 0.6623411178588867,
         "deg_50C": 0.718278706073761,
         "_deepnote_index_column": 2
        },
        {
         "id_seqpos": "id_00073f8be_3",
         "reactivity": 1.296234130859375,
         "deg_Mg_pH10": 1.3062080144882202,
         "deg_Mg_50C": 1.8987476825714111,
         "deg_pH10": 1.324560284614563,
         "deg_50C": 1.8271329402923584,
         "_deepnote_index_column": 3
        },
        {
         "id_seqpos": "id_00073f8be_4",
         "reactivity": 0.8511039018630981,
         "deg_Mg_pH10": 0.6708101034164429,
         "deg_Mg_50C": 0.971951961517334,
         "deg_pH10": 0.5739189982414246,
         "deg_50C": 0.9622052907943726,
         "_deepnote_index_column": 4
        }
       ],
       "rows_bottom": null
      },
      "text/plain": "        id_seqpos  reactivity  deg_Mg_pH10  deg_Mg_50C  deg_pH10   deg_50C\n0  id_00073f8be_0    0.685760     0.703746    0.585288  1.857178  0.808561\n1  id_00073f8be_1    2.158555     3.243329    3.443042  4.394709  3.012130\n2  id_00073f8be_2    1.432280     0.674404    0.672512  0.662341  0.718279\n3  id_00073f8be_3    1.296234     1.306208    1.898748  1.324560  1.827133\n4  id_00073f8be_4    0.851104     0.670810    0.971952  0.573919  0.962205",
      "text/html": "<div>\n<style scoped>\n    .dataframe tbody tr th:only-of-type {\n        vertical-align: middle;\n    }\n\n    .dataframe tbody tr th {\n        vertical-align: top;\n    }\n\n    .dataframe thead th {\n        text-align: right;\n    }\n</style>\n<table border=\"1\" class=\"dataframe\">\n  <thead>\n    <tr style=\"text-align: right;\">\n      <th></th>\n      <th>id_seqpos</th>\n      <th>reactivity</th>\n      <th>deg_Mg_pH10</th>\n      <th>deg_Mg_50C</th>\n      <th>deg_pH10</th>\n      <th>deg_50C</th>\n    </tr>\n  </thead>\n  <tbody>\n    <tr>\n      <th>0</th>\n      <td>id_00073f8be_0</td>\n      <td>0.685760</td>\n      <td>0.703746</td>\n      <td>0.585288</td>\n      <td>1.857178</td>\n      <td>0.808561</td>\n    </tr>\n    <tr>\n      <th>1</th>\n      <td>id_00073f8be_1</td>\n      <td>2.158555</td>\n      <td>3.243329</td>\n      <td>3.443042</td>\n      <td>4.394709</td>\n      <td>3.012130</td>\n    </tr>\n    <tr>\n      <th>2</th>\n      <td>id_00073f8be_2</td>\n      <td>1.432280</td>\n      <td>0.674404</td>\n      <td>0.672512</td>\n      <td>0.662341</td>\n      <td>0.718279</td>\n    </tr>\n    <tr>\n      <th>3</th>\n      <td>id_00073f8be_3</td>\n      <td>1.296234</td>\n      <td>1.306208</td>\n      <td>1.898748</td>\n      <td>1.324560</td>\n      <td>1.827133</td>\n    </tr>\n    <tr>\n      <th>4</th>\n      <td>id_00073f8be_4</td>\n      <td>0.851104</td>\n      <td>0.670810</td>\n      <td>0.971952</td>\n      <td>0.573919</td>\n      <td>0.962205</td>\n    </tr>\n  </tbody>\n</table>\n</div>"
     },
     "metadata": {}
    }
   ],
   "execution_count": null
  },
  {
   "cell_type": "markdown",
   "source": "## Private Score\nI got private score of 0.2723 which is quite better. This result was produced on **50** epochs. ",
   "metadata": {
    "tags": [],
    "cell_id": "00053-b715f625-5eb2-4e18-aa87-06150c545698",
    "deepnote_cell_type": "markdown"
   }
  },
  {
   "cell_type": "markdown",
   "source": "![Picture title](Images/image-20210621-190910.png)",
   "metadata": {
    "tags": [],
    "cell_id": "00067-ad98daee-5f9a-4c71-baaa-c46fc19e3e67",
    "deepnote_cell_type": "markdown"
   }
  },
  {
   "cell_type": "markdown",
   "source": "# Final Thoughts\nThis was a unique experience for me as I was dealing with JSON files with multiple arrays within single samples. Once I research it and figure out how to deal with the data, it became quite simple. I did a lot of EDA and Data Analysis in another notebook, also experimenting with multiple models but I wanted to keep this notebook clean and easy to understand with minimal layers used. My main goal was to produce a notebook with easy to understand coding format so that anyone even a beginner can understand and make some changes to produce an even better result than me. I would like to thank the Kaggle community for helping me figure out how to process the data and then used the best possible model which is also the simplest model. In the end, I just wanted to share how some time complex problems have simple solutions. ",
   "metadata": {
    "tags": [],
    "cell_id": "00068-0c87ab9a-016a-4d6d-92ad-9a6c67d43664",
    "deepnote_cell_type": "markdown"
   }
  },
  {
   "cell_type": "markdown",
   "source": "![](https://media.giphy.com/media/ybYTOunnNPGco/giphy.gif)",
   "metadata": {
    "tags": [],
    "cell_id": "00069-db71ef35-cecb-4bf4-a037-34eaa3597e29",
    "deepnote_cell_type": "markdown"
   }
  },
  {
   "cell_type": "markdown",
   "source": "# Addidional Data\n\n**How RNA vaccines work, and their issues, featuring Dr. Rhiju Das**\nhttps://www.pbs.org/wgbh/nova/video/rna-coronavirus-vaccine/\n\n**Launch of the OpenVaccine challenge**\nhttps://scopeblog.stanford.edu/2020/05/20/stanford-biochemist-works-with-gamers-to-develop-covid-19-vaccine/\n\n**The impossibility of mass immunization with current RNA vaccines**\nhttps://www.wsj.com/articles/from-freezer-farms-to-jets-logistics-operators-prepare-for-a-covid-19-vaccine-11598639012\n\n**CDC prepares for frozen mRNA vaccines**\nhttps://www.cdc.gov/vaccines/acip/meetings/downloads/slides-2020-08/COVID-08-Dooling.pdf\n\n**Eterna, the crowdsourcing platform for RNA design where OpenVaccine's RNA sequences are coming from**\n[https://eternagame.org](https://eternagame.org/)\n\n**How to build a better vaccine from the comfort of your own web browser**\nhttps://medium.com/eternaproject/how-to-build-a-better-vaccine-from-the-comfort-of-your-own-web-browser-233343e0210d",
   "metadata": {
    "tags": [],
    "cell_id": "00071-866a2778-f50a-4029-b1a3-c211f4b91951",
    "deepnote_cell_type": "markdown"
   }
  },
  {
   "cell_type": "markdown",
   "source": "<a style='text-decoration:none;line-height:16px;display:flex;color:#5B5B62;padding:10px;justify-content:end;' href='https://deepnote.com?utm_source=created-in-deepnote-cell&projectId=65ba96be-419c-4171-94df-ed5f0ea6fe7d' target=\"_blank\">\n<img alt='Created in deepnote.com' style='display:inline;max-height:16px;margin:0px;margin-right:7.5px;' src='data:image/svg+xml;base64,PD94bWwgdmVyc2lvbj0iMS4wIiBlbmNvZGluZz0iVVRGLTgiPz4KPHN2ZyB3aWR0aD0iODBweCIgaGVpZ2h0PSI4MHB4IiB2aWV3Qm94PSIwIDAgODAgODAiIHZlcnNpb249IjEuMSIgeG1sbnM9Imh0dHA6Ly93d3cudzMub3JnLzIwMDAvc3ZnIiB4bWxuczp4bGluaz0iaHR0cDovL3d3dy53My5vcmcvMTk5OS94bGluayI+CiAgICA8IS0tIEdlbmVyYXRvcjogU2tldGNoIDU0LjEgKDc2NDkwKSAtIGh0dHBzOi8vc2tldGNoYXBwLmNvbSAtLT4KICAgIDx0aXRsZT5Hcm91cCAzPC90aXRsZT4KICAgIDxkZXNjPkNyZWF0ZWQgd2l0aCBTa2V0Y2guPC9kZXNjPgogICAgPGcgaWQ9IkxhbmRpbmciIHN0cm9rZT0ibm9uZSIgc3Ryb2tlLXdpZHRoPSIxIiBmaWxsPSJub25lIiBmaWxsLXJ1bGU9ImV2ZW5vZGQiPgogICAgICAgIDxnIGlkPSJBcnRib2FyZCIgdHJhbnNmb3JtPSJ0cmFuc2xhdGUoLTEyMzUuMDAwMDAwLCAtNzkuMDAwMDAwKSI+CiAgICAgICAgICAgIDxnIGlkPSJHcm91cC0zIiB0cmFuc2Zvcm09InRyYW5zbGF0ZSgxMjM1LjAwMDAwMCwgNzkuMDAwMDAwKSI+CiAgICAgICAgICAgICAgICA8cG9seWdvbiBpZD0iUGF0aC0yMCIgZmlsbD0iIzAyNjVCNCIgcG9pbnRzPSIyLjM3NjIzNzYyIDgwIDM4LjA0NzY2NjcgODAgNTcuODIxNzgyMiA3My44MDU3NTkyIDU3LjgyMTc4MjIgMzIuNzU5MjczOSAzOS4xNDAyMjc4IDMxLjY4MzE2ODMiPjwvcG9seWdvbj4KICAgICAgICAgICAgICAgIDxwYXRoIGQ9Ik0zNS4wMDc3MTgsODAgQzQyLjkwNjIwMDcsNzYuNDU0OTM1OCA0Ny41NjQ5MTY3LDcxLjU0MjI2NzEgNDguOTgzODY2LDY1LjI2MTk5MzkgQzUxLjExMjI4OTksNTUuODQxNTg0MiA0MS42NzcxNzk1LDQ5LjIxMjIyODQgMjUuNjIzOTg0Niw0OS4yMTIyMjg0IEMyNS40ODQ5Mjg5LDQ5LjEyNjg0NDggMjkuODI2MTI5Niw0My4yODM4MjQ4IDM4LjY0NzU4NjksMzEuNjgzMTY4MyBMNzIuODcxMjg3MSwzMi41NTQ0MjUgTDY1LjI4MDk3Myw2Ny42NzYzNDIxIEw1MS4xMTIyODk5LDc3LjM3NjE0NCBMMzUuMDA3NzE4LDgwIFoiIGlkPSJQYXRoLTIyIiBmaWxsPSIjMDAyODY4Ij48L3BhdGg+CiAgICAgICAgICAgICAgICA8cGF0aCBkPSJNMCwzNy43MzA0NDA1IEwyNy4xMTQ1MzcsMC4yNTcxMTE0MzYgQzYyLjM3MTUxMjMsLTEuOTkwNzE3MDEgODAsMTAuNTAwMzkyNyA4MCwzNy43MzA0NDA1IEM4MCw2NC45NjA0ODgyIDY0Ljc3NjUwMzgsNzkuMDUwMzQxNCAzNC4zMjk1MTEzLDgwIEM0Ny4wNTUzNDg5LDc3LjU2NzA4MDggNTMuNDE4MjY3Nyw3MC4zMTM2MTAzIDUzLjQxODI2NzcsNTguMjM5NTg4NSBDNTMuNDE4MjY3Nyw0MC4xMjg1NTU3IDM2LjMwMzk1NDQsMzcuNzMwNDQwNSAyNS4yMjc0MTcsMzcuNzMwNDQwNSBDMTcuODQzMDU4NiwzNy43MzA0NDA1IDkuNDMzOTE5NjYsMzcuNzMwNDQwNSAwLDM3LjczMDQ0MDUgWiIgaWQ9IlBhdGgtMTkiIGZpbGw9IiMzNzkzRUYiPjwvcGF0aD4KICAgICAgICAgICAgPC9nPgogICAgICAgIDwvZz4KICAgIDwvZz4KPC9zdmc+' > </img>\nCreated in <span style='font-weight:600;margin-left:4px;'>Deepnote</span></a>",
   "metadata": {
    "tags": [],
    "created_in_deepnote_cell": true,
    "deepnote_cell_type": "markdown"
   }
  }
 ],
 "nbformat": 4,
 "nbformat_minor": 4,
 "metadata": {
  "kernelspec": {
   "language": "python",
   "display_name": "Python 3",
   "name": "python3"
  },
  "language_info": {
   "name": "python",
   "version": "3.7.6",
   "mimetype": "text/x-python",
   "codemirror_mode": {
    "name": "ipython",
    "version": 3
   },
   "pygments_lexer": "ipython3",
   "nbconvert_exporter": "python",
   "file_extension": ".py"
  },
  "deepnote_notebook_id": "1e08f282-efb2-4fde-a796-24b4d6ceaa46",
  "deepnote": {},
  "deepnote_execution_queue": []
 }
}